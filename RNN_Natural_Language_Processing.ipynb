{
  "nbformat": 4,
  "nbformat_minor": 0,
  "metadata": {
    "accelerator": "GPU",
    "colab": {
      "name": "Natural Language Processing",
      "provenance": [],
      "collapsed_sections": [
        "copyright",
        "Dex6HBiIZ4yh"
      ]
    },
    "kernelspec": {
      "display_name": "Python 3",
      "name": "python3"
    }
  },
  "cells": [
    {
      "cell_type": "markdown",
      "metadata": {
        "id": "copyright"
      },
      "source": [
        "#### Copyright 2020 Google LLC."
      ]
    },
    {
      "cell_type": "code",
      "metadata": {
        "id": "24p97VuTvYVT"
      },
      "source": [
        "# Licensed under the Apache License, Version 2.0 (the \"License\");\n",
        "# you may not use this file except in compliance with the License.\n",
        "# You may obtain a copy of the License at\n",
        "#\n",
        "# https://www.apache.org/licenses/LICENSE-2.0\n",
        "#\n",
        "# Unless required by applicable law or agreed to in writing, software\n",
        "# distributed under the License is distributed on an \"AS IS\" BASIS,\n",
        "# WITHOUT WARRANTIES OR CONDITIONS OF ANY KIND, either express or implied.\n",
        "# See the License for the specific language governing permissions and\n",
        "# limitations under the License."
      ],
      "execution_count": null,
      "outputs": []
    },
    {
      "cell_type": "markdown",
      "metadata": {
        "id": "CVmV0M74xwm7"
      },
      "source": [
        "# Natural Language Processing"
      ]
    },
    {
      "cell_type": "markdown",
      "metadata": {
        "id": "XuFjSsW53I9_"
      },
      "source": [
        "Look almost anywhere around you, and you'll see an application of natural language processing (NLP) at work. This broad field covers everything from spellcheck to translation between languages to full machine understanding of human language.\n",
        "\n",
        "In this lesson we'll work through the typical process of an NLP problem. We'll first use a bag-of-words approach to train a simple classifier model. Then we'll use a sequential approach (considering the order of words) to train an RNN model."
      ]
    },
    {
      "cell_type": "markdown",
      "metadata": {
        "id": "jk3COdKGIB7l"
      },
      "source": [
        "## Exploratory Data Analysis\n",
        "\n",
        "We will use the [Sentiment Labelled Sentences Data Set](https://archive.ics.uci.edu/ml/datasets/Sentiment+Labelled+Sentences) from the UCI Machine Learning Repository. This dataset was used in the paper 'From Group to Individual Labels using Deep Features,' Kotzias et. al., KDD 2015 and contains 3000 user reviews from IMDB, Amazon, and Yelp with the corresponding sentiment of each review (positive: 1 or negative: 0). This supervised problem of predicting sentiment is often called a \"sentiment analysis task.\""
      ]
    },
    {
      "cell_type": "markdown",
      "metadata": {
        "id": "Zu7rUHNXWBue"
      },
      "source": [
        "### Download the Data"
      ]
    },
    {
      "cell_type": "markdown",
      "metadata": {
        "id": "reZu0k-C1I0S"
      },
      "source": [
        "In order to get reproducible results for this lab, we'll first seed the random number generators."
      ]
    },
    {
      "cell_type": "code",
      "metadata": {
        "id": "PNHl0JpzQWZK"
      },
      "source": [
        "import numpy as np\n",
        "import tensorflow as tf\n",
        "\n",
        "np.random.seed(42)\n",
        "tf.random.set_seed(42)"
      ],
      "execution_count": null,
      "outputs": []
    },
    {
      "cell_type": "markdown",
      "metadata": {
        "id": "rg-lvIxS1VUb"
      },
      "source": [
        "Next we'll download and unzip the data."
      ]
    },
    {
      "cell_type": "code",
      "metadata": {
        "id": "kZXDE22TPKDI"
      },
      "source": [
        "import zipfile\n",
        "import io\n",
        "import shutil\n",
        "import os\n",
        "import urllib.request\n",
        "\n",
        "url = 'https://archive.ics.uci.edu/ml/machine-learning-databases/00331/sentiment%20labelled%20sentences.zip'\n",
        "\n",
        "# Download zip file from url.\n",
        "zipdata = io.BytesIO()\n",
        "zipdata.write(urllib.request.urlopen(url).read())\n",
        "\n",
        "# Extract zip files.\n",
        "zfile = zipfile.ZipFile(zipdata)\n",
        "zfile.extractall()\n",
        "zfile.close()\n",
        "\n",
        "# Rename directory to \"data\".\n",
        "shutil.rmtree('./data', ignore_errors=True)\n",
        "shutil.move('sentiment labelled sentences', 'data')\n",
        "\n",
        "os.listdir('data')"
      ],
      "execution_count": null,
      "outputs": []
    },
    {
      "cell_type": "markdown",
      "metadata": {
        "id": "ZcS-Oi6d1ZKq"
      },
      "source": [
        "There are three files that we'll use in our model: `amazon_cells_labelled.txt`, `imdb_labelled.txt`, and `yelp_labelled.txt`. As you can tell from the `_labelled` portion of the names, this will be a supervised learning problem."
      ]
    },
    {
      "cell_type": "markdown",
      "metadata": {
        "id": "u6NIquihWLYa"
      },
      "source": [
        "### Load the Data\n",
        "\n",
        "The downloaded data is split across three files: `amazon_cells_labelled.txt`, `imdb_labelled.txt`, and `yelp_labelled.txt`. Each file has two tab-separated columns, one containing the review text and one containing the sentiment label. Let's combine all the files into one DataFrame, and then get a sense of what the data looks like."
      ]
    },
    {
      "cell_type": "code",
      "metadata": {
        "id": "Q-bVLDn02AgU"
      },
      "source": [
        "import pandas as pd\n",
        "\n",
        "df = pd.DataFrame(columns=['review', 'label'])\n",
        "\n",
        "for file in sorted(os.listdir('data')):\n",
        "  if file.endswith('_labelled.txt'):\n",
        "    df = df.append(pd.read_csv(os.path.join('data', file), \n",
        "                               sep='\\t',\n",
        "                               names=['review', 'label']))\n",
        "\n",
        "df.describe()"
      ],
      "execution_count": null,
      "outputs": []
    },
    {
      "cell_type": "markdown",
      "metadata": {
        "id": "w131eFYj9j-N"
      },
      "source": [
        "Interesting. We were expecting `3000` data points, but only got `2748`. What's going on?\n",
        "\n",
        "It turns out that the IMDB data contains some rows with single double quotes. By default, when the parser sees double quotes, it stops performing a search for another tab until it finds a closing double quote. Since this quote is alone on the line, it causes the parser to \"eat\" quite a few lines of the data file, as illustrated by the code block below."
      ]
    },
    {
      "cell_type": "code",
      "metadata": {
        "id": "ZufwoBxC-h3t"
      },
      "source": [
        "df.iloc[1019]['review']"
      ],
      "execution_count": null,
      "outputs": []
    },
    {
      "cell_type": "markdown",
      "metadata": {
        "id": "J43aVTr2_OIb"
      },
      "source": [
        "In order to get around this, we need to tell the parser to turn off quote detection using the `quoting` argument. The possible values are:\n",
        "\n",
        "Value | Meaning\n",
        "------|----------\n",
        "0     | QUOTE_MINIMAL (default)\n",
        "1     | QUOTE_ALL\n",
        "2     | QUOTE_NONNUMERIC\n",
        "3     | QUOTE_NONE\n"
      ]
    },
    {
      "cell_type": "code",
      "metadata": {
        "id": "MPhL-XMd_FSn"
      },
      "source": [
        "import pandas as pd\n",
        "\n",
        "df = pd.DataFrame(columns=['review', 'label'])\n",
        "\n",
        "for file in sorted(os.listdir('data')):\n",
        "  if file.endswith('_labelled.txt'):\n",
        "    df = df.append(pd.read_csv(os.path.join('data', file), \n",
        "                               sep='\\t',\n",
        "                               names=['review', 'label'],\n",
        "                               quoting=3))\n",
        "\n",
        "df.describe()"
      ],
      "execution_count": null,
      "outputs": []
    },
    {
      "cell_type": "markdown",
      "metadata": {
        "id": "D_iiV63o_ljO"
      },
      "source": [
        "That looks much better. We got lucky that none of the reviews had embedded tabs, or they would have been quoted and our simple fix would not have worked.\n",
        "\n",
        "Notice that the `read_csv()` call didn't return an error when it encountered an unbalanced quote on a line. It happily loaded the file thinking that the quote was intentional and meant to make the data span multiple lines. *Always verify that the data you loaded looks like you expected it to!*"
      ]
    },
    {
      "cell_type": "markdown",
      "metadata": {
        "id": "taAdVw56APF7"
      },
      "source": [
        "Now let's look at a few of the reviews. The [documentation](https://archive.ics.uci.edu/ml/datasets/Sentiment+Labelled+Sentences) says that positive reviews are labelled with a `1` and negative with a `0`. Let's sample a few and see if we agree."
      ]
    },
    {
      "cell_type": "markdown",
      "metadata": {
        "id": "UGwdM1avAmxD"
      },
      "source": [
        "First the bad,"
      ]
    },
    {
      "cell_type": "code",
      "metadata": {
        "id": "kRPlO9svAZSu"
      },
      "source": [
        "df[df['label'] == 0].sample(10)"
      ],
      "execution_count": null,
      "outputs": []
    },
    {
      "cell_type": "markdown",
      "metadata": {
        "id": "6GJMMWjOAoXR"
      },
      "source": [
        "And then the good."
      ]
    },
    {
      "cell_type": "code",
      "metadata": {
        "id": "rprvFz4_Ajpc"
      },
      "source": [
        "df[df['label'] == 1].sample(10)"
      ],
      "execution_count": null,
      "outputs": []
    },
    {
      "cell_type": "markdown",
      "metadata": {
        "id": "SXuUvgTkAp0U"
      },
      "source": [
        "The sentiment seems to check out. This concludes the EDA that we'll do for this dataset. Let's move on to data preparation for the model."
      ]
    },
    {
      "cell_type": "markdown",
      "metadata": {
        "id": "aARHjVFdA3Gs"
      },
      "source": [
        "## Train/Test Split"
      ]
    },
    {
      "cell_type": "markdown",
      "metadata": {
        "id": "awhrphCCpc0m"
      },
      "source": [
        "We'll create two different models in this lab. Common to both is the need to split the dataset so that 80% is used for training and the other 20% is used for testing.\n"
      ]
    },
    {
      "cell_type": "code",
      "metadata": {
        "id": "CPz5DCClTOWQ"
      },
      "source": [
        "from sklearn.model_selection import train_test_split\n",
        "\n",
        "X_train, X_test, y_train, y_test = train_test_split(\n",
        "  df['review'], df['label'].astype('int'),\n",
        "  test_size=0.2, random_state=1000)\n",
        "\n",
        "print(len(X_train), len(X_test), len(y_train), len(y_test))"
      ],
      "execution_count": null,
      "outputs": []
    },
    {
      "cell_type": "markdown",
      "metadata": {
        "id": "BGMwjSleBaW0"
      },
      "source": [
        "The labels are simple `0` and `1` values, so we don't need to do any preprocessing there. The reviews themselves are variable length text strings. Each model will handle them slightly differently, so we'll save the model-specific preprocessing for when we encounter each model."
      ]
    },
    {
      "cell_type": "markdown",
      "metadata": {
        "id": "S7mnDwNQW5Y4"
      },
      "source": [
        "## Bag-of-Words Model"
      ]
    },
    {
      "cell_type": "markdown",
      "metadata": {
        "id": "01yjd6ejB6E1"
      },
      "source": [
        "We will first use a bag-of-words (BOW) approach to vectorize the sentences. This means we will consider each review as a \"bag of words,\" where the order of the words does not matter. Using this bag we'll try to assign sentiment to the review.\n",
        "\n",
        "In order to create the bags, we'll use scikit-learn's [`CountVectorizer`](https://scikit-learn.org/stable/modules/generated/sklearn.feature_extraction.text.CountVectorizer.html) class. The class converts a corpus of text into a sparse matrix that represents the counts of the number of times each word appears in the text.\n",
        "\n",
        "Before applying this to our dataset, let's make sure we understand what's going on. Say we have a couple of sentences that we want to vectorize. One about [bullied buffalo in Buffalo, NY](https://en.wikipedia.org/wiki/Buffalo_buffalo_Buffalo_buffalo_buffalo_buffalo_Buffalo_buffalo) and the other about their peers in Seattle, WA. We can count-vectorize the data, as shown in the code block below."
      ]
    },
    {
      "cell_type": "code",
      "metadata": {
        "id": "GbwJzLjBH3uW"
      },
      "source": [
        "from sklearn.feature_extraction.text import CountVectorizer\n",
        "\n",
        "data = [\n",
        "  \"Buffalo buffalo Buffalo buffalo buffalo buffalo Buffalo buffalo\",\n",
        "  \"Seattle buffalo Seattle buffalo buffalo buffalo Seattle buffalo\",\n",
        "]\n",
        "\n",
        "vectorizer = CountVectorizer(data)\n",
        "vectorizer.fit(data)\n",
        "\n",
        "data_vec = vectorizer.transform(data)\n",
        "\n",
        "print(data_vec)"
      ],
      "execution_count": null,
      "outputs": []
    },
    {
      "cell_type": "markdown",
      "metadata": {
        "id": "RVMu-guDK3JH"
      },
      "source": [
        "The resultant matrix is:\n",
        "\n",
        "Sentence | buffalo | seattle\n",
        "--|---------|--------\n",
        "\"Buffalo buffalo Buffalo buffalo buffalo buffalo Buffalo buffalo\" |    8    |    0\n",
        "\"Seattle buffalo Seattle buffalo buffalo buffalo Seattle buffalo\" |    5    |    3\n",
        "\n",
        "As you can see, the first sentence has eight instances of the word *buffalo* and no instances of *seattle*, while the second sentence has five *buffalo* and three *seattle*. Case does not matter, nor does context (used as a noun, verb, etc.). Only the letters count.\n",
        "\n",
        "The representation is a [sparse matrix](https://en.wikipedia.org/wiki/Sparse_matrix). In these two sentences consisting of two words, that seems a little strange. But if you think about the fact that there are currently almost `200,000` English words in use while the average sentence is less than `20` words, you can see why sparse matrices make sense here.\n"
      ]
    },
    {
      "cell_type": "markdown",
      "metadata": {
        "id": "B4niGgxbMkOJ"
      },
      "source": [
        "And what happens if the data we're transforming contains words we didn't fit the vectorizer to?"
      ]
    },
    {
      "cell_type": "code",
      "metadata": {
        "id": "2UmzNaWVMoBo"
      },
      "source": [
        "data = ['Buffalo Buffalo wings']\n",
        "\n",
        "data_vec = vectorizer.transform(data)\n",
        "\n",
        "\n",
        "print(data_vec)"
      ],
      "execution_count": null,
      "outputs": []
    },
    {
      "cell_type": "markdown",
      "metadata": {
        "id": "8NQQNjhEMxaX"
      },
      "source": [
        "Unknown words, such as 'wings' in this case, just don't appear in the matrix."
      ]
    },
    {
      "cell_type": "markdown",
      "metadata": {
        "id": "GIQ5moe1NWbW"
      },
      "source": [
        "Let's count-vectorize our training data and see how many words are in our vocabulary."
      ]
    },
    {
      "cell_type": "code",
      "metadata": {
        "id": "HrQ9vi7xFQfo"
      },
      "source": [
        "from sklearn.feature_extraction.text import CountVectorizer\n",
        "\n",
        "vectorizer = CountVectorizer()\n",
        "vectorizer.fit(X_train)\n",
        "\n",
        "len(vectorizer.vocabulary_)"
      ],
      "execution_count": null,
      "outputs": []
    },
    {
      "cell_type": "markdown",
      "metadata": {
        "id": "mWQShRy7NSrR"
      },
      "source": [
        "We can now transform our training data into a count vector and train a model. For a basic model, we'll use a logistic regression."
      ]
    },
    {
      "cell_type": "code",
      "metadata": {
        "id": "oax7EogMFhWT"
      },
      "source": [
        "from sklearn.linear_model import LogisticRegression\n",
        "\n",
        "model = LogisticRegression(solver='liblinear')\n",
        "X_train_vec = vectorizer.transform(X_train)\n",
        "model.fit(X_train_vec, y_train)\n",
        "\n",
        "print('Training accuracy: {}'.format(model.score(X_train_vec, y_train)))"
      ],
      "execution_count": null,
      "outputs": []
    },
    {
      "cell_type": "markdown",
      "metadata": {
        "id": "WctDYqtGNyr7"
      },
      "source": [
        "That is excellent training accuracy. Let's see how well it generalizes."
      ]
    },
    {
      "cell_type": "code",
      "metadata": {
        "id": "uIqyMEbxN2v9"
      },
      "source": [
        "X_test_vec = vectorizer.transform(X_test)\n",
        "print('Testing accuracy: {}'.format(model.score(X_test_vec, y_test)))"
      ],
      "execution_count": null,
      "outputs": []
    },
    {
      "cell_type": "markdown",
      "metadata": {
        "id": "MtJ2jKdKN6eG"
      },
      "source": [
        "It seems like our model might have overfit a bit. With over `97%` training accuracy and only `86%` testing accuracy, we likely need to work on making our model generalize better."
      ]
    },
    {
      "cell_type": "markdown",
      "metadata": {
        "id": "-Goq0Frawyuk"
      },
      "source": [
        "### Grammar"
      ]
    },
    {
      "cell_type": "markdown",
      "metadata": {
        "id": "7CLmex0HOh6g"
      },
      "source": [
        "So far we have only used a bag of words on raw words to train our model. That's fine in some cases since words are often grammatically in the same class. But what about when they are not? In our \"Buffalo buffalo...\" example, the same word was used to represent a mix of nouns, verbs, and other parts of speech. What if the number of adjectives or nouns or some other part of speech affected the sentiment of the review that we are classifying?\n",
        "\n",
        "We can test this by using a toolkit that classifies words in sentences, and then we feed those classifications into our model. In this section we'll use [spaCY](https://spacy.io/) to add metadata to our reviews and then pass the reviews and metadata through our model."
      ]
    },
    {
      "cell_type": "markdown",
      "metadata": {
        "id": "-JniWAfqQUBD"
      },
      "source": [
        "[spaCy](https://spacy.io) is a library for advanced NLP tools. It's built based on state-of-the-art research and designed to be efficient for industry use. spaCy is extremely useful for extracting more complex linguistic features from text. Another mature and popular Python NLP toolkit is [NLTK](https://www.nltk.org/), which is a bit more academic-oriented."
      ]
    },
    {
      "cell_type": "markdown",
      "metadata": {
        "id": "3dwcRnLuQZSa"
      },
      "source": [
        "We must specify a linguistic model for spaCy to use. For this exercise we'll use their \"medium-sized\" English language model. If you already have this model downloaded, you can skip to the `load` step below.\n",
        "\n",
        "**Note:** This is a large file, so it may take a few minutes to download and process."
      ]
    },
    {
      "cell_type": "code",
      "metadata": {
        "id": "euRZuE9MLHd0"
      },
      "source": [
        "!python -m spacy download en_core_web_md"
      ],
      "execution_count": null,
      "outputs": []
    },
    {
      "cell_type": "markdown",
      "metadata": {
        "id": "hpwgrPznQuVQ"
      },
      "source": [
        "After the model is downloaded, we can import it directly using a Python `import` statement. After the import we can load the model."
      ]
    },
    {
      "cell_type": "code",
      "metadata": {
        "id": "en6zi294NrUn"
      },
      "source": [
        "import en_core_web_md\n",
        "\n",
        "spacy_model = en_core_web_md.load()"
      ],
      "execution_count": null,
      "outputs": []
    },
    {
      "cell_type": "markdown",
      "metadata": {
        "id": "62Dz35jQRNIX"
      },
      "source": [
        "And now we can use spaCY to annotate our data. Let's look at one of our reviews:"
      ]
    },
    {
      "cell_type": "code",
      "metadata": {
        "id": "D_a7uTn-RItA"
      },
      "source": [
        "X_train.iloc[0]"
      ],
      "execution_count": null,
      "outputs": []
    },
    {
      "cell_type": "markdown",
      "metadata": {
        "id": "d6QuqWl0RVhh"
      },
      "source": [
        "We can then call spaCY directly and get information such as the part of speech of each word in our review.\n",
        "\n",
        "spaCy language models process raw text into a `Doc` object, which is a collection of `Token` objects. Each `Token` contains many useful [linguistic annotations](https://spacy.io/usage/linguistic-features). For example, `.text` stores the raw text of a `Token` and `.pos_` stores its Part of Speech (pos) tag.\n",
        "\n"
      ]
    },
    {
      "cell_type": "code",
      "metadata": {
        "id": "Pr5Rgh1tRGaL"
      },
      "source": [
        "tokens = spacy_model(X_train.iloc[0])\n",
        "for token in tokens:\n",
        "  print(token.text, token.pos_)"
      ],
      "execution_count": null,
      "outputs": []
    },
    {
      "cell_type": "markdown",
      "metadata": {
        "id": "0UnJKG4mR2hZ"
      },
      "source": [
        "Many of the annotations are obvious, such as **NOUN**, but others are less so. The [spaCY annotation documentation](https://spacy.io/api/annotation) is a good place to look if you are unsure about an annotation."
      ]
    },
    {
      "cell_type": "markdown",
      "metadata": {
        "id": "akEL_tANSLYG"
      },
      "source": [
        "So how do we actually add annotations to our reviews?\n",
        "\n",
        "Since we are using \"bag of words\" annotations at this point, we have a bit of flexibility. We could just add the spaCY output at the end of the sentence:\n",
        "\n",
        "```\n",
        "  the big dog jumps DET ADJ NOUN VERB\n",
        "```\n",
        "\n",
        "or we could add it after each word:\n",
        "\n",
        "```\n",
        "  the DET big ADJ dog NOUN jumps VERB\n",
        "```\n",
        "\n",
        "Functionally these are the same in \"bag of words\" models. Order and case don't matter. If the absolute number of adjectives matter or some other factor like that, then this type of feature engineering could be useful.\n",
        "\n",
        "What if it matters to us \"how\" a word was used, not just \"that\" a word was used? In this case we need to combine the grammar with the word.\n",
        "\n",
        "Let's create a function to do that."
      ]
    },
    {
      "cell_type": "code",
      "metadata": {
        "id": "lrVTFtb3TMJL"
      },
      "source": [
        "def add_pos_tags(reviews_raw):\n",
        "  reviews = []\n",
        "  for i, review in enumerate(reviews_raw):\n",
        "    tokens = spacy_model(review)\n",
        "    review_with_pos = []\n",
        "    for token in tokens:\n",
        "      review_with_pos.append(token.text+\"_\"+token.pos_)\n",
        "    reviews.append(' '.join(review_with_pos))\n",
        "  return reviews\n",
        "\n",
        "print(add_pos_tags(\"the big dog\"))"
      ],
      "execution_count": null,
      "outputs": []
    },
    {
      "cell_type": "markdown",
      "metadata": {
        "id": "m3orSj6uUWcD"
      },
      "source": [
        "Let's now apply this to our entire dataset."
      ]
    },
    {
      "cell_type": "code",
      "metadata": {
        "id": "KhW-TrHJHNj6"
      },
      "source": [
        "X_train_annotated = add_pos_tags(X_train)\n",
        "X_test_annotated = add_pos_tags(X_test)\n",
        "\n",
        "vectorizer = CountVectorizer()\n",
        "vectorizer.fit(X_train_annotated)\n",
        "\n",
        "X_train_vec = vectorizer.transform(X_train_annotated)\n",
        "X_test_vec = vectorizer.transform(X_test_annotated)\n",
        "\n",
        "print(X_train_annotated[0])"
      ],
      "execution_count": null,
      "outputs": []
    },
    {
      "cell_type": "code",
      "metadata": {
        "id": "btnG3mMoHTaM"
      },
      "source": [
        "from sklearn.linear_model import LogisticRegression\n",
        "\n",
        "model = LogisticRegression(solver='liblinear')\n",
        "model.fit(X_train_vec, y_train)\n",
        "\n",
        "print('Training accuracy: {}'.format(model.score(X_train_vec, y_train)))\n",
        "print('Testing accuracy: {}'.format(model.score(X_test_vec, y_test)))"
      ],
      "execution_count": null,
      "outputs": []
    },
    {
      "cell_type": "markdown",
      "metadata": {
        "id": "YhO3OKgoudYt"
      },
      "source": [
        "Our training accuracy really went up, but our testing accuracy went down. We are overfitting even more now.\n",
        "\n",
        "This isn't much of a surprise, but is interesting to see that adding even more context (features) can allow a model to fit even tighter than can be done with raw data."
      ]
    },
    {
      "cell_type": "markdown",
      "metadata": {
        "id": "w9Clq0KWL2dD"
      },
      "source": [
        "## Sequential Model"
      ]
    },
    {
      "cell_type": "markdown",
      "metadata": {
        "id": "f8DaPLm2tki9"
      },
      "source": [
        "Much of the meaning of language depends on the order of words: \"That movie was not really good\" is not quite the same as \"That movie was really not good.\" For more complicated NLP tasks, a bag-of-words approach does not capture enough useful information. In this section we will instead work with a Recurrent Neural Network (RNN) model, which is specifically designed to capture information about the order of sequences. "
      ]
    },
    {
      "cell_type": "markdown",
      "metadata": {
        "id": "GnTNKN6-IDf6"
      },
      "source": [
        "### Preprocessing\n",
        "\n",
        "We can't use `CountVectorizer` here, so we will need to do some slightly different preprocessing. We can first use the `keras` `Tokenizer` to learn a vocabulary, and then transform each review into a list of indices. Note that we will not include part-of-speech information for this model."
      ]
    },
    {
      "cell_type": "code",
      "metadata": {
        "id": "LfcdK_js_dQd"
      },
      "source": [
        "from tensorflow import keras\n",
        "\n",
        "tokenizer = keras.preprocessing.text.Tokenizer()\n",
        "tokenizer.fit_on_texts(X_train)\n",
        "\n",
        "X_train_tokenized = tokenizer.texts_to_sequences(X_train)\n",
        "X_test_tokenized = tokenizer.texts_to_sequences(X_test)\n",
        "\n",
        "print(X_train.iloc[0])\n",
        "print(X_train_tokenized[0])"
      ],
      "execution_count": null,
      "outputs": []
    },
    {
      "cell_type": "markdown",
      "metadata": {
        "id": "MpjwSl-cXioW"
      },
      "source": [
        "We need to pad our input so all vectors have the same length. A quick histogram of review lengths shows that almost all reviews have fewer than 100 words. Let's take a closer look at the distribution of lengths."
      ]
    },
    {
      "cell_type": "code",
      "metadata": {
        "id": "wxrSvmFVWnes"
      },
      "source": [
        "import matplotlib.pyplot as plt\n",
        "\n",
        "review_lengths = [len(review) for review in X_train]\n",
        "plt.hist(review_lengths, density=True)\n",
        "plt.show()"
      ],
      "execution_count": null,
      "outputs": []
    },
    {
      "cell_type": "markdown",
      "metadata": {
        "id": "TD1eYtMgKm_z"
      },
      "source": [
        "Almost all reviews have fewer than 50 words! Therefore, we will pad to a maximum review length of 50."
      ]
    },
    {
      "cell_type": "code",
      "metadata": {
        "id": "j2-Vzg7YpILj"
      },
      "source": [
        "maxlen = 50\n",
        "\n",
        "X_train_padded = keras.preprocessing.sequence.pad_sequences(\n",
        "    X_train_tokenized, padding='post', maxlen=maxlen)\n",
        "X_test_padded = keras.preprocessing.sequence.pad_sequences(\n",
        "    X_test_tokenized, padding='post', maxlen=maxlen)\n",
        "\n",
        "print(X_train_padded[0])"
      ],
      "execution_count": null,
      "outputs": []
    },
    {
      "cell_type": "markdown",
      "metadata": {
        "id": "i9g65GfQ920_"
      },
      "source": [
        "### Pre-Trained Word Embeddings\n",
        "\n",
        "Word embeddings are foundational to most NLP tasks. It's common to experiment with embeddings, feature extraction, or a combination of both to determine what works best with your specific data and problem.\n",
        "\n",
        "In practice, instead of training our own embeddings, we can often take advantage of existing embeddings that have already been trained. This is especially useful when we have a small dataset and want or need the richer meaning that comes from embeddings trained on a larger dataset. \n",
        "\n",
        "There are a variety of extensively pre-trained word embeddings. One of the most powerful and widely-used is [GloVe (Global Vectors for Word Representation)](https://nlp.stanford.edu/projects/glove/). Luckily for us, the spaCy model we downloaded is already integrated with 300-dimensional GloVe embeddings. "
      ]
    },
    {
      "cell_type": "markdown",
      "metadata": {
        "id": "Knn-312W921J"
      },
      "source": [
        "All we need to do is load these embeddings into an `embedding_matrix` so that each word index properly matches with the words in our dataset. We can access the `tokenizer`'s vocabulary using `.word_index`.\n",
        "\n",
        "*Note: This may take a few minutes to run.*\n"
      ]
    },
    {
      "cell_type": "code",
      "metadata": {
        "id": "9Y0-sVSeuCW6"
      },
      "source": [
        "# Include an extra index for the \"<PAD>\" token.\n",
        "vocab_size = len(tokenizer.word_index) + 1\n",
        "embedding_dim = 300\n",
        "embedding_matrix = np.zeros((vocab_size, embedding_dim))\n",
        "\n",
        "for word, i in tokenizer.word_index.items():\n",
        "  token = spacy_model(word)[0]\n",
        "  # Make sure spaCy has an embedding for this token.\n",
        "  if not token.is_oov:\n",
        "    embedding_matrix[i] = token.vector\n",
        "\n",
        "print(embedding_matrix.shape)"
      ],
      "execution_count": null,
      "outputs": []
    },
    {
      "cell_type": "markdown",
      "metadata": {
        "id": "NRgcHn2WMxwH"
      },
      "source": [
        "Loading the embeddings may take a little while to run. When it's done we'll have an `embedding_matrix` where each word index corresponds to a 300-dimensional GloVe vector. We can load this into an `Embedding` layer to train a model or visualize the embeddings.\n",
        "\n",
        "Also note that we have slightly more tokens now than from using `CountVectorizer`. This means that Keras' `Tokenizer` splits sentences into tokens using slightly different rules."
      ]
    },
    {
      "cell_type": "markdown",
      "metadata": {
        "id": "v2XyVjq4KBxv"
      },
      "source": [
        "### RNN Model"
      ]
    },
    {
      "cell_type": "markdown",
      "metadata": {
        "id": "JFw-Fd4YFZZR"
      },
      "source": [
        "This model will have three layers:\n",
        "\n",
        "1. `Embedding`\n",
        "\n",
        "   We initialize its weights using the `embedding_matrix` of pre-trained GloVe embeddings. We set `trainable=False` to prevent the weights from being updated during training. You can keep `trainable=True` to allow for additional training, or \"fine-tuning\", of these weights. We also set `mask_zero=True` to ensure we do not train parameters based on the `\"<PAD>\"` tokens.\n",
        "\n",
        "2. `LSTM` (Long Short-Term Memory)\n",
        "\n",
        "   This is a type of RNN architecture that is especially good at handling long sequences of information. This layer takes input of dimensions `(batch size, maxlen, embedding dimension)` and returns output of dimensions `(batch size, 64)`. A larger output size means a more complex model; we have chosen 64 after tuning based on model performance.\n",
        "\n",
        "3. `Dense`\n",
        "\n",
        "   A final layer to return a prediction of either positive or negative sentiment."
      ]
    },
    {
      "cell_type": "code",
      "metadata": {
        "id": "GXGR-ledW0KK"
      },
      "source": [
        "model = keras.Sequential([\n",
        "  keras.layers.Embedding(\n",
        "    vocab_size,\n",
        "    embedding_dim,\n",
        "    weights=[embedding_matrix],\n",
        "    trainable=False,\n",
        "    mask_zero=True\n",
        "  ),\n",
        "  keras.layers.LSTM(64),\n",
        "  keras.layers.Dense(1, activation='sigmoid')\n",
        "])\n",
        "\n",
        "model.summary()"
      ],
      "execution_count": null,
      "outputs": []
    },
    {
      "cell_type": "markdown",
      "metadata": {
        "id": "VbPiVaMfRnZm"
      },
      "source": [
        "We will train this model for 10 epochs since it is slower to train per epoch and reaches high training accuracy after 10 epochs. We use a batch size of 64 based on hyperparameter tuning."
      ]
    },
    {
      "cell_type": "code",
      "metadata": {
        "id": "Ios8hOAOr6dy"
      },
      "source": [
        "model.compile(\n",
        "  loss='binary_crossentropy',\n",
        "  optimizer='adam',\n",
        "  metrics=['accuracy']\n",
        ")\n",
        "\n",
        "history = model.fit(\n",
        "    X_train_padded,\n",
        "    y_train,\n",
        "    epochs=10,\n",
        "    batch_size=64\n",
        ")"
      ],
      "execution_count": null,
      "outputs": []
    },
    {
      "cell_type": "markdown",
      "metadata": {
        "id": "q-xT4yVcBQgH"
      },
      "source": [
        "And finally, we can evaluate the accuracy of the model on our test data."
      ]
    },
    {
      "cell_type": "code",
      "metadata": {
        "id": "1ZjxVWCUr7l7"
      },
      "source": [
        "loss, acc = model.evaluate(X_test_padded, y_test)\n",
        "print('Test accuracy: {}'.format(acc))"
      ],
      "execution_count": null,
      "outputs": []
    },
    {
      "cell_type": "markdown",
      "metadata": {
        "id": "rpSjxlrOeonH"
      },
      "source": [
        "Note that the final testing set accuracy is not significantly higher than that of our Logistic Regression model. We are using a complex model on a small dataset, which is prone to overfitting. You can usually achieve more generalizable results with a larger dataset."
      ]
    },
    {
      "cell_type": "markdown",
      "metadata": {
        "id": "SdqWCg3eLldl"
      },
      "source": [
        "# Exercise 1: A Tale of Two Authors"
      ]
    },
    {
      "cell_type": "markdown",
      "metadata": {
        "id": "7UzN5qJnJ8lG"
      },
      "source": [
        "In this exercise we will create a model that can determine if a paragraph was written by Jane Austen or Charles Dickens. We'll use a [dataset containing the works of the two authors](https://www.kaggle.com/joshmcadams/jane-austen-and-charles-dickens) sourced from [Project Gutenberg](https://www.gutenberg.org/).\n",
        "\n",
        "Your task is to download the data and build a classifier that can distinguish between the works of the two authors using techniques covered earlier in this lab. Experiment with different types of models, and see if you can build one that trains and generalizes well.\n",
        "\n",
        "Use as many text and code cells as you need. Be sure to explain your work."
      ]
    },
    {
      "cell_type": "markdown",
      "metadata": {
        "id": "eEVrX5IuZ0Vk"
      },
      "source": [
        "## **Student Solution**"
      ]
    },
    {
      "cell_type": "code",
      "metadata": {
        "id": "LPfOY0FGSVRx"
      },
      "source": [
        "import numpy as np\n",
        "import tensorflow as tf\n",
        "\n",
        "np.random.seed(42)\n",
        "tf.random.set_seed(42)"
      ],
      "execution_count": null,
      "outputs": []
    },
    {
      "cell_type": "code",
      "metadata": {
        "id": "jbFKVbMWZ2ZC",
        "colab": {
          "base_uri": "https://localhost:8080/"
        },
        "outputId": "2d98c1c3-d91a-44de-ad60-3c826c0c92c0"
      },
      "source": [
        "! ls ~/.kaggle\n",
        "! chmod 600 kaggle.json && (ls ~/.kaggle 2>/dev/null || mkdir ~/.kaggle) && mv kaggle.json ~/.kaggle/ && echo 'Done'\n",
        "! kaggle datasets download joshmcadams/jane-austin-and-charles-dickens/version/2\n",
        "! unzip jane-austin-and-charles-dickens.zip\n",
        "! ls"
      ],
      "execution_count": null,
      "outputs": [
        {
          "output_type": "stream",
          "text": [
            "Done\n",
            "Downloading jane-austin-and-charles-dickens.zip to /content\n",
            " 27% 5.00M/18.3M [00:00<00:00, 27.3MB/s]\n",
            "100% 18.3M/18.3M [00:00<00:00, 60.9MB/s]\n",
            "Archive:  jane-austin-and-charles-dickens.zip\n",
            "  inflating: austen.txt              \n",
            "  inflating: dickens.txt             \n",
            "austen.txt  dickens.txt  jane-austin-and-charles-dickens.zip  sample_data\n"
          ],
          "name": "stdout"
        }
      ]
    },
    {
      "cell_type": "code",
      "metadata": {
        "id": "uCIOvj-5RAyz",
        "colab": {
          "base_uri": "https://localhost:8080/"
        },
        "outputId": "306e48fb-893e-4887-aa12-f0db04d3eaae"
      },
      "source": [
        "import pandas as pd\n",
        "\n",
        "df = pd.DataFrame(columns=['text', 'author'])\n",
        "\n",
        "df = df.append(pd.read_csv('austen.txt', sep='\\n', names=['text', 'author']))\n",
        "df['author'] = 'austen'\n",
        "df = df.append(pd.read_csv('dickens.txt', sep='\\n', names=['text', 'author']))\n",
        "df.loc[df['author'].isna() == True, 'author'] = 'dickens'\n",
        "\n",
        "og = pd.DataFrame(columns=['text', 'author'])\n",
        "\n",
        "og = og.append(pd.read_csv('austen.txt', sep='\\n', names=['text', 'author']))\n",
        "og['author'] = 'austen'\n",
        "og = og.append(pd.read_csv('dickens.txt', sep='\\n', names=['text', 'author']))\n",
        "og.loc[og['author'].isna() == True, 'author'] = 'dickens'\n",
        "\n",
        "print(df.sample(10),\n",
        "      '\\n\\n',\n",
        "      og.sample(5))"
      ],
      "execution_count": null,
      "outputs": [
        {
          "output_type": "stream",
          "text": [
            "                                                     text   author\n",
            "8449    Elizabeth could hardly have failed to guess wh...   austen\n",
            "13250   It must be the grown-up people who have change...  dickens\n",
            "36714   Mr Brass had evidently a strong inclination to...  dickens\n",
            "102941  Yes, said Scrooge. \"That is my name, and I fea...  dickens\n",
            "91624   Well, sir, said the man, as he helped him out ...  dickens\n",
            "142453  I hardly know which was the better pleased, Tr...  dickens\n",
            "117579  About two years afterward, therefore, when War...  dickens\n",
            "11841   And so he'll have a shot at you, instead of an...  dickens\n",
            "45315   ‘Ha! ha! That was very good! So like Mr. Grann...  dickens\n",
            "25214   What do you think of _one_? cried Mrs. G. laug...  dickens \n",
            "\n",
            "                                                      text   author\n",
            "129383  AS we were going up-stairs, Mr. Pickwick put o...  dickens\n",
            "90482   “Cheap!” cried a shrill voice in Mr. Bumble’s ...  dickens\n",
            "15216   My lit-tle woman! says Mr. Snagsby, looking up...  dickens\n",
            "54455   ‘Shaving-water, Sam,’ said Mr. Pickwick, from ...  dickens\n",
            "11634   Noah stopped to make no reply, but started off...  dickens\n"
          ],
          "name": "stdout"
        }
      ]
    },
    {
      "cell_type": "code",
      "metadata": {
        "id": "bhF1XSrkVyfN",
        "colab": {
          "base_uri": "https://localhost:8080/",
          "height": 419
        },
        "outputId": "818afeb5-3a46-4ebf-9191-3efd2926685a"
      },
      "source": [
        "df.drop('author', axis=1, inplace=True)\n",
        "df = pd.concat([df, pd.get_dummies(og['author'])], axis=1)\n",
        "df"
      ],
      "execution_count": null,
      "outputs": [
        {
          "output_type": "execute_result",
          "data": {
            "text/html": [
              "<div>\n",
              "<style scoped>\n",
              "    .dataframe tbody tr th:only-of-type {\n",
              "        vertical-align: middle;\n",
              "    }\n",
              "\n",
              "    .dataframe tbody tr th {\n",
              "        vertical-align: top;\n",
              "    }\n",
              "\n",
              "    .dataframe thead th {\n",
              "        text-align: right;\n",
              "    }\n",
              "</style>\n",
              "<table border=\"1\" class=\"dataframe\">\n",
              "  <thead>\n",
              "    <tr style=\"text-align: right;\">\n",
              "      <th></th>\n",
              "      <th>text</th>\n",
              "      <th>austen</th>\n",
              "      <th>dickens</th>\n",
              "    </tr>\n",
              "  </thead>\n",
              "  <tbody>\n",
              "    <tr>\n",
              "      <th>0</th>\n",
              "      <td>ADVERTISEMENT BY THE AUTHORESS, TO NORTHANGER ...</td>\n",
              "      <td>1</td>\n",
              "      <td>0</td>\n",
              "    </tr>\n",
              "    <tr>\n",
              "      <th>1</th>\n",
              "      <td>THIS little work was finished in the year 1803...</td>\n",
              "      <td>1</td>\n",
              "      <td>0</td>\n",
              "    </tr>\n",
              "    <tr>\n",
              "      <th>2</th>\n",
              "      <td>No one who had ever seen Catherine Morland in ...</td>\n",
              "      <td>1</td>\n",
              "      <td>0</td>\n",
              "    </tr>\n",
              "    <tr>\n",
              "      <th>3</th>\n",
              "      <td>Such was Catherine Morland at ten. At fifteen,...</td>\n",
              "      <td>1</td>\n",
              "      <td>0</td>\n",
              "    </tr>\n",
              "    <tr>\n",
              "      <th>4</th>\n",
              "      <td>Mrs. Morland was a very good woman, and wished...</td>\n",
              "      <td>1</td>\n",
              "      <td>0</td>\n",
              "    </tr>\n",
              "    <tr>\n",
              "      <th>...</th>\n",
              "      <td>...</td>\n",
              "      <td>...</td>\n",
              "      <td>...</td>\n",
              "    </tr>\n",
              "    <tr>\n",
              "      <th>145575</th>\n",
              "      <td>I think, returned the Tinker, as he turned fro...</td>\n",
              "      <td>0</td>\n",
              "      <td>1</td>\n",
              "    </tr>\n",
              "    <tr>\n",
              "      <th>145576</th>\n",
              "      <td>I think so too; though not, I hope, upon mysel...</td>\n",
              "      <td>0</td>\n",
              "      <td>1</td>\n",
              "    </tr>\n",
              "    <tr>\n",
              "      <th>145577</th>\n",
              "      <td>That's my direct way, sir, said the Tinker.</td>\n",
              "      <td>0</td>\n",
              "      <td>1</td>\n",
              "    </tr>\n",
              "    <tr>\n",
              "      <th>145578</th>\n",
              "      <td>I invite you to supper there.  And as I learn ...</td>\n",
              "      <td>0</td>\n",
              "      <td>1</td>\n",
              "    </tr>\n",
              "    <tr>\n",
              "      <th>145579</th>\n",
              "      <td>So, Mr. Traveller, and the child, and the Tink...</td>\n",
              "      <td>0</td>\n",
              "      <td>1</td>\n",
              "    </tr>\n",
              "  </tbody>\n",
              "</table>\n",
              "<p>158175 rows × 3 columns</p>\n",
              "</div>"
            ],
            "text/plain": [
              "                                                     text  austen  dickens\n",
              "0       ADVERTISEMENT BY THE AUTHORESS, TO NORTHANGER ...       1        0\n",
              "1       THIS little work was finished in the year 1803...       1        0\n",
              "2       No one who had ever seen Catherine Morland in ...       1        0\n",
              "3       Such was Catherine Morland at ten. At fifteen,...       1        0\n",
              "4       Mrs. Morland was a very good woman, and wished...       1        0\n",
              "...                                                   ...     ...      ...\n",
              "145575  I think, returned the Tinker, as he turned fro...       0        1\n",
              "145576  I think so too; though not, I hope, upon mysel...       0        1\n",
              "145577       That's my direct way, sir, said the Tinker.        0        1\n",
              "145578  I invite you to supper there.  And as I learn ...       0        1\n",
              "145579  So, Mr. Traveller, and the child, and the Tink...       0        1\n",
              "\n",
              "[158175 rows x 3 columns]"
            ]
          },
          "metadata": {},
          "execution_count": 6
        }
      ]
    },
    {
      "cell_type": "code",
      "metadata": {
        "id": "tJ9mDiugdCsJ",
        "colab": {
          "base_uri": "https://localhost:8080/"
        },
        "outputId": "5a22657f-4366-4360-b548-9367070ff558"
      },
      "source": [
        "from sklearn.model_selection import train_test_split\n",
        "\n",
        "X_train, X_test, y_train, y_test = train_test_split(\n",
        "  df['text'], df['austen'],\n",
        "  test_size=0.2, random_state=1000)\n",
        "\n",
        "print(len(X_train), len(X_test), len(y_train), len(y_test))"
      ],
      "execution_count": null,
      "outputs": [
        {
          "output_type": "stream",
          "text": [
            "126540 31635 126540 31635\n"
          ],
          "name": "stdout"
        }
      ]
    },
    {
      "cell_type": "code",
      "metadata": {
        "id": "DT4HZo3Xf7hr",
        "colab": {
          "base_uri": "https://localhost:8080/"
        },
        "outputId": "b3b6714b-5b4c-4c9d-d32f-4676ad5efc88"
      },
      "source": [
        "from tensorflow import keras\n",
        "\n",
        "tokenizer = keras.preprocessing.text.Tokenizer()\n",
        "tokenizer.fit_on_texts(X_train)\n",
        "\n",
        "X_train_tokenized = tokenizer.texts_to_sequences(X_train)\n",
        "X_test_tokenized = tokenizer.texts_to_sequences(X_test)\n",
        "\n",
        "print(X_train.iloc[0])\n",
        "print(X_train_tokenized[0])\n",
        "\n",
        "maxlen = 2000\n",
        "\n",
        "X_train_padded = keras.preprocessing.sequence.pad_sequences(\n",
        "    X_train_tokenized, padding='post', maxlen=maxlen)\n",
        "X_test_padded = keras.preprocessing.sequence.pad_sequences(\n",
        "    X_test_tokenized, padding='post', maxlen=maxlen)\n",
        "\n",
        "print(X_train_padded[0])"
      ],
      "execution_count": null,
      "outputs": [
        {
          "output_type": "stream",
          "text": [
            "As the coachman only laughed, and as Tom was curious himself, he unpacked it, and put the articles, one by one, upon the footboard. A cold roast fowl, a packet of ham in slices, a crusty loaf, a piece of cheese, a paper of biscuits, half a dozen apples, a knife, some butter, a screw of salt, and a bottle of old sherry. There was a letter besides, which Tom put in his pocket. \n",
            "[16, 1, 2284, 109, 742, 2, 16, 346, 8, 1038, 95, 10, 15152, 12, 2, 175, 1, 1755, 47, 32, 47, 59, 1, 15153, 5, 386, 5404, 6413, 5, 3556, 3, 1887, 6, 9489, 5, 18027, 4573, 5, 606, 3, 3635, 5, 581, 3, 10488, 184, 5, 997, 5006, 5, 1635, 70, 2779, 5, 5714, 3, 4352, 2, 5, 945, 3, 71, 5072, 45, 8, 5, 363, 706, 34, 346, 175, 6, 11, 452]\n",
            "[  16    1 2284 ...    0    0    0]\n"
          ],
          "name": "stdout"
        }
      ]
    },
    {
      "cell_type": "code",
      "metadata": {
        "id": "jHr2SN2VS2ID",
        "colab": {
          "base_uri": "https://localhost:8080/"
        },
        "outputId": "0535ad0b-3809-4462-b0b4-dcc9dcd240e5"
      },
      "source": [
        "!python -m spacy download en_core_web_md\n",
        "import en_core_web_md\n",
        "spacy_model = en_core_web_md.load()"
      ],
      "execution_count": null,
      "outputs": [
        {
          "output_type": "stream",
          "text": [
            "Collecting en_core_web_md==2.2.5\n",
            "  Downloading https://github.com/explosion/spacy-models/releases/download/en_core_web_md-2.2.5/en_core_web_md-2.2.5.tar.gz (96.4 MB)\n",
            "\u001b[K     |████████████████████████████████| 96.4 MB 1.1 MB/s \n",
            "\u001b[?25hRequirement already satisfied: spacy>=2.2.2 in /usr/local/lib/python3.7/dist-packages (from en_core_web_md==2.2.5) (2.2.4)\n",
            "Requirement already satisfied: catalogue<1.1.0,>=0.0.7 in /usr/local/lib/python3.7/dist-packages (from spacy>=2.2.2->en_core_web_md==2.2.5) (1.0.0)\n",
            "Requirement already satisfied: thinc==7.4.0 in /usr/local/lib/python3.7/dist-packages (from spacy>=2.2.2->en_core_web_md==2.2.5) (7.4.0)\n",
            "Requirement already satisfied: numpy>=1.15.0 in /usr/local/lib/python3.7/dist-packages (from spacy>=2.2.2->en_core_web_md==2.2.5) (1.19.5)\n",
            "Requirement already satisfied: plac<1.2.0,>=0.9.6 in /usr/local/lib/python3.7/dist-packages (from spacy>=2.2.2->en_core_web_md==2.2.5) (1.1.3)\n",
            "Requirement already satisfied: srsly<1.1.0,>=1.0.2 in /usr/local/lib/python3.7/dist-packages (from spacy>=2.2.2->en_core_web_md==2.2.5) (1.0.5)\n",
            "Requirement already satisfied: tqdm<5.0.0,>=4.38.0 in /usr/local/lib/python3.7/dist-packages (from spacy>=2.2.2->en_core_web_md==2.2.5) (4.62.0)\n",
            "Requirement already satisfied: setuptools in /usr/local/lib/python3.7/dist-packages (from spacy>=2.2.2->en_core_web_md==2.2.5) (57.4.0)\n",
            "Requirement already satisfied: murmurhash<1.1.0,>=0.28.0 in /usr/local/lib/python3.7/dist-packages (from spacy>=2.2.2->en_core_web_md==2.2.5) (1.0.5)\n",
            "Requirement already satisfied: requests<3.0.0,>=2.13.0 in /usr/local/lib/python3.7/dist-packages (from spacy>=2.2.2->en_core_web_md==2.2.5) (2.23.0)\n",
            "Requirement already satisfied: wasabi<1.1.0,>=0.4.0 in /usr/local/lib/python3.7/dist-packages (from spacy>=2.2.2->en_core_web_md==2.2.5) (0.8.2)\n",
            "Requirement already satisfied: preshed<3.1.0,>=3.0.2 in /usr/local/lib/python3.7/dist-packages (from spacy>=2.2.2->en_core_web_md==2.2.5) (3.0.5)\n",
            "Requirement already satisfied: cymem<2.1.0,>=2.0.2 in /usr/local/lib/python3.7/dist-packages (from spacy>=2.2.2->en_core_web_md==2.2.5) (2.0.5)\n",
            "Requirement already satisfied: blis<0.5.0,>=0.4.0 in /usr/local/lib/python3.7/dist-packages (from spacy>=2.2.2->en_core_web_md==2.2.5) (0.4.1)\n",
            "Requirement already satisfied: importlib-metadata>=0.20 in /usr/local/lib/python3.7/dist-packages (from catalogue<1.1.0,>=0.0.7->spacy>=2.2.2->en_core_web_md==2.2.5) (4.6.4)\n",
            "Requirement already satisfied: typing-extensions>=3.6.4 in /usr/local/lib/python3.7/dist-packages (from importlib-metadata>=0.20->catalogue<1.1.0,>=0.0.7->spacy>=2.2.2->en_core_web_md==2.2.5) (3.7.4.3)\n",
            "Requirement already satisfied: zipp>=0.5 in /usr/local/lib/python3.7/dist-packages (from importlib-metadata>=0.20->catalogue<1.1.0,>=0.0.7->spacy>=2.2.2->en_core_web_md==2.2.5) (3.5.0)\n",
            "Requirement already satisfied: idna<3,>=2.5 in /usr/local/lib/python3.7/dist-packages (from requests<3.0.0,>=2.13.0->spacy>=2.2.2->en_core_web_md==2.2.5) (2.10)\n",
            "Requirement already satisfied: urllib3!=1.25.0,!=1.25.1,<1.26,>=1.21.1 in /usr/local/lib/python3.7/dist-packages (from requests<3.0.0,>=2.13.0->spacy>=2.2.2->en_core_web_md==2.2.5) (1.24.3)\n",
            "Requirement already satisfied: chardet<4,>=3.0.2 in /usr/local/lib/python3.7/dist-packages (from requests<3.0.0,>=2.13.0->spacy>=2.2.2->en_core_web_md==2.2.5) (3.0.4)\n",
            "Requirement already satisfied: certifi>=2017.4.17 in /usr/local/lib/python3.7/dist-packages (from requests<3.0.0,>=2.13.0->spacy>=2.2.2->en_core_web_md==2.2.5) (2021.5.30)\n",
            "Building wheels for collected packages: en-core-web-md\n",
            "  Building wheel for en-core-web-md (setup.py) ... \u001b[?25l\u001b[?25hdone\n",
            "  Created wheel for en-core-web-md: filename=en_core_web_md-2.2.5-py3-none-any.whl size=98051302 sha256=8ed6a66b194e3d2c68ea25d46a90468fdaea3a9252c4fbd8cb01a886cb25ae08\n",
            "  Stored in directory: /tmp/pip-ephem-wheel-cache-rx5levpv/wheels/69/c5/b8/4f1c029d89238734311b3269762ab2ee325a42da2ce8edb997\n",
            "Successfully built en-core-web-md\n",
            "Installing collected packages: en-core-web-md\n",
            "Successfully installed en-core-web-md-2.2.5\n",
            "\u001b[38;5;2m✔ Download and installation successful\u001b[0m\n",
            "You can now load the model via spacy.load('en_core_web_md')\n"
          ],
          "name": "stdout"
        }
      ]
    },
    {
      "cell_type": "code",
      "metadata": {
        "id": "ZQeXtunChzjV",
        "colab": {
          "base_uri": "https://localhost:8080/"
        },
        "outputId": "e719e467-5701-435a-d60e-714a8f90428c"
      },
      "source": [
        "# Include an extra index for the \"<PAD>\" token.\n",
        "vocab_size = len(tokenizer.word_index) + 1\n",
        "embedding_dim = 300\n",
        "embedding_matrix = np.zeros((vocab_size, embedding_dim))\n",
        "\n",
        "for word, i in tokenizer.word_index.items():\n",
        "  token = spacy_model(word)[0]\n",
        "  # Make sure spaCy has an embedding for this token.\n",
        "  if not token.is_oov:\n",
        "    embedding_matrix[i] = token.vector\n",
        "\n",
        "print(embedding_matrix.shape)"
      ],
      "execution_count": null,
      "outputs": [
        {
          "output_type": "stream",
          "text": [
            "(72009, 300)\n"
          ],
          "name": "stdout"
        }
      ]
    },
    {
      "cell_type": "code",
      "metadata": {
        "id": "dnZvUhPkh6x0",
        "colab": {
          "base_uri": "https://localhost:8080/"
        },
        "outputId": "f36df02c-3551-446a-eff5-1050521a2428"
      },
      "source": [
        "model = keras.Sequential([\n",
        "  keras.layers.Embedding(\n",
        "    vocab_size,\n",
        "    embedding_dim,\n",
        "    weights=[embedding_matrix],\n",
        "    trainable=False,\n",
        "    mask_zero=True\n",
        "  ),\n",
        "  keras.layers.LSTM(64),\n",
        "  keras.layers.Dense(1, activation='sigmoid')\n",
        "])\n",
        "\n",
        "model.summary()"
      ],
      "execution_count": null,
      "outputs": [
        {
          "output_type": "stream",
          "text": [
            "Model: \"sequential\"\n",
            "_________________________________________________________________\n",
            "Layer (type)                 Output Shape              Param #   \n",
            "=================================================================\n",
            "embedding (Embedding)        (None, None, 300)         21602700  \n",
            "_________________________________________________________________\n",
            "lstm (LSTM)                  (None, 64)                93440     \n",
            "_________________________________________________________________\n",
            "dense (Dense)                (None, 1)                 65        \n",
            "=================================================================\n",
            "Total params: 21,696,205\n",
            "Trainable params: 93,505\n",
            "Non-trainable params: 21,602,700\n",
            "_________________________________________________________________\n"
          ],
          "name": "stdout"
        }
      ]
    },
    {
      "cell_type": "code",
      "metadata": {
        "id": "9dHvtgwBh-M3",
        "colab": {
          "base_uri": "https://localhost:8080/"
        },
        "outputId": "e6aaa14f-cc78-42f2-eb23-8a55d40787fc"
      },
      "source": [
        "model.compile(\n",
        "  loss='binary_crossentropy',\n",
        "  optimizer='adam',\n",
        "  metrics=['accuracy']\n",
        ")\n",
        "\n",
        "history = model.fit(\n",
        "    X_train_padded,\n",
        "    y_train,\n",
        "    epochs=10,\n",
        "    batch_size=32\n",
        ")"
      ],
      "execution_count": null,
      "outputs": [
        {
          "output_type": "stream",
          "text": [
            "Epoch 1/10\n",
            "3955/3955 [==============================] - 76s 17ms/step - loss: 0.1214 - accuracy: 0.9542\n",
            "Epoch 2/10\n",
            "3955/3955 [==============================] - 67s 17ms/step - loss: 0.0720 - accuracy: 0.9730\n",
            "Epoch 3/10\n",
            "3955/3955 [==============================] - 67s 17ms/step - loss: 0.0557 - accuracy: 0.9787\n",
            "Epoch 4/10\n",
            "3955/3955 [==============================] - 67s 17ms/step - loss: 0.0436 - accuracy: 0.9832\n",
            "Epoch 5/10\n",
            "3955/3955 [==============================] - 67s 17ms/step - loss: 0.0342 - accuracy: 0.9867\n",
            "Epoch 6/10\n",
            "3955/3955 [==============================] - 67s 17ms/step - loss: 0.0262 - accuracy: 0.9902\n",
            "Epoch 7/10\n",
            "3955/3955 [==============================] - 67s 17ms/step - loss: 0.0199 - accuracy: 0.9927\n",
            "Epoch 8/10\n",
            "3955/3955 [==============================] - 67s 17ms/step - loss: 0.0158 - accuracy: 0.9943\n",
            "Epoch 9/10\n",
            "3955/3955 [==============================] - 67s 17ms/step - loss: 0.0128 - accuracy: 0.9955\n",
            "Epoch 10/10\n",
            "3955/3955 [==============================] - 67s 17ms/step - loss: 0.0105 - accuracy: 0.9964\n"
          ],
          "name": "stdout"
        }
      ]
    },
    {
      "cell_type": "code",
      "metadata": {
        "id": "dVY6WcW0iDgd",
        "colab": {
          "base_uri": "https://localhost:8080/"
        },
        "outputId": "ad25f5ad-1b78-4583-95b4-d8697e1448de"
      },
      "source": [
        "loss, acc = model.evaluate(X_test_padded, y_test)\n",
        "print('Test accuracy: {}'.format(acc))"
      ],
      "execution_count": null,
      "outputs": [
        {
          "output_type": "stream",
          "text": [
            "989/989 [==============================] - 11s 10ms/step - loss: 0.0916 - accuracy: 0.9777\n",
            "Test accuracy: 0.9777461886405945\n"
          ],
          "name": "stdout"
        }
      ]
    },
    {
      "cell_type": "markdown",
      "metadata": {
        "id": "RATiicNtZ33w"
      },
      "source": [
        "---"
      ]
    }
  ]
}