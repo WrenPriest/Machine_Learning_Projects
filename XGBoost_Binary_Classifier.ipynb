{
  "nbformat": 4,
  "nbformat_minor": 0,
  "metadata": {
    "colab": {
      "name": "XGBoost.ipynb",
      "provenance": [],
      "collapsed_sections": [
        "0_pfCiSlWvE4",
        "-AeNiodRWKII"
      ]
    },
    "kernelspec": {
      "display_name": "Python 3",
      "name": "python3"
    }
  },
  "cells": [
    {
      "cell_type": "markdown",
      "metadata": {
        "id": "0_pfCiSlWvE4"
      },
      "source": [
        "#### Copyright 2020 Google LLC."
      ]
    },
    {
      "cell_type": "code",
      "metadata": {
        "id": "f5rgB9h6Wtor"
      },
      "source": [
        "# Licensed under the Apache License, Version 2.0 (the \"License\");\n",
        "# you may not use this file except in compliance with the License.\n",
        "# You may obtain a copy of the License at\n",
        "#\n",
        "# https://www.apache.org/licenses/LICENSE-2.0\n",
        "#\n",
        "# Unless required by applicable law or agreed to in writing, software\n",
        "# distributed under the License is distributed on an \"AS IS\" BASIS,\n",
        "# WITHOUT WARRANTIES OR CONDITIONS OF ANY KIND, either express or implied.\n",
        "# See the License for the specific language governing permissions and\n",
        "# limitations under the License."
      ],
      "execution_count": null,
      "outputs": []
    },
    {
      "cell_type": "markdown",
      "metadata": {
        "id": "c6KkIPwzW2xw"
      },
      "source": [
        "# XGBoost"
      ]
    },
    {
      "cell_type": "markdown",
      "metadata": {
        "id": "enHv5jR5b77s"
      },
      "source": [
        "[XGBoost](https://github.com/dmlc/xgboost) is a powerful toolkit for performing machine learning tasks. Though much of the current excitement in the machine learning sphere comes from deep learning, XGBoost is a new non-deep-learning algorithm that has won data science competitions and a lot of attention. Instead of a deep neural network, XGBoost uses a collection of decision trees (random forest) arranged and optimized by a boosting scheme and unique penalization of trees in the forest.\n",
        "\n",
        "XGBoost started becoming popular as it started to perform as well as, if not better than, modern deep learning approaches, while also using less computing resources to train."
      ]
    },
    {
      "cell_type": "markdown",
      "metadata": {
        "id": "fkYifsXHVZEo"
      },
      "source": [
        "## The Dataset"
      ]
    },
    {
      "cell_type": "markdown",
      "metadata": {
        "id": "VmdXSpRUdXlJ"
      },
      "source": [
        "To demonstrate XGBoost, we will use a [subset of data](https://www.kaggle.com/joshmcadams/sdss-16) from the [SDSS data release 16](https://www.sdss.org/dr16/).\n",
        "This dataset contains data observed about objects in space, as well as the type of object that was observed. We'll see if we can train a model that can classify objects based on these observations.\n",
        "\n",
        "To get started, upload your `kaggle.json` file and run the code below."
      ]
    },
    {
      "cell_type": "code",
      "metadata": {
        "id": "U--f_mHTbZvu",
        "colab": {
          "base_uri": "https://localhost:8080/"
        },
        "outputId": "510c6eb4-d36e-46b0-91da-98f19048da38"
      },
      "source": [
        "! chmod 600 kaggle.json && (ls ~/.kaggle 2>/dev/null || mkdir ~/.kaggle) && mv kaggle.json ~/.kaggle/ && echo 'Done'"
      ],
      "execution_count": null,
      "outputs": [
        {
          "output_type": "stream",
          "text": [
            "chmod: cannot access 'kaggle.json': No such file or directory\n"
          ],
          "name": "stdout"
        }
      ]
    },
    {
      "cell_type": "markdown",
      "metadata": {
        "id": "-4HQm-nNd6Ti"
      },
      "source": [
        "Next we'll download the `sdss-16` dataset."
      ]
    },
    {
      "cell_type": "code",
      "metadata": {
        "id": "yYm2woKTbex7",
        "colab": {
          "base_uri": "https://localhost:8080/"
        },
        "outputId": "cb5d46f2-67a8-4cd7-da14-841033e8cffc"
      },
      "source": [
        "! kaggle datasets download joshmcadams/sdss-16\n",
        "! ls"
      ],
      "execution_count": null,
      "outputs": [
        {
          "output_type": "stream",
          "text": [
            "sdss-16.zip: Skipping, found more recently modified local copy (use --force to force download)\n",
            "sample_data  sdss-16.zip\n"
          ],
          "name": "stdout"
        }
      ]
    },
    {
      "cell_type": "markdown",
      "metadata": {
        "id": "3-ZTTBrXd-A2"
      },
      "source": [
        "And then load it up and get some information about it. Notice that we use `.info()` to examine the `DataFrame`. The `.info()` method returns information about the data, including column counts and even memory usage."
      ]
    },
    {
      "cell_type": "code",
      "metadata": {
        "id": "PLLBqvIwblVd",
        "colab": {
          "base_uri": "https://localhost:8080/"
        },
        "outputId": "422cabfc-306c-4d09-e956-dc211cf067c2"
      },
      "source": [
        "import pandas as pd\n",
        "\n",
        "df = pd.read_csv('sdss-16.zip')\n",
        "df.info()"
      ],
      "execution_count": null,
      "outputs": [
        {
          "output_type": "stream",
          "text": [
            "<class 'pandas.core.frame.DataFrame'>\n",
            "RangeIndex: 732977 entries, 0 to 732976\n",
            "Data columns (total 18 columns):\n",
            " #   Column             Non-Null Count   Dtype  \n",
            "---  ------             --------------   -----  \n",
            " 0   object_id          732977 non-null  int64  \n",
            " 1   right_ascension    732977 non-null  float64\n",
            " 2   declination        732977 non-null  float64\n",
            " 3   u_magnitude        732977 non-null  float64\n",
            " 4   g_magnitude        732977 non-null  float64\n",
            " 5   r_magnitude        732977 non-null  float64\n",
            " 6   i_magnitude        732977 non-null  float64\n",
            " 7   z_magnitude        732977 non-null  float64\n",
            " 8   obs_run_number     732977 non-null  int64  \n",
            " 9   rerun_number       732977 non-null  int64  \n",
            " 10  camera_column      732977 non-null  int64  \n",
            " 11  field_number       732977 non-null  int64  \n",
            " 12  spectro_object_id  732977 non-null  uint64 \n",
            " 13  class              732977 non-null  object \n",
            " 14  redshift           732977 non-null  float64\n",
            " 15  plate_id           732977 non-null  int64  \n",
            " 16  observation_date   732977 non-null  int64  \n",
            " 17  fiber_id           732977 non-null  int64  \n",
            "dtypes: float64(8), int64(8), object(1), uint64(1)\n",
            "memory usage: 100.7+ MB\n"
          ],
          "name": "stdout"
        }
      ]
    },
    {
      "cell_type": "markdown",
      "metadata": {
        "id": "A8G2hEw0oktT"
      },
      "source": [
        "### Exploratory Data Analysis"
      ]
    },
    {
      "cell_type": "markdown",
      "metadata": {
        "id": "Z95utBqToodM"
      },
      "source": [
        "We can tell from our `.info()` call that we have `732,977` non-null columns. First we should double check that every column is non-null."
      ]
    },
    {
      "cell_type": "code",
      "metadata": {
        "id": "wXTjVKKqoke4",
        "colab": {
          "base_uri": "https://localhost:8080/"
        },
        "outputId": "e0d5f566-f57a-4407-949e-94aa92a5a2a4"
      },
      "source": [
        "df.isnull().any()"
      ],
      "execution_count": null,
      "outputs": [
        {
          "output_type": "execute_result",
          "data": {
            "text/plain": [
              "object_id            False\n",
              "right_ascension      False\n",
              "declination          False\n",
              "u_magnitude          False\n",
              "g_magnitude          False\n",
              "r_magnitude          False\n",
              "i_magnitude          False\n",
              "z_magnitude          False\n",
              "obs_run_number       False\n",
              "rerun_number         False\n",
              "camera_column        False\n",
              "field_number         False\n",
              "spectro_object_id    False\n",
              "class                False\n",
              "redshift             False\n",
              "plate_id             False\n",
              "observation_date     False\n",
              "fiber_id             False\n",
              "dtype: bool"
            ]
          },
          "metadata": {
            "tags": []
          },
          "execution_count": 7
        }
      ]
    },
    {
      "cell_type": "markdown",
      "metadata": {
        "id": "E12hG5aGo2bU"
      },
      "source": [
        "Good, no null data. Let's examine the columns that we are working with.\n",
        "\n",
        "Column | Description\n",
        "-------|-------------\n",
        "`object_id`            | Unique SDSS identifier composed from [skyVersion,rerun,run,camcol,field,obj].\n",
        "`right_ascension`      | J2000 right ascension (r')\n",
        "`declination`          | J2000 declination (r')\n",
        "`u_magnitude`          | Model magnitude u-band\n",
        "`g_magnitude`          | Model magnitude g-band\n",
        "`r_magnitude`          | Model magnitude r-band\n",
        "`i_magnitude`          | Model magnitude i-band\n",
        "`z_magnitude`          | Model magnitude z-band\n",
        "`obs_run_number`       | Run number\n",
        "`rerun_number`         | Re-run number\n",
        "`camera_column`        | Camera column\n",
        "`field_number`         | Field number\n",
        "`spectro_object_id`    | Unique ID\n",
        "`class`                | Type of object (target)\n",
        "`redshift`             | Final redshift\n",
        "`plate_id`             | Plate ID\n",
        "`observation_date`     | Date of observation\n",
        "`fiber_id`             | Fiber ID\n",
        "\n",
        "The column that we'll be trying to predict is `class`.\n",
        "\n",
        "There are quite a few columns that seem to be more metadata than observation data, so we'll not include them in our features. Good candidates for this category include:\n",
        "\n",
        "* `object_id`\n",
        "* `obs_run_number`\n",
        "* `rerun_number`\n",
        "* `observation_date`\n",
        "* `spectro_object_id`\n",
        "\n",
        "Then there are columns that we need to understand better before we can decide whether we should include them or not. These include:\n",
        "\n",
        "* `camera_column`\n",
        "* `field_number`\n",
        "* `plate_id`\n",
        "* `fiber_id`\n",
        "\n",
        "Looking at the [SDSS DR16 Glossary](https://www.sdss.org/dr16/help/glossary/), these fields should likely not be used for classification either.\n",
        "\n",
        "That leaves us with the following potential feature columns:\n",
        "\n",
        "* `right_ascension`\n",
        "* `declination`\n",
        "* `u_magnitude`\n",
        "* `g_magnitude`\n",
        "* `r_magnitude`\n",
        "* `i_magnitude`\n",
        "* `z_magnitude`\n",
        "* `redshift`\n",
        "\n",
        "[Researching more](https://skyserver.sdss.org/dr16/en/proj/advanced/hubble/simple.aspx), it seems that all of these columns are real observations that might be useful to our model.\n"
      ]
    },
    {
      "cell_type": "markdown",
      "metadata": {
        "id": "PfKooQFts09b"
      },
      "source": [
        "Now that we know our target and features, let's take a look at them.\n",
        "\n",
        "First, we'll see how balanced our dataset is."
      ]
    },
    {
      "cell_type": "code",
      "metadata": {
        "id": "gBlEIGkntK0S",
        "colab": {
          "base_uri": "https://localhost:8080/",
          "height": 282
        },
        "outputId": "04b2197d-5e99-42e8-d7e9-6aea15d91a6a"
      },
      "source": [
        "df['class'].hist()"
      ],
      "execution_count": null,
      "outputs": [
        {
          "output_type": "execute_result",
          "data": {
            "text/plain": [
              "<matplotlib.axes._subplots.AxesSubplot at 0x7f24824e3c10>"
            ]
          },
          "metadata": {
            "tags": []
          },
          "execution_count": 8
        },
        {
          "output_type": "display_data",
          "data": {
            "image/png": "[encoded data removed]",
            "text/plain": [
              "<Figure size 432x288 with 1 Axes>"
            ]
          },
          "metadata": {
            "tags": [],
            "needs_background": "light"
          }
        }
      ]
    },
    {
      "cell_type": "markdown",
      "metadata": {
        "id": "4B3YQSFPtRYw"
      },
      "source": [
        "Not really balanced. We have less than `100,000` quasars and over `350,000` galaxies. We'll need to stratify our testing split for sure."
      ]
    },
    {
      "cell_type": "markdown",
      "metadata": {
        "id": "Auo5JfcwtpLB"
      },
      "source": [
        "Let's see how our features are distributed."
      ]
    },
    {
      "cell_type": "code",
      "metadata": {
        "id": "4C98wJMPuFQQ",
        "colab": {
          "base_uri": "https://localhost:8080/",
          "height": 445
        },
        "outputId": "6a327223-83ae-4b58-dbd0-e808e26e3189"
      },
      "source": [
        "import matplotlib.pyplot as plt\n",
        "\n",
        "\n",
        "features = [\n",
        "  'right_ascension',\n",
        "  'declination',\n",
        "  'u_magnitude',\n",
        "  'g_magnitude',\n",
        "  'r_magnitude',\n",
        "  'i_magnitude',\n",
        "  'z_magnitude',\n",
        "  'redshift',\n",
        "]\n",
        "\n",
        "fig, (axs) = plt.subplots(1, 8, figsize=(20, 10))\n",
        "for i in range(len(features)):\n",
        "  axs[i].title.set_text(features[i])\n",
        "  axs[i].boxplot(df[features[i]])\n"
      ],
      "execution_count": null,
      "outputs": [
        {
          "output_type": "display_data",
          "data": {
            "image/png": "[encoded data removed]",
            "text/plain": [
              "<Figure size 1440x720 with 8 Axes>"
            ]
          },
          "metadata": {
            "tags": [],
            "needs_background": "light"
          }
        }
      ]
    },
    {
      "cell_type": "markdown",
      "metadata": {
        "id": "Y1FobMTivy8X"
      },
      "source": [
        "Wow, that is some spread. Ranges vary from single digits (ex: `redshift`) to large negatives (ex: `i_magnitude` and `z_magnitude`). Some values are relatively normally distributed like `declination`, while others are extremely focused with a wide range of outliers like in `redshift` and `u_magnitude`.\n",
        "\n",
        "Since we'll be using an XGBoost model backed by decision trees, we won't need to normalize this data."
      ]
    },
    {
      "cell_type": "markdown",
      "metadata": {
        "id": "9O8xkmgpwhal"
      },
      "source": [
        "## The Model"
      ]
    },
    {
      "cell_type": "markdown",
      "metadata": {
        "id": "LR0sFenR7Uif"
      },
      "source": [
        "### Data Preprocessing"
      ]
    },
    {
      "cell_type": "markdown",
      "metadata": {
        "id": "nYvMo2OlwjnM"
      },
      "source": [
        "First off, we'll want to convert our target `class` to a numeric value instead of the string values that we currently have. To do that we'll use the [sklearn `LabelEncoder`](https://scikit-learn.org/stable/modules/generated/sklearn.preprocessing.LabelEncoder.html). This encodes our three classes as the values `0`, `1`, and `2`."
      ]
    },
    {
      "cell_type": "code",
      "metadata": {
        "id": "cENCWJOTwrKz",
        "colab": {
          "base_uri": "https://localhost:8080/",
          "height": 265
        },
        "outputId": "8513c3cd-db83-4e6d-8f10-801a08d06738"
      },
      "source": [
        "from sklearn.preprocessing import LabelEncoder\n",
        "\n",
        "\n",
        "le = LabelEncoder()\n",
        "df['encoded_class'] = df[['class']].apply(le.fit_transform)['class']\n",
        "_ = df['encoded_class'].hist()"
      ],
      "execution_count": null,
      "outputs": [
        {
          "output_type": "display_data",
          "data": {
            "image/png": "[encoded data removed]",
            "text/plain": [
              "<Figure size 432x288 with 1 Axes>"
            ]
          },
          "metadata": {
            "tags": [],
            "needs_background": "light"
          }
        }
      ]
    },
    {
      "cell_type": "markdown",
      "metadata": {
        "id": "naQfh5V-xHUy"
      },
      "source": [
        "We should then split the data, being sure to stratify."
      ]
    },
    {
      "cell_type": "code",
      "metadata": {
        "id": "BKSRVYEixJhs",
        "colab": {
          "base_uri": "https://localhost:8080/",
          "height": 265
        },
        "outputId": "cb0429de-cd27-45d4-8964-a368a7d5265c"
      },
      "source": [
        "from sklearn.model_selection import train_test_split\n",
        "\n",
        "\n",
        "X_train, X_test, y_train, y_test = train_test_split(\n",
        "    df[features],\n",
        "    df['encoded_class'],\n",
        "    test_size=0.2,\n",
        "    random_state=8675309,\n",
        "    shuffle=True,\n",
        "    stratify=df['encoded_class'])\n",
        "\n",
        "_ = y_train.hist()"
      ],
      "execution_count": null,
      "outputs": [
        {
          "output_type": "display_data",
          "data": {
            "image/png": "[encoded data removed]",
            "text/plain": [
              "<Figure size 432x288 with 1 Axes>"
            ]
          },
          "metadata": {
            "tags": [],
            "needs_background": "light"
          }
        }
      ]
    },
    {
      "cell_type": "markdown",
      "metadata": {
        "id": "RtRVevzi7X7Q"
      },
      "source": [
        "### Building the Model"
      ]
    },
    {
      "cell_type": "markdown",
      "metadata": {
        "id": "0jxOucDHxfbF"
      },
      "source": [
        "Now it is time to actually build the model. It is possible to build an XGBoost model in a similar manner as you would a standard scikit-learn model. For example, to create a classifier we can use `XGBClassifer`:\n",
        "\n",
        "```python\n",
        "from xgboost import XGBClassifier\n",
        "\n",
        "model = XGBClassifier()\n",
        "model.fit(X_train, y_train)\n",
        "```\n",
        "\n",
        "*But you will likely regret that decision!*\n",
        "\n",
        "One of the strengths of XGBoost is its ability to quickly converge on a quality model. In order to do this, we need to set up an input data structure that is optimized for XGBoost processing. This structure is known as the `DMatrix`.\n",
        "\n",
        "To create a `DMatrix`, we load `xgboost` and pass our testing and training data to the `DMatrix` constructor."
      ]
    },
    {
      "cell_type": "code",
      "metadata": {
        "id": "F-gEtouePpao"
      },
      "source": [
        "import xgboost as xgb\n",
        "\n",
        "\n",
        "d_train = xgb.DMatrix(X_train, y_train)\n",
        "d_test = xgb.DMatrix(X_test, y_test)"
      ],
      "execution_count": null,
      "outputs": []
    },
    {
      "cell_type": "markdown",
      "metadata": {
        "id": "3OYkIA9n8Yys"
      },
      "source": [
        "We can now train the model. But what type of model are we training?\n",
        "\n",
        "In the example above, we asked for an `XGBClassifer`, but with XGBoost you can also pass parameters that determine the type of model being trained. There are numerous [XGBoost parameters](https://xgboost.readthedocs.io/en/latest/parameter.html). One of the most important is the [`objective`](https://xgboost.readthedocs.io/en/latest/parameter.html#learning-task-parameters). This tells XGBoost what type of model it should build.\n",
        "\n",
        "By default, the model is a regression model trained using squared error as a loss. In our case we want a multiclass classification model. Options for building this type of model include `multi:softmax` and `multi:softprob`. We'll go with softmax since it has been used a few times in this course.\n",
        "\n",
        "There are also model-specific parameters. In our case we chose `multi:softmax`, which requires that we set the number of classes using the `num_class` parameter.\n",
        "\n",
        "There are general parameters that apply to all models. One of those, `booster`, is set to `gbtree` by default. With a tree booster, there are [specific parameters](https://xgboost.readthedocs.io/en/latest/parameter.html#parameters-for-tree-booster) that you can set including `max_depth` for the max depth of the trees and `eta` for the learning rate.\n",
        "\n",
        "Note that we didn't set the number of trees. This is because XGBoost determines the size of the forest using a gradient that eventually converges.\n",
        "\n",
        "You can probably see that [XGBoost parameters](https://xgboost.readthedocs.io/en/latest/parameter.html) can be pretty complex. One parameter opens up the option for more and more. This is because the `xgboost` class is a wrapper over many different types of models, from classification to regression to ranking. And each of those models has many potential backing algorithms, each with their own parameters.\n",
        "\n",
        "> *Check your parameters carefully. XGBoost doesn't throw errors when you add useless parameters. Be sure you are using the correct parameters for your current model configuration.*\n"
      ]
    },
    {
      "cell_type": "code",
      "metadata": {
        "id": "BP1KDFbMRDmP",
        "colab": {
          "base_uri": "https://localhost:8080/"
        },
        "outputId": "75a1c1ae-d8b8-415c-9f41-e61b7d360e27"
      },
      "source": [
        "import time\n",
        "\n",
        "params = {\n",
        "    # What type of model are we building?\n",
        "    'objective': 'multi:softmax',\n",
        "\n",
        "    # multi:softmax parameters\n",
        "    'num_class': 3,\n",
        "\n",
        "    # General parameters\n",
        "    'booster': 'gbtree',\n",
        "\n",
        "    # Tree-specific parameters\n",
        "    'max_depth': 10, \n",
        "    'eta': 0.1,\n",
        "}\n",
        "\n",
        "start = time.time()\n",
        "\n",
        "model = xgb.train(params, d_train)\n",
        "\n",
        "end = time.time()\n",
        "print(end - start)"
      ],
      "execution_count": null,
      "outputs": [
        {
          "output_type": "stream",
          "text": [
            "39.94983506202698\n"
          ],
          "name": "stdout"
        }
      ]
    },
    {
      "cell_type": "markdown",
      "metadata": {
        "id": "UdWqROf3FjJR"
      },
      "source": [
        "We went ahead and timed this training operation just to get a feel for how fast XGBoost is. In our trial run, we trained in just under one minute.\n",
        "\n",
        "We can now see how well our trained model generalizes."
      ]
    },
    {
      "cell_type": "code",
      "metadata": {
        "id": "P41z96MhRM_g",
        "colab": {
          "base_uri": "https://localhost:8080/"
        },
        "outputId": "c4ab15eb-fc59-4ace-a1a7-f4a4bc4afdd9"
      },
      "source": [
        "from sklearn.metrics import f1_score\n",
        "import numpy as np\n",
        "\n",
        "preds = model.predict(d_test)\n",
        " \n",
        "print(np.round(f1_score(y_test, preds, average='micro')*100, 2), '%')"
      ],
      "execution_count": null,
      "outputs": [
        {
          "output_type": "stream",
          "text": [
            "99.31 %\n"
          ],
          "name": "stdout"
        }
      ]
    },
    {
      "cell_type": "markdown",
      "metadata": {
        "id": "3n7kPfIoGUIf"
      },
      "source": [
        "`99.31%`, not bad!\n",
        "\n",
        "Let's not celebrate too soon. How well does this compare to a vanilla random forest?"
      ]
    },
    {
      "cell_type": "code",
      "metadata": {
        "id": "y4rrlhTQRUw8",
        "colab": {
          "base_uri": "https://localhost:8080/"
        },
        "outputId": "85b13c2e-e62d-4b26-ba6d-649e0b7ba519"
      },
      "source": [
        "from sklearn.ensemble import RandomForestClassifier\n",
        "\n",
        "model = RandomForestClassifier(random_state=8675309)\n",
        "\n",
        "start = time.time()\n",
        "\n",
        "model.fit(X_train, y_train)\n",
        "\n",
        "end = time.time()\n",
        "print(end - start)\n",
        "\n",
        "preds = model.predict(X_test)\n",
        "\n",
        "print(np.round(f1_score(y_test, preds, average='micro')*100, 2), '%')"
      ],
      "execution_count": null,
      "outputs": [
        {
          "output_type": "stream",
          "text": [
            "312.46567153930664\n",
            "99.39 %\n"
          ],
          "name": "stdout"
        }
      ]
    },
    {
      "cell_type": "markdown",
      "metadata": {
        "id": "Q41gop_gIQwr"
      },
      "source": [
        "Well, that's interesting. The random forest actually did better: `99.39%`, but look at that timing. It took just over around `5` minutes to run in our tests.\n",
        "\n",
        "There are definitely cases where random forests can out-perform XGBoost, but the cost of training vs. the performance improvement, if it exists, can easily make up for the training time on large datasets."
      ]
    },
    {
      "cell_type": "markdown",
      "metadata": {
        "id": "NNJntYL9MzKB"
      },
      "source": [
        "# Exercises"
      ]
    },
    {
      "cell_type": "markdown",
      "metadata": {
        "id": "UoQsnTiBM1Dv"
      },
      "source": [
        "## Exercise 1: Galaxy or Not Galaxy"
      ]
    },
    {
      "cell_type": "markdown",
      "metadata": {
        "id": "-QTIzjzETws0"
      },
      "source": [
        "In the example above, we tried to determine if an observation was of a star, galaxy, or quasar. The balance of the observations skewed heavily toward galaxies. In this exercise you'll be tasked with using the same [SDSS 16 dataset](https://www.kaggle.com/joshmcadams/sdss-16) and performing a binary classification that determines if an observation is of a galaxy or not.\n",
        "\n",
        "You'll rely on XGBoost. Your task is to modify the data and the model to perform a binary classification, instead of the multiclass classification shown above."
      ]
    },
    {
      "cell_type": "markdown",
      "metadata": {
        "id": "5ChI8xh2VvHR"
      },
      "source": [
        "### **Student Solution**"
      ]
    },
    {
      "cell_type": "markdown",
      "metadata": {
        "id": "wn--uZCRVx4x"
      },
      "source": [
        "Using [XGBoost](https://github.com/dmlc/xgboost), create a binary classifier for the [SDSS 16 dataset](https://www.kaggle.com/joshmcadams/sdss-16) that determines if an observation is a galaxy or not.\n",
        "\n",
        "*Use as many code and text blocks as you need. Explain your work.*"
      ]
    },
    {
      "cell_type": "code",
      "metadata": {
        "colab": {
          "base_uri": "https://localhost:8080/"
        },
        "id": "yvgQCWPKqYfB",
        "outputId": "93bc0603-61c9-4446-8104-a7d5f12087a0"
      },
      "source": [
        "df['encoded_class'] = (df['encoded_class'] == 0).astype(int)\n",
        "df.encoded_class.sample(10)"
      ],
      "execution_count": null,
      "outputs": [
        {
          "output_type": "execute_result",
          "data": {
            "text/plain": [
              "351386    1\n",
              "601711    0\n",
              "633652    0\n",
              "565128    1\n",
              "701496    1\n",
              "78993     0\n",
              "723998    1\n",
              "479804    0\n",
              "613761    1\n",
              "211061    0\n",
              "Name: encoded_class, dtype: int64"
            ]
          },
          "metadata": {
            "tags": []
          },
          "execution_count": 17
        }
      ]
    },
    {
      "cell_type": "code",
      "metadata": {
        "colab": {
          "base_uri": "https://localhost:8080/",
          "height": 265
        },
        "id": "7icH68lPlpQF",
        "outputId": "f729914c-48c4-4788-8d4f-9b39af945dd4"
      },
      "source": [
        "from sklearn.model_selection import train_test_split\n",
        "\n",
        "\n",
        "X_train, X_test, y_train, y_test = train_test_split(\n",
        "    df[features],\n",
        "    df['encoded_class'],\n",
        "    test_size=0.2,\n",
        "    random_state=8675309,\n",
        "    shuffle=True,\n",
        "    stratify=df['encoded_class'])\n",
        "\n",
        "_ = y_train.hist()"
      ],
      "execution_count": null,
      "outputs": [
        {
          "output_type": "display_data",
          "data": {
            "image/png": "[encoded data removed]",
            "text/plain": [
              "<Figure size 432x288 with 1 Axes>"
            ]
          },
          "metadata": {
            "tags": [],
            "needs_background": "light"
          }
        }
      ]
    },
    {
      "cell_type": "code",
      "metadata": {
        "id": "QNlK3FY-rW_j"
      },
      "source": [
        "import xgboost as xgb\n",
        "\n",
        "d_train = xgb.DMatrix(X_train, y_train)\n",
        "d_test = xgb.DMatrix(X_test, y_test)"
      ],
      "execution_count": null,
      "outputs": []
    },
    {
      "cell_type": "code",
      "metadata": {
        "colab": {
          "base_uri": "https://localhost:8080/"
        },
        "id": "UBi0fUDxrdQX",
        "outputId": "f70d0046-148a-48b4-d471-b9ef746c98da"
      },
      "source": [
        "import time\n",
        "\n",
        "params = {\n",
        "    # What type of model are we building?\n",
        "    'objective': 'binary:logistic',\n",
        "\n",
        "    # multi:softmax parameters\n",
        "    # 'num_class': 2,\n",
        "\n",
        "    # General parameters\n",
        "    'booster': 'gbtree',\n",
        "\n",
        "    # Tree-specific parameters\n",
        "    'max_depth': 10, \n",
        "    'eta': 0.1,\n",
        "}\n",
        "\n",
        "start = time.time()\n",
        "\n",
        "model = xgb.train(params, d_train)\n",
        "\n",
        "end = time.time()\n",
        "print(end - start)"
      ],
      "execution_count": null,
      "outputs": [
        {
          "output_type": "stream",
          "text": [
            "16.006370067596436\n"
          ],
          "name": "stdout"
        }
      ]
    },
    {
      "cell_type": "code",
      "metadata": {
        "colab": {
          "base_uri": "https://localhost:8080/"
        },
        "id": "w86pxa3Xrhia",
        "outputId": "3723a596-ca3e-400d-b082-f99db03e4256"
      },
      "source": [
        "from sklearn.metrics import f1_score\n",
        "import numpy as np\n",
        "\n",
        "predictions = model.predict(d_test)\n",
        "preds = [int(round(i)) for i in predictions]\n",
        " \n",
        "print(np.round(f1_score(y_test, preds, average='micro')*100, 2), '%')"
      ],
      "execution_count": null,
      "outputs": [
        {
          "output_type": "stream",
          "text": [
            "99.28 %\n"
          ],
          "name": "stdout"
        }
      ]
    },
    {
      "cell_type": "markdown",
      "metadata": {
        "id": "EXrL3EoNWJMx"
      },
      "source": [
        "---"
      ]
    }
  ]
}