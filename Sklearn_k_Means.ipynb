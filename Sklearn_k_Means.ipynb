{
  "nbformat": 4,
  "nbformat_minor": 0,
  "metadata": {
    "colab": {
      "name": "k_Means.ipynb",
      "provenance": [],
      "collapsed_sections": [
        "copyright",
        "exercise-1-key-1",
        "exercise-2-key-1"
      ]
    },
    "kernelspec": {
      "display_name": "Python 3",
      "name": "python3"
    }
  },
  "cells": [
    {
      "cell_type": "markdown",
      "metadata": {
        "id": "copyright"
      },
      "source": [
        "#### Copyright 2020 Google LLC."
      ]
    },
    {
      "cell_type": "code",
      "metadata": {
        "id": "DIk2MioaatFI"
      },
      "source": [
        "# Licensed under the Apache License, Version 2.0 (the \"License\");\n",
        "# you may not use this file except in compliance with the License.\n",
        "# You may obtain a copy of the License at\n",
        "#\n",
        "# https://www.apache.org/licenses/LICENSE-2.0\n",
        "#\n",
        "# Unless required by applicable law or agreed to in writing, software\n",
        "# distributed under the License is distributed on an \"AS IS\" BASIS,\n",
        "# WITHOUT WARRANTIES OR CONDITIONS OF ANY KIND, either express or implied.\n",
        "# See the License for the specific language governing permissions and\n",
        "# limitations under the License."
      ],
      "execution_count": null,
      "outputs": []
    },
    {
      "cell_type": "markdown",
      "metadata": {
        "id": "daX5oL8aDZLn"
      },
      "source": [
        "# k-means\n"
      ]
    },
    {
      "cell_type": "markdown",
      "metadata": {
        "id": "e5jEmmM1wQBC"
      },
      "source": [
        "k-means clustering is an *unsupervised* machine learning algorithm that can be used to group items into clusters.\n",
        "\n",
        "So far we have only worked with supervised algorithms. Supervised algorithms have training data with labels that identify the numeric value or class for each item. These algorithms use labeled data to build a model that can be used to make predictions.\n",
        "\n",
        "k-means clustering is different. The training data is not labeled. Unlabeled training data is fed into the model, which attempts to find relationships in the data and create clusters based on those relationships. Once these clusters are formed, predictions can be made about which cluster new data items belong to.\n",
        "\n",
        "The clusters can't easily be labeled in many cases. The clusters are \"emergent clusters\" and are created by the algorithm. They don't always map to groupings that you might expect."
      ]
    },
    {
      "cell_type": "markdown",
      "metadata": {
        "id": "ytHWSs1qG3e5"
      },
      "source": [
        "## Example: Groups of Mushrooms\n",
        "\n",
        "Let's start by looking at a real world use case involving mushrooms. The University of California Irvine has a [dataset containing various attributes of mushrooms](https://www.kaggle.com/uciml/mushroom-classification). One of those attributes is the edibility of the mushroom: Is it edible or is it poisonous?  We want to see if we can find clusters of mushroom attributes that can be used to determine if a mushroom is edible or not."
      ]
    },
    {
      "cell_type": "markdown",
      "metadata": {
        "id": "1NUs6PhaH9J7"
      },
      "source": [
        "### Load the Data\n",
        "\n",
        "For this example we'll load the [mushroom classification](https://www.kaggle.com/uciml/mushroom-classification) data. The dataset attributes about over `8,000` different mushrooms.\n",
        "\n",
        "Upload your `kaggle.json` file and run the code block below."
      ]
    },
    {
      "cell_type": "code",
      "metadata": {
        "id": "-IXUekcf9kLk",
        "colab": {
          "base_uri": "https://localhost:8080/"
        },
        "outputId": "dffc756d-38d1-4b88-a430-6598d4496cfb"
      },
      "source": [
        "! chmod 600 kaggle.json && (ls ~/.kaggle 2>/dev/null || mkdir ~/.kaggle) && mv kaggle.json ~/.kaggle/ && echo 'Done'"
      ],
      "execution_count": null,
      "outputs": [
        {
          "output_type": "stream",
          "text": [
            "chmod: cannot access 'kaggle.json': No such file or directory\n"
          ],
          "name": "stdout"
        }
      ]
    },
    {
      "cell_type": "markdown",
      "metadata": {
        "id": "90kxf9D89sh-"
      },
      "source": [
        "And then use the Kaggle API to download the dataset."
      ]
    },
    {
      "cell_type": "code",
      "metadata": {
        "id": "yA7gddSDBP0B",
        "colab": {
          "base_uri": "https://localhost:8080/"
        },
        "outputId": "4b6acc25-177a-4183-8fa6-36b1e6097870"
      },
      "source": [
        "! kaggle datasets download uciml/mushroom-classification\n",
        "! ls"
      ],
      "execution_count": null,
      "outputs": [
        {
          "output_type": "stream",
          "text": [
            "mushroom-classification.zip: Skipping, found more recently modified local copy (use --force to force download)\n",
            "mushroom-classification.zip  mushrooms.csv  sample_data\n"
          ],
          "name": "stdout"
        }
      ]
    },
    {
      "cell_type": "markdown",
      "metadata": {
        "id": "XloYj7BNNzs9"
      },
      "source": [
        "Unzip the Data."
      ]
    },
    {
      "cell_type": "code",
      "metadata": {
        "id": "Cs3D-ZBXBXTy",
        "colab": {
          "base_uri": "https://localhost:8080/"
        },
        "outputId": "e1f99350-b889-4424-e9b4-9e5a4eb2e141"
      },
      "source": [
        "! unzip mushroom-classification.zip\n",
        "! ls"
      ],
      "execution_count": null,
      "outputs": [
        {
          "output_type": "stream",
          "text": [
            "Archive:  mushroom-classification.zip\n",
            "replace mushrooms.csv? [y]es, [n]o, [A]ll, [N]one, [r]ename: N\n",
            "mushroom-classification.zip  mushrooms.csv  sample_data\n"
          ],
          "name": "stdout"
        }
      ]
    },
    {
      "cell_type": "markdown",
      "metadata": {
        "id": "oKcL398EN2Vt"
      },
      "source": [
        "And finally, load the training data into a `DataFrame`."
      ]
    },
    {
      "cell_type": "code",
      "metadata": {
        "id": "Bo2GFoXNBfFN",
        "colab": {
          "base_uri": "https://localhost:8080/",
          "height": 393
        },
        "outputId": "892bf50a-0acf-47e6-9b58-4a97b66239d7"
      },
      "source": [
        "import pandas as pd\n",
        "\n",
        "data = pd.read_csv('mushrooms.csv')\n",
        "data.sample(n=10)"
      ],
      "execution_count": null,
      "outputs": [
        {
          "output_type": "execute_result",
          "data": {
            "text/html": [
              "<div>\n",
              "<style scoped>\n",
              "    .dataframe tbody tr th:only-of-type {\n",
              "        vertical-align: middle;\n",
              "    }\n",
              "\n",
              "    .dataframe tbody tr th {\n",
              "        vertical-align: top;\n",
              "    }\n",
              "\n",
              "    .dataframe thead th {\n",
              "        text-align: right;\n",
              "    }\n",
              "</style>\n",
              "<table border=\"1\" class=\"dataframe\">\n",
              "  <thead>\n",
              "    <tr style=\"text-align: right;\">\n",
              "      <th></th>\n",
              "      <th>class</th>\n",
              "      <th>cap-shape</th>\n",
              "      <th>cap-surface</th>\n",
              "      <th>cap-color</th>\n",
              "      <th>bruises</th>\n",
              "      <th>odor</th>\n",
              "      <th>gill-attachment</th>\n",
              "      <th>gill-spacing</th>\n",
              "      <th>gill-size</th>\n",
              "      <th>gill-color</th>\n",
              "      <th>stalk-shape</th>\n",
              "      <th>stalk-root</th>\n",
              "      <th>stalk-surface-above-ring</th>\n",
              "      <th>stalk-surface-below-ring</th>\n",
              "      <th>stalk-color-above-ring</th>\n",
              "      <th>stalk-color-below-ring</th>\n",
              "      <th>veil-type</th>\n",
              "      <th>veil-color</th>\n",
              "      <th>ring-number</th>\n",
              "      <th>ring-type</th>\n",
              "      <th>spore-print-color</th>\n",
              "      <th>population</th>\n",
              "      <th>habitat</th>\n",
              "    </tr>\n",
              "  </thead>\n",
              "  <tbody>\n",
              "    <tr>\n",
              "      <th>695</th>\n",
              "      <td>e</td>\n",
              "      <td>b</td>\n",
              "      <td>y</td>\n",
              "      <td>w</td>\n",
              "      <td>t</td>\n",
              "      <td>a</td>\n",
              "      <td>f</td>\n",
              "      <td>c</td>\n",
              "      <td>b</td>\n",
              "      <td>n</td>\n",
              "      <td>e</td>\n",
              "      <td>c</td>\n",
              "      <td>s</td>\n",
              "      <td>s</td>\n",
              "      <td>w</td>\n",
              "      <td>w</td>\n",
              "      <td>p</td>\n",
              "      <td>w</td>\n",
              "      <td>o</td>\n",
              "      <td>p</td>\n",
              "      <td>n</td>\n",
              "      <td>s</td>\n",
              "      <td>g</td>\n",
              "    </tr>\n",
              "    <tr>\n",
              "      <th>5710</th>\n",
              "      <td>p</td>\n",
              "      <td>f</td>\n",
              "      <td>s</td>\n",
              "      <td>w</td>\n",
              "      <td>t</td>\n",
              "      <td>f</td>\n",
              "      <td>f</td>\n",
              "      <td>c</td>\n",
              "      <td>b</td>\n",
              "      <td>p</td>\n",
              "      <td>t</td>\n",
              "      <td>b</td>\n",
              "      <td>f</td>\n",
              "      <td>f</td>\n",
              "      <td>w</td>\n",
              "      <td>w</td>\n",
              "      <td>p</td>\n",
              "      <td>w</td>\n",
              "      <td>o</td>\n",
              "      <td>p</td>\n",
              "      <td>h</td>\n",
              "      <td>v</td>\n",
              "      <td>u</td>\n",
              "    </tr>\n",
              "    <tr>\n",
              "      <th>1918</th>\n",
              "      <td>e</td>\n",
              "      <td>f</td>\n",
              "      <td>f</td>\n",
              "      <td>n</td>\n",
              "      <td>f</td>\n",
              "      <td>n</td>\n",
              "      <td>f</td>\n",
              "      <td>w</td>\n",
              "      <td>b</td>\n",
              "      <td>k</td>\n",
              "      <td>t</td>\n",
              "      <td>e</td>\n",
              "      <td>s</td>\n",
              "      <td>f</td>\n",
              "      <td>w</td>\n",
              "      <td>w</td>\n",
              "      <td>p</td>\n",
              "      <td>w</td>\n",
              "      <td>o</td>\n",
              "      <td>e</td>\n",
              "      <td>k</td>\n",
              "      <td>s</td>\n",
              "      <td>g</td>\n",
              "    </tr>\n",
              "    <tr>\n",
              "      <th>4185</th>\n",
              "      <td>p</td>\n",
              "      <td>x</td>\n",
              "      <td>f</td>\n",
              "      <td>g</td>\n",
              "      <td>f</td>\n",
              "      <td>f</td>\n",
              "      <td>f</td>\n",
              "      <td>c</td>\n",
              "      <td>b</td>\n",
              "      <td>g</td>\n",
              "      <td>e</td>\n",
              "      <td>b</td>\n",
              "      <td>k</td>\n",
              "      <td>k</td>\n",
              "      <td>p</td>\n",
              "      <td>p</td>\n",
              "      <td>p</td>\n",
              "      <td>w</td>\n",
              "      <td>o</td>\n",
              "      <td>l</td>\n",
              "      <td>h</td>\n",
              "      <td>y</td>\n",
              "      <td>p</td>\n",
              "    </tr>\n",
              "    <tr>\n",
              "      <th>6025</th>\n",
              "      <td>p</td>\n",
              "      <td>x</td>\n",
              "      <td>s</td>\n",
              "      <td>n</td>\n",
              "      <td>f</td>\n",
              "      <td>s</td>\n",
              "      <td>f</td>\n",
              "      <td>c</td>\n",
              "      <td>n</td>\n",
              "      <td>b</td>\n",
              "      <td>t</td>\n",
              "      <td>?</td>\n",
              "      <td>k</td>\n",
              "      <td>k</td>\n",
              "      <td>w</td>\n",
              "      <td>w</td>\n",
              "      <td>p</td>\n",
              "      <td>w</td>\n",
              "      <td>o</td>\n",
              "      <td>e</td>\n",
              "      <td>w</td>\n",
              "      <td>v</td>\n",
              "      <td>p</td>\n",
              "    </tr>\n",
              "    <tr>\n",
              "      <th>6273</th>\n",
              "      <td>p</td>\n",
              "      <td>x</td>\n",
              "      <td>s</td>\n",
              "      <td>n</td>\n",
              "      <td>f</td>\n",
              "      <td>f</td>\n",
              "      <td>f</td>\n",
              "      <td>c</td>\n",
              "      <td>n</td>\n",
              "      <td>b</td>\n",
              "      <td>t</td>\n",
              "      <td>?</td>\n",
              "      <td>s</td>\n",
              "      <td>k</td>\n",
              "      <td>p</td>\n",
              "      <td>p</td>\n",
              "      <td>p</td>\n",
              "      <td>w</td>\n",
              "      <td>o</td>\n",
              "      <td>e</td>\n",
              "      <td>w</td>\n",
              "      <td>v</td>\n",
              "      <td>l</td>\n",
              "    </tr>\n",
              "    <tr>\n",
              "      <th>3260</th>\n",
              "      <td>e</td>\n",
              "      <td>f</td>\n",
              "      <td>y</td>\n",
              "      <td>g</td>\n",
              "      <td>t</td>\n",
              "      <td>n</td>\n",
              "      <td>f</td>\n",
              "      <td>c</td>\n",
              "      <td>b</td>\n",
              "      <td>p</td>\n",
              "      <td>t</td>\n",
              "      <td>b</td>\n",
              "      <td>s</td>\n",
              "      <td>s</td>\n",
              "      <td>g</td>\n",
              "      <td>p</td>\n",
              "      <td>p</td>\n",
              "      <td>w</td>\n",
              "      <td>o</td>\n",
              "      <td>p</td>\n",
              "      <td>k</td>\n",
              "      <td>y</td>\n",
              "      <td>d</td>\n",
              "    </tr>\n",
              "    <tr>\n",
              "      <th>7659</th>\n",
              "      <td>e</td>\n",
              "      <td>k</td>\n",
              "      <td>f</td>\n",
              "      <td>w</td>\n",
              "      <td>f</td>\n",
              "      <td>n</td>\n",
              "      <td>f</td>\n",
              "      <td>w</td>\n",
              "      <td>b</td>\n",
              "      <td>w</td>\n",
              "      <td>e</td>\n",
              "      <td>?</td>\n",
              "      <td>s</td>\n",
              "      <td>k</td>\n",
              "      <td>w</td>\n",
              "      <td>w</td>\n",
              "      <td>p</td>\n",
              "      <td>w</td>\n",
              "      <td>t</td>\n",
              "      <td>p</td>\n",
              "      <td>w</td>\n",
              "      <td>s</td>\n",
              "      <td>g</td>\n",
              "    </tr>\n",
              "    <tr>\n",
              "      <th>3418</th>\n",
              "      <td>p</td>\n",
              "      <td>x</td>\n",
              "      <td>s</td>\n",
              "      <td>g</td>\n",
              "      <td>f</td>\n",
              "      <td>c</td>\n",
              "      <td>f</td>\n",
              "      <td>c</td>\n",
              "      <td>n</td>\n",
              "      <td>p</td>\n",
              "      <td>e</td>\n",
              "      <td>b</td>\n",
              "      <td>s</td>\n",
              "      <td>s</td>\n",
              "      <td>w</td>\n",
              "      <td>w</td>\n",
              "      <td>p</td>\n",
              "      <td>w</td>\n",
              "      <td>o</td>\n",
              "      <td>p</td>\n",
              "      <td>n</td>\n",
              "      <td>s</td>\n",
              "      <td>d</td>\n",
              "    </tr>\n",
              "    <tr>\n",
              "      <th>4987</th>\n",
              "      <td>p</td>\n",
              "      <td>x</td>\n",
              "      <td>y</td>\n",
              "      <td>y</td>\n",
              "      <td>f</td>\n",
              "      <td>f</td>\n",
              "      <td>f</td>\n",
              "      <td>c</td>\n",
              "      <td>b</td>\n",
              "      <td>p</td>\n",
              "      <td>e</td>\n",
              "      <td>b</td>\n",
              "      <td>k</td>\n",
              "      <td>k</td>\n",
              "      <td>p</td>\n",
              "      <td>n</td>\n",
              "      <td>p</td>\n",
              "      <td>w</td>\n",
              "      <td>o</td>\n",
              "      <td>l</td>\n",
              "      <td>h</td>\n",
              "      <td>v</td>\n",
              "      <td>g</td>\n",
              "    </tr>\n",
              "  </tbody>\n",
              "</table>\n",
              "</div>"
            ],
            "text/plain": [
              "     class cap-shape cap-surface  ... spore-print-color population habitat\n",
              "695      e         b           y  ...                 n          s       g\n",
              "5710     p         f           s  ...                 h          v       u\n",
              "1918     e         f           f  ...                 k          s       g\n",
              "4185     p         x           f  ...                 h          y       p\n",
              "6025     p         x           s  ...                 w          v       p\n",
              "6273     p         x           s  ...                 w          v       l\n",
              "3260     e         f           y  ...                 k          y       d\n",
              "7659     e         k           f  ...                 w          s       g\n",
              "3418     p         x           s  ...                 n          s       d\n",
              "4987     p         x           y  ...                 h          v       g\n",
              "\n",
              "[10 rows x 23 columns]"
            ]
          },
          "metadata": {
            "tags": []
          },
          "execution_count": 11
        }
      ]
    },
    {
      "cell_type": "markdown",
      "metadata": {
        "id": "ShvO0AWGOAX3"
      },
      "source": [
        "### Exploratory Data Analysis"
      ]
    },
    {
      "cell_type": "markdown",
      "metadata": {
        "id": "xcvUECVCODNV"
      },
      "source": [
        "Let's take a closer look at the data that we'll be working with, starting with a simple describe."
      ]
    },
    {
      "cell_type": "code",
      "metadata": {
        "id": "6Vlqf1a3GaZv",
        "colab": {
          "base_uri": "https://localhost:8080/",
          "height": 207
        },
        "outputId": "03f132e5-1470-4f8e-a535-c6100941dda9"
      },
      "source": [
        "data.describe(include='all')"
      ],
      "execution_count": null,
      "outputs": [
        {
          "output_type": "execute_result",
          "data": {
            "text/html": [
              "<div>\n",
              "<style scoped>\n",
              "    .dataframe tbody tr th:only-of-type {\n",
              "        vertical-align: middle;\n",
              "    }\n",
              "\n",
              "    .dataframe tbody tr th {\n",
              "        vertical-align: top;\n",
              "    }\n",
              "\n",
              "    .dataframe thead th {\n",
              "        text-align: right;\n",
              "    }\n",
              "</style>\n",
              "<table border=\"1\" class=\"dataframe\">\n",
              "  <thead>\n",
              "    <tr style=\"text-align: right;\">\n",
              "      <th></th>\n",
              "      <th>class</th>\n",
              "      <th>cap-shape</th>\n",
              "      <th>cap-surface</th>\n",
              "      <th>cap-color</th>\n",
              "      <th>bruises</th>\n",
              "      <th>odor</th>\n",
              "      <th>gill-attachment</th>\n",
              "      <th>gill-spacing</th>\n",
              "      <th>gill-size</th>\n",
              "      <th>gill-color</th>\n",
              "      <th>stalk-shape</th>\n",
              "      <th>stalk-root</th>\n",
              "      <th>stalk-surface-above-ring</th>\n",
              "      <th>stalk-surface-below-ring</th>\n",
              "      <th>stalk-color-above-ring</th>\n",
              "      <th>stalk-color-below-ring</th>\n",
              "      <th>veil-type</th>\n",
              "      <th>veil-color</th>\n",
              "      <th>ring-number</th>\n",
              "      <th>ring-type</th>\n",
              "      <th>spore-print-color</th>\n",
              "      <th>population</th>\n",
              "      <th>habitat</th>\n",
              "    </tr>\n",
              "  </thead>\n",
              "  <tbody>\n",
              "    <tr>\n",
              "      <th>count</th>\n",
              "      <td>8124</td>\n",
              "      <td>8124</td>\n",
              "      <td>8124</td>\n",
              "      <td>8124</td>\n",
              "      <td>8124</td>\n",
              "      <td>8124</td>\n",
              "      <td>8124</td>\n",
              "      <td>8124</td>\n",
              "      <td>8124</td>\n",
              "      <td>8124</td>\n",
              "      <td>8124</td>\n",
              "      <td>8124</td>\n",
              "      <td>8124</td>\n",
              "      <td>8124</td>\n",
              "      <td>8124</td>\n",
              "      <td>8124</td>\n",
              "      <td>8124</td>\n",
              "      <td>8124</td>\n",
              "      <td>8124</td>\n",
              "      <td>8124</td>\n",
              "      <td>8124</td>\n",
              "      <td>8124</td>\n",
              "      <td>8124</td>\n",
              "    </tr>\n",
              "    <tr>\n",
              "      <th>unique</th>\n",
              "      <td>2</td>\n",
              "      <td>6</td>\n",
              "      <td>4</td>\n",
              "      <td>10</td>\n",
              "      <td>2</td>\n",
              "      <td>9</td>\n",
              "      <td>2</td>\n",
              "      <td>2</td>\n",
              "      <td>2</td>\n",
              "      <td>12</td>\n",
              "      <td>2</td>\n",
              "      <td>5</td>\n",
              "      <td>4</td>\n",
              "      <td>4</td>\n",
              "      <td>9</td>\n",
              "      <td>9</td>\n",
              "      <td>1</td>\n",
              "      <td>4</td>\n",
              "      <td>3</td>\n",
              "      <td>5</td>\n",
              "      <td>9</td>\n",
              "      <td>6</td>\n",
              "      <td>7</td>\n",
              "    </tr>\n",
              "    <tr>\n",
              "      <th>top</th>\n",
              "      <td>e</td>\n",
              "      <td>x</td>\n",
              "      <td>y</td>\n",
              "      <td>n</td>\n",
              "      <td>f</td>\n",
              "      <td>n</td>\n",
              "      <td>f</td>\n",
              "      <td>c</td>\n",
              "      <td>b</td>\n",
              "      <td>b</td>\n",
              "      <td>t</td>\n",
              "      <td>b</td>\n",
              "      <td>s</td>\n",
              "      <td>s</td>\n",
              "      <td>w</td>\n",
              "      <td>w</td>\n",
              "      <td>p</td>\n",
              "      <td>w</td>\n",
              "      <td>o</td>\n",
              "      <td>p</td>\n",
              "      <td>w</td>\n",
              "      <td>v</td>\n",
              "      <td>d</td>\n",
              "    </tr>\n",
              "    <tr>\n",
              "      <th>freq</th>\n",
              "      <td>4208</td>\n",
              "      <td>3656</td>\n",
              "      <td>3244</td>\n",
              "      <td>2284</td>\n",
              "      <td>4748</td>\n",
              "      <td>3528</td>\n",
              "      <td>7914</td>\n",
              "      <td>6812</td>\n",
              "      <td>5612</td>\n",
              "      <td>1728</td>\n",
              "      <td>4608</td>\n",
              "      <td>3776</td>\n",
              "      <td>5176</td>\n",
              "      <td>4936</td>\n",
              "      <td>4464</td>\n",
              "      <td>4384</td>\n",
              "      <td>8124</td>\n",
              "      <td>7924</td>\n",
              "      <td>7488</td>\n",
              "      <td>3968</td>\n",
              "      <td>2388</td>\n",
              "      <td>4040</td>\n",
              "      <td>3148</td>\n",
              "    </tr>\n",
              "  </tbody>\n",
              "</table>\n",
              "</div>"
            ],
            "text/plain": [
              "       class cap-shape cap-surface  ... spore-print-color population habitat\n",
              "count   8124      8124        8124  ...              8124       8124    8124\n",
              "unique     2         6           4  ...                 9          6       7\n",
              "top        e         x           y  ...                 w          v       d\n",
              "freq    4208      3656        3244  ...              2388       4040    3148\n",
              "\n",
              "[4 rows x 23 columns]"
            ]
          },
          "metadata": {
            "tags": []
          },
          "execution_count": 12
        }
      ]
    },
    {
      "cell_type": "markdown",
      "metadata": {
        "id": "YZE93JydGaEq"
      },
      "source": [
        "It doesn't look like any columns are missing data since we see counts of `8,124` for every column.\n",
        "\n",
        "It does look like all of the data is categorical. We'll need to convert it into numeric values for the model to work. Let's do it for every column except `class`. We aren't trying to predict class, but we do want to see if we can get pure clusters of one type of class. So we don't want it included in our training data. Also, it is the only feature that isn't observable without having dire consequences!"
      ]
    },
    {
      "cell_type": "code",
      "metadata": {
        "id": "UxVI_cMiBvtx",
        "colab": {
          "base_uri": "https://localhost:8080/",
          "height": 368
        },
        "outputId": "26098818-d603-4064-9d25-0a8b3deeebee"
      },
      "source": [
        "columns = [c for c in data.columns.values if c != 'class']\n",
        "id_to_value_mappings = {}\n",
        "value_to_id_mappings = {}\n",
        "\n",
        "for column in columns:\n",
        "  i_to_v = sorted(data[column].unique())\n",
        "  v_to_i = { v:i for i, v in enumerate(i_to_v)}\n",
        "  \n",
        "\n",
        "  numeric_column = column + '-id'\n",
        "  data[numeric_column] = [v_to_i[v] for v in data[column]]\n",
        "\n",
        "  value_to_id_mappings[column] = v_to_i\n",
        "  id_to_value_mappings[numeric_column] = i_to_v\n",
        "\n",
        "numeric_columns = id_to_value_mappings.keys()\n",
        "data[numeric_columns].describe()"
      ],
      "execution_count": null,
      "outputs": [
        {
          "output_type": "execute_result",
          "data": {
            "text/html": [
              "<div>\n",
              "<style scoped>\n",
              "    .dataframe tbody tr th:only-of-type {\n",
              "        vertical-align: middle;\n",
              "    }\n",
              "\n",
              "    .dataframe tbody tr th {\n",
              "        vertical-align: top;\n",
              "    }\n",
              "\n",
              "    .dataframe thead th {\n",
              "        text-align: right;\n",
              "    }\n",
              "</style>\n",
              "<table border=\"1\" class=\"dataframe\">\n",
              "  <thead>\n",
              "    <tr style=\"text-align: right;\">\n",
              "      <th></th>\n",
              "      <th>cap-shape-id</th>\n",
              "      <th>cap-surface-id</th>\n",
              "      <th>cap-color-id</th>\n",
              "      <th>bruises-id</th>\n",
              "      <th>odor-id</th>\n",
              "      <th>gill-attachment-id</th>\n",
              "      <th>gill-spacing-id</th>\n",
              "      <th>gill-size-id</th>\n",
              "      <th>gill-color-id</th>\n",
              "      <th>stalk-shape-id</th>\n",
              "      <th>stalk-root-id</th>\n",
              "      <th>stalk-surface-above-ring-id</th>\n",
              "      <th>stalk-surface-below-ring-id</th>\n",
              "      <th>stalk-color-above-ring-id</th>\n",
              "      <th>stalk-color-below-ring-id</th>\n",
              "      <th>veil-type-id</th>\n",
              "      <th>veil-color-id</th>\n",
              "      <th>ring-number-id</th>\n",
              "      <th>ring-type-id</th>\n",
              "      <th>spore-print-color-id</th>\n",
              "      <th>population-id</th>\n",
              "      <th>habitat-id</th>\n",
              "    </tr>\n",
              "  </thead>\n",
              "  <tbody>\n",
              "    <tr>\n",
              "      <th>count</th>\n",
              "      <td>8124.000000</td>\n",
              "      <td>8124.000000</td>\n",
              "      <td>8124.000000</td>\n",
              "      <td>8124.000000</td>\n",
              "      <td>8124.000000</td>\n",
              "      <td>8124.000000</td>\n",
              "      <td>8124.000000</td>\n",
              "      <td>8124.000000</td>\n",
              "      <td>8124.000000</td>\n",
              "      <td>8124.000000</td>\n",
              "      <td>8124.000000</td>\n",
              "      <td>8124.000000</td>\n",
              "      <td>8124.000000</td>\n",
              "      <td>8124.000000</td>\n",
              "      <td>8124.000000</td>\n",
              "      <td>8124.0</td>\n",
              "      <td>8124.000000</td>\n",
              "      <td>8124.000000</td>\n",
              "      <td>8124.000000</td>\n",
              "      <td>8124.000000</td>\n",
              "      <td>8124.000000</td>\n",
              "      <td>8124.000000</td>\n",
              "    </tr>\n",
              "    <tr>\n",
              "      <th>mean</th>\n",
              "      <td>3.348104</td>\n",
              "      <td>1.827671</td>\n",
              "      <td>4.504677</td>\n",
              "      <td>0.415559</td>\n",
              "      <td>4.144756</td>\n",
              "      <td>0.974151</td>\n",
              "      <td>0.161497</td>\n",
              "      <td>0.309207</td>\n",
              "      <td>4.810684</td>\n",
              "      <td>0.567208</td>\n",
              "      <td>1.109798</td>\n",
              "      <td>1.575086</td>\n",
              "      <td>1.603644</td>\n",
              "      <td>5.816347</td>\n",
              "      <td>5.794682</td>\n",
              "      <td>0.0</td>\n",
              "      <td>1.965534</td>\n",
              "      <td>1.069424</td>\n",
              "      <td>2.291974</td>\n",
              "      <td>3.596750</td>\n",
              "      <td>3.644018</td>\n",
              "      <td>1.508616</td>\n",
              "    </tr>\n",
              "    <tr>\n",
              "      <th>std</th>\n",
              "      <td>1.604329</td>\n",
              "      <td>1.229873</td>\n",
              "      <td>2.545821</td>\n",
              "      <td>0.492848</td>\n",
              "      <td>2.103729</td>\n",
              "      <td>0.158695</td>\n",
              "      <td>0.368011</td>\n",
              "      <td>0.462195</td>\n",
              "      <td>3.540359</td>\n",
              "      <td>0.495493</td>\n",
              "      <td>1.061106</td>\n",
              "      <td>0.621459</td>\n",
              "      <td>0.675974</td>\n",
              "      <td>1.901747</td>\n",
              "      <td>1.907291</td>\n",
              "      <td>0.0</td>\n",
              "      <td>0.242669</td>\n",
              "      <td>0.271064</td>\n",
              "      <td>1.801672</td>\n",
              "      <td>2.382663</td>\n",
              "      <td>1.252082</td>\n",
              "      <td>1.719975</td>\n",
              "    </tr>\n",
              "    <tr>\n",
              "      <th>min</th>\n",
              "      <td>0.000000</td>\n",
              "      <td>0.000000</td>\n",
              "      <td>0.000000</td>\n",
              "      <td>0.000000</td>\n",
              "      <td>0.000000</td>\n",
              "      <td>0.000000</td>\n",
              "      <td>0.000000</td>\n",
              "      <td>0.000000</td>\n",
              "      <td>0.000000</td>\n",
              "      <td>0.000000</td>\n",
              "      <td>0.000000</td>\n",
              "      <td>0.000000</td>\n",
              "      <td>0.000000</td>\n",
              "      <td>0.000000</td>\n",
              "      <td>0.000000</td>\n",
              "      <td>0.0</td>\n",
              "      <td>0.000000</td>\n",
              "      <td>0.000000</td>\n",
              "      <td>0.000000</td>\n",
              "      <td>0.000000</td>\n",
              "      <td>0.000000</td>\n",
              "      <td>0.000000</td>\n",
              "    </tr>\n",
              "    <tr>\n",
              "      <th>25%</th>\n",
              "      <td>2.000000</td>\n",
              "      <td>0.000000</td>\n",
              "      <td>3.000000</td>\n",
              "      <td>0.000000</td>\n",
              "      <td>2.000000</td>\n",
              "      <td>1.000000</td>\n",
              "      <td>0.000000</td>\n",
              "      <td>0.000000</td>\n",
              "      <td>2.000000</td>\n",
              "      <td>0.000000</td>\n",
              "      <td>0.000000</td>\n",
              "      <td>1.000000</td>\n",
              "      <td>1.000000</td>\n",
              "      <td>6.000000</td>\n",
              "      <td>6.000000</td>\n",
              "      <td>0.0</td>\n",
              "      <td>2.000000</td>\n",
              "      <td>1.000000</td>\n",
              "      <td>0.000000</td>\n",
              "      <td>2.000000</td>\n",
              "      <td>3.000000</td>\n",
              "      <td>0.000000</td>\n",
              "    </tr>\n",
              "    <tr>\n",
              "      <th>50%</th>\n",
              "      <td>3.000000</td>\n",
              "      <td>2.000000</td>\n",
              "      <td>4.000000</td>\n",
              "      <td>0.000000</td>\n",
              "      <td>5.000000</td>\n",
              "      <td>1.000000</td>\n",
              "      <td>0.000000</td>\n",
              "      <td>0.000000</td>\n",
              "      <td>5.000000</td>\n",
              "      <td>1.000000</td>\n",
              "      <td>1.000000</td>\n",
              "      <td>2.000000</td>\n",
              "      <td>2.000000</td>\n",
              "      <td>7.000000</td>\n",
              "      <td>7.000000</td>\n",
              "      <td>0.0</td>\n",
              "      <td>2.000000</td>\n",
              "      <td>1.000000</td>\n",
              "      <td>2.000000</td>\n",
              "      <td>3.000000</td>\n",
              "      <td>4.000000</td>\n",
              "      <td>1.000000</td>\n",
              "    </tr>\n",
              "    <tr>\n",
              "      <th>75%</th>\n",
              "      <td>5.000000</td>\n",
              "      <td>3.000000</td>\n",
              "      <td>8.000000</td>\n",
              "      <td>1.000000</td>\n",
              "      <td>5.000000</td>\n",
              "      <td>1.000000</td>\n",
              "      <td>0.000000</td>\n",
              "      <td>1.000000</td>\n",
              "      <td>7.000000</td>\n",
              "      <td>1.000000</td>\n",
              "      <td>1.000000</td>\n",
              "      <td>2.000000</td>\n",
              "      <td>2.000000</td>\n",
              "      <td>7.000000</td>\n",
              "      <td>7.000000</td>\n",
              "      <td>0.0</td>\n",
              "      <td>2.000000</td>\n",
              "      <td>1.000000</td>\n",
              "      <td>4.000000</td>\n",
              "      <td>7.000000</td>\n",
              "      <td>4.000000</td>\n",
              "      <td>2.000000</td>\n",
              "    </tr>\n",
              "    <tr>\n",
              "      <th>max</th>\n",
              "      <td>5.000000</td>\n",
              "      <td>3.000000</td>\n",
              "      <td>9.000000</td>\n",
              "      <td>1.000000</td>\n",
              "      <td>8.000000</td>\n",
              "      <td>1.000000</td>\n",
              "      <td>1.000000</td>\n",
              "      <td>1.000000</td>\n",
              "      <td>11.000000</td>\n",
              "      <td>1.000000</td>\n",
              "      <td>4.000000</td>\n",
              "      <td>3.000000</td>\n",
              "      <td>3.000000</td>\n",
              "      <td>8.000000</td>\n",
              "      <td>8.000000</td>\n",
              "      <td>0.0</td>\n",
              "      <td>3.000000</td>\n",
              "      <td>2.000000</td>\n",
              "      <td>4.000000</td>\n",
              "      <td>8.000000</td>\n",
              "      <td>5.000000</td>\n",
              "      <td>6.000000</td>\n",
              "    </tr>\n",
              "  </tbody>\n",
              "</table>\n",
              "</div>"
            ],
            "text/plain": [
              "       cap-shape-id  cap-surface-id  ...  population-id   habitat-id\n",
              "count   8124.000000     8124.000000  ...    8124.000000  8124.000000\n",
              "mean       3.348104        1.827671  ...       3.644018     1.508616\n",
              "std        1.604329        1.229873  ...       1.252082     1.719975\n",
              "min        0.000000        0.000000  ...       0.000000     0.000000\n",
              "25%        2.000000        0.000000  ...       3.000000     0.000000\n",
              "50%        3.000000        2.000000  ...       4.000000     1.000000\n",
              "75%        5.000000        3.000000  ...       4.000000     2.000000\n",
              "max        5.000000        3.000000  ...       5.000000     6.000000\n",
              "\n",
              "[8 rows x 22 columns]"
            ]
          },
          "metadata": {
            "tags": []
          },
          "execution_count": 13
        }
      ]
    },
    {
      "cell_type": "markdown",
      "metadata": {
        "id": "pxHbDQi5RehL"
      },
      "source": [
        "### Perform Clustering"
      ]
    },
    {
      "cell_type": "markdown",
      "metadata": {
        "id": "-ZTI-QWeRcXE"
      },
      "source": [
        "We now have numeric data that a model can handle. To run k-means clustering on the data, we simply load [k-means](https://scikit-learn.org/stable/modules/generated/sklearn.cluster.KMeans.html) from scikit-learn and ask the model to find a specific number of clusters for us.\n",
        "\n",
        "Notice that we are scaling the data. The class IDs are integer values, and some columns have many more classes than others. Scaling helps make sure that columns with more classes don't have an undue influence on the model."
      ]
    },
    {
      "cell_type": "code",
      "metadata": {
        "id": "R1kKMdvzC27A",
        "colab": {
          "base_uri": "https://localhost:8080/"
        },
        "outputId": "000bb01f-f6e6-4996-e2a2-7ce41cc87c12"
      },
      "source": [
        "from sklearn.cluster import KMeans\n",
        "from sklearn.preprocessing import scale\n",
        "\n",
        "model = KMeans(n_clusters=10)\n",
        "model.fit(scale(data[numeric_columns]))\n",
        "\n",
        "print(model.inertia_)"
      ],
      "execution_count": null,
      "outputs": [
        {
          "output_type": "stream",
          "text": [
            "60210.87435141582\n"
          ],
          "name": "stdout"
        }
      ]
    },
    {
      "cell_type": "markdown",
      "metadata": {
        "id": "PMOPqimXSlaQ"
      },
      "source": [
        "We asked scikit-learn to create 10 clusters for us, and then we printed out the `inertia_` for the resultant clusters. *Inertia* is the sum of the squared distances of samples to their closest cluster center. Typically, the smaller the inertia the better.\n",
        "\n",
        "But why did we choose `10` clusters? And is the inertia that we received reasonable?"
      ]
    },
    {
      "cell_type": "markdown",
      "metadata": {
        "id": "Asbd5pyUSp2G"
      },
      "source": [
        "### Find the Optimal Number of Clusters\n",
        "\n",
        "With just one run of the algorithm, it is difficult to tell how many clusters we should have and what an appropriate inertia value is. k-means is trying to discover things about your data that you do not know. Picking a number of clusters at random isn't the best way to use k-means.\n",
        "\n",
        "Instead, you should experiment with a few different cluster values and measure the inertia of each. As you increase the number of clusters, your inertia should decrease."
      ]
    },
    {
      "cell_type": "code",
      "metadata": {
        "id": "1WlVhQkWC_iK",
        "colab": {
          "base_uri": "https://localhost:8080/",
          "height": 265
        },
        "outputId": "4586f433-39bb-4bdd-a4d5-0febe75e843d"
      },
      "source": [
        "from sklearn.cluster import KMeans\n",
        "from sklearn.preprocessing import scale\n",
        "import matplotlib.pyplot as plt\n",
        "\n",
        "clusters = list(range(5, 50, 5))\n",
        "inertias = []\n",
        "\n",
        "scaled_data = scale(data[numeric_columns])\n",
        "\n",
        "for c in clusters:\n",
        "  model = KMeans(n_clusters=c)\n",
        "  model = model.fit(scaled_data)\n",
        "  inertias.append(model.inertia_)\n",
        "\n",
        "plt.plot(clusters, inertias)\n",
        "plt.show()"
      ],
      "execution_count": null,
      "outputs": [
        {
          "output_type": "display_data",
          "data": {
            "image/png": "[encoded data removed]",
            "text/plain": [
              "<Figure size 432x288 with 1 Axes>"
            ]
          },
          "metadata": {
            "tags": [],
            "needs_background": "light"
          }
        }
      ]
    },
    {
      "cell_type": "markdown",
      "metadata": {
        "id": "UGrJ_QGkS3EF"
      },
      "source": [
        "The resulting graph should start high and to the left and curve down as the number of clusters grows. The initial slope is steep, but begins to level off. Your optimal number of clusters is somewhere in the [\"elbow\" of the graph](https://en.wikipedia.org/wiki/Elbow_method_(clustering) as the slope levels.\n",
        "\n",
        "Once you have this number, you need to then check to see if the number is reasonable for your use case. Say that the 'optimal' number of clusters for our mushroom identification is 15. Is that a reasonable number of clusters to deal with? If we have too many, we can overfit and make the model poor at generalizing. And what are the purposes of the clusters? If you are clustering mushrooms and want to find clusters that are definitely safe to eat, 15 or more clusters might be perfectly fine. If you are clustering customers for different advertising campaigns, 15 different campaigns might be more than your marketing department can handle.\n",
        "\n",
        "Clustering the data is often just the start of your journey. Once you have clusters, you'll need to look at each group and try to determine what makes them similar. What patterns did the clustering find? And will that clustering be useful to you?"
      ]
    },
    {
      "cell_type": "markdown",
      "metadata": {
        "id": "cVmJq7-ZTho3"
      },
      "source": [
        "### Examining Clusters"
      ]
    },
    {
      "cell_type": "markdown",
      "metadata": {
        "id": "2_IFLvUbTlDq"
      },
      "source": [
        "Let's say that `15` is a reasonable number of clusters. We can rebuild the model using that setting."
      ]
    },
    {
      "cell_type": "code",
      "metadata": {
        "id": "xfLmrYcwGKII",
        "colab": {
          "base_uri": "https://localhost:8080/"
        },
        "outputId": "224edffb-02f0-4c5a-b981-4db3faaf7ab1"
      },
      "source": [
        "from sklearn.cluster import KMeans\n",
        "from sklearn.preprocessing import scale\n",
        "\n",
        "model = KMeans(n_clusters=15)\n",
        "model.fit(scale(data[numeric_columns]))\n",
        "\n",
        "print(model.inertia_)"
      ],
      "execution_count": null,
      "outputs": [
        {
          "output_type": "stream",
          "text": [
            "48312.365847337496\n"
          ],
          "name": "stdout"
        }
      ]
    },
    {
      "cell_type": "markdown",
      "metadata": {
        "id": "AjHeNiyETwLZ"
      },
      "source": [
        "Now let's see if we have any 'pure' clusters. These are clusters with all-edible or all-poisonous mushrooms."
      ]
    },
    {
      "cell_type": "code",
      "metadata": {
        "id": "_Q5DkPXBGs_I",
        "colab": {
          "base_uri": "https://localhost:8080/"
        },
        "outputId": "9f859212-e5ec-46a2-abf7-c87a2f1ca8f3"
      },
      "source": [
        "import numpy as np\n",
        "\n",
        "for cluster in sorted(np.unique(model.labels_)):\n",
        "  num_edible = np.sum(data[model.labels_ == cluster]['class'] == 'e')\n",
        "  total = np.sum(model.labels_ == cluster)\n",
        "  print(cluster, num_edible / total)"
      ],
      "execution_count": null,
      "outputs": [
        {
          "output_type": "stream",
          "text": [
            "0 1.0\n",
            "1 0.9707865168539326\n",
            "2 0.0\n",
            "3 0.05263157894736842\n",
            "4 0.8235294117647058\n",
            "5 0.2727272727272727\n",
            "6 0.9142857142857143\n",
            "7 0.0\n",
            "8 0.9723756906077348\n",
            "9 0.0\n",
            "10 0.0\n",
            "11 1.0\n",
            "12 1.0\n",
            "13 1.0\n",
            "14 0.3567567567567568\n"
          ],
          "name": "stdout"
        }
      ]
    },
    {
      "cell_type": "markdown",
      "metadata": {
        "id": "irNyQCzzT_el"
      },
      "source": [
        "In our model we had clusters `0`, `1`, `6`, and `10` be `100%` edible. Clusters `2`, `4`, `7`, and `12` were all poisonous. The remaining were a mix of the two.\n",
        "\n",
        "Knowing this, let's look at one of the all-edible clusters and see what attributes we could look for to have confidence that we have an edible mushroom."
      ]
    },
    {
      "cell_type": "code",
      "metadata": {
        "id": "5WhvIM6CMRp0",
        "colab": {
          "base_uri": "https://localhost:8080/"
        },
        "outputId": "0f2968ad-da70-4c01-a15b-5bc7b1f891ac"
      },
      "source": [
        "edible = data[model.labels_ == 1]\n",
        "\n",
        "for column in edible.columns:\n",
        "  if column.endswith('-id'):\n",
        "    continue\n",
        "  print(column, edible[column].unique())\n"
      ],
      "execution_count": null,
      "outputs": [
        {
          "output_type": "stream",
          "text": [
            "class ['e' 'p']\n",
            "cap-shape ['x' 'f']\n",
            "cap-surface ['y' 's']\n",
            "cap-color ['g' 'e' 'n' 'b' 'w']\n",
            "bruises ['t']\n",
            "odor ['n' 'f']\n",
            "gill-attachment ['f']\n",
            "gill-spacing ['c']\n",
            "gill-size ['b']\n",
            "gill-color ['n' 'u' 'w' 'p' 'h']\n",
            "stalk-shape ['t']\n",
            "stalk-root ['b']\n",
            "stalk-surface-above-ring ['s']\n",
            "stalk-surface-below-ring ['s']\n",
            "stalk-color-above-ring ['g' 'p' 'w']\n",
            "stalk-color-below-ring ['w' 'p' 'g']\n",
            "veil-type ['p']\n",
            "veil-color ['w']\n",
            "ring-number ['o']\n",
            "ring-type ['p']\n",
            "spore-print-color ['n' 'k' 'h']\n",
            "population ['y' 'v' 's']\n",
            "habitat ['d' 'g']\n"
          ],
          "name": "stdout"
        }
      ]
    },
    {
      "cell_type": "markdown",
      "metadata": {
        "id": "-URbeexwVRtT"
      },
      "source": [
        "The mapping of the letter codes to more descriptive text can be found in the [dataset description](https://www.kaggle.com/uciml/mushroom-classification)."
      ]
    },
    {
      "cell_type": "markdown",
      "metadata": {
        "id": "t2ySDMeeP-6J"
      },
      "source": [
        "## Example: Classification of Digits\n",
        "\n",
        "Clustering for data exploration purposes can lead to interesting insights in to your data, but clustering can also be used for classification purposes.\n",
        "\n",
        "In the example below, we'll try to use k-means clustering to predict handwritten digits."
      ]
    },
    {
      "cell_type": "markdown",
      "metadata": {
        "id": "QePSEGmwQY2W"
      },
      "source": [
        "### Load the Data\n",
        "\n",
        "We'll load the digits dataset packaged with scikit-learn."
      ]
    },
    {
      "cell_type": "code",
      "metadata": {
        "id": "C9pGH4rfQUgA"
      },
      "source": [
        "from sklearn.datasets import load_digits\n",
        "\n",
        "digits = load_digits()"
      ],
      "execution_count": null,
      "outputs": []
    },
    {
      "cell_type": "markdown",
      "metadata": {
        "id": "5OTRl2plQgDi"
      },
      "source": [
        "### Scale the Data\n",
        "\n",
        "It is good practice to scale the data to ensure that outliers don't have too big of an impact on the clustering."
      ]
    },
    {
      "cell_type": "code",
      "metadata": {
        "id": "t0aBmYGPQnri"
      },
      "source": [
        "from sklearn.preprocessing import scale\n",
        "\n",
        "scaled_digits = scale(digits.data)"
      ],
      "execution_count": null,
      "outputs": []
    },
    {
      "cell_type": "markdown",
      "metadata": {
        "id": "dwQ9Df4zQ_a_"
      },
      "source": [
        "### Fit a Model\n",
        "\n",
        "We can then create a k-means model with 10 clusters. (We know there are 10 digits from 0 through 9.)"
      ]
    },
    {
      "cell_type": "code",
      "metadata": {
        "id": "gZaOn2gRQzsu"
      },
      "source": [
        "from sklearn.cluster import KMeans\n",
        "\n",
        "model = KMeans(n_clusters=10)\n",
        "model = model.fit(scaled_digits)"
      ],
      "execution_count": null,
      "outputs": []
    },
    {
      "cell_type": "markdown",
      "metadata": {
        "id": "M0bCgYN_SCw5"
      },
      "source": [
        "### Make Predictions\n",
        "\n",
        "We can then use the model to predict which category a data point belongs to.\n",
        "\n",
        "In the case below, we'll just use some of the data that we trained with for illustrative purposes. The prediction will provide a numeric value."
      ]
    },
    {
      "cell_type": "code",
      "metadata": {
        "id": "mpLDPTMyRm7i",
        "colab": {
          "base_uri": "https://localhost:8080/"
        },
        "outputId": "4b40d41c-aba6-462f-e195-aafd7919fb96"
      },
      "source": [
        "cluster = model.predict([scaled_digits[0]])[0]\n",
        "\n",
        "cluster"
      ],
      "execution_count": null,
      "outputs": [
        {
          "output_type": "execute_result",
          "data": {
            "text/plain": [
              "2"
            ]
          },
          "metadata": {
            "tags": []
          },
          "execution_count": 37
        }
      ]
    },
    {
      "cell_type": "markdown",
      "metadata": {
        "id": "R_yDe1QZSaBj"
      },
      "source": [
        "What is this value? Is it the predicted digit?\n",
        "\n",
        "No. This number is the cluster that the model thinks the digit belongs to. To determine the predicted digit, we'll need to see what other digits are in the cluster and choose the most popular one for our classification.\n"
      ]
    },
    {
      "cell_type": "code",
      "metadata": {
        "id": "RzccT4gMSxi2",
        "colab": {
          "base_uri": "https://localhost:8080/"
        },
        "outputId": "a8ae25a4-265c-40b8-edc0-b4693a4757c7"
      },
      "source": [
        "import numpy as np\n",
        "\n",
        "labels = digits.target\n",
        "\n",
        "cluster_to_digit = [\n",
        "  np.argmax(\n",
        "      np.bincount(\n",
        "        np.array(\n",
        "          [labels[i] for i in range(len(model.labels_)) if model.labels_[i] == cluster]\n",
        "        )\n",
        "      )\n",
        "    ) for cluster in range(10)\n",
        "]\n",
        "\n",
        "cluster_to_digit"
      ],
      "execution_count": null,
      "outputs": [
        {
          "output_type": "execute_result",
          "data": {
            "text/plain": [
              "[8, 6, 0, 7, 3, 1, 2, 5, 4, 7]"
            ]
          },
          "metadata": {
            "tags": []
          },
          "execution_count": 38
        }
      ]
    },
    {
      "cell_type": "markdown",
      "metadata": {
        "id": "LtBucdm7j9vQ"
      },
      "source": [
        "Here we can see the digit that each cluster represents."
      ]
    },
    {
      "cell_type": "markdown",
      "metadata": {
        "id": "Y1aVtOwEVdQf"
      },
      "source": [
        "### Measure Model Quality\n",
        "\n",
        "If we do have labeled data, as is the case with our digits data, then we can measure the quality of our model using the [homogeneity score](https://scikit-learn.org/stable/modules/generated/sklearn.metrics.homogeneity_score.html#sklearn.metrics.homogeneity_score_) and the [completeness score](https://scikit-learn.org/stable/modules/generated/sklearn.metrics.completeness_score.html#sklearn.metrics.completeness_score)."
      ]
    },
    {
      "cell_type": "code",
      "metadata": {
        "id": "r85vjdc0_l6S",
        "colab": {
          "base_uri": "https://localhost:8080/"
        },
        "outputId": "0b4df086-378b-4224-b2e5-6954c590aea4"
      },
      "source": [
        "from sklearn.metrics import homogeneity_score\n",
        "from sklearn.metrics import completeness_score\n",
        "\n",
        "homogeneity = homogeneity_score(labels, model.labels_)\n",
        "completeness = completeness_score(labels, model.labels_)\n",
        "homogeneity, completeness"
      ],
      "execution_count": null,
      "outputs": [
        {
          "output_type": "execute_result",
          "data": {
            "text/plain": [
              "(0.6753056654215962, 0.7161031636370648)"
            ]
          },
          "metadata": {
            "tags": []
          },
          "execution_count": 40
        }
      ]
    },
    {
      "cell_type": "markdown",
      "metadata": {
        "id": "X5IZSU1OvPMN"
      },
      "source": [
        "# Exercises"
      ]
    },
    {
      "cell_type": "markdown",
      "metadata": {
        "id": "sCkXnAZHXEUL"
      },
      "source": [
        "## Exercise 1"
      ]
    },
    {
      "cell_type": "markdown",
      "metadata": {
        "id": "Pzwm9vnEkoAf"
      },
      "source": [
        "Load the [iris dataset](https://scikit-learn.org/stable/auto_examples/datasets/plot_iris_dataset.html), create a k-means model with three clusters, and then find the homogeneity and completeness scores for the model. "
      ]
    },
    {
      "cell_type": "markdown",
      "metadata": {
        "id": "abvbIkWfvSl3"
      },
      "source": [
        "### **Student Solution**"
      ]
    },
    {
      "cell_type": "code",
      "metadata": {
        "id": "s3rLeWvIXhoo",
        "colab": {
          "base_uri": "https://localhost:8080/"
        },
        "outputId": "81c1cfb2-7cac-4cbf-f76b-1c1e9f302e42"
      },
      "source": [
        "from sklearn.datasets import load_iris\n",
        "\n",
        "iris = load_iris()\n",
        "\n",
        "from sklearn.preprocessing import scale\n",
        "\n",
        "scaled_iris = scale(iris.data)\n",
        "\n",
        "from sklearn.cluster import KMeans\n",
        "\n",
        "model = KMeans(n_clusters=3)\n",
        "model = model.fit(scaled_iris)\n",
        "\n",
        "# cluster = model.predict([scaled_iris[0]])[0]\n",
        "\n",
        "import numpy as np\n",
        "\n",
        "labels = iris.target\n",
        "\n",
        "cluster_to_digit = [\n",
        "  np.argmax(\n",
        "      np.bincount(\n",
        "        np.array(\n",
        "          [labels[i] for i in range(len(model.labels_)) if model.labels_[i] == cluster]\n",
        "        )\n",
        "      )\n",
        "    ) for cluster in range(3)\n",
        "]\n",
        "\n",
        "from sklearn.metrics import homogeneity_score\n",
        "from sklearn.metrics import completeness_score\n",
        "\n",
        "print(model.inertia_,\n",
        "      homogeneity_score(labels, model.labels_),\n",
        "      completeness_score(labels, model.labels_))"
      ],
      "execution_count": null,
      "outputs": [
        {
          "output_type": "stream",
          "text": [
            "139.82049635974982 0.6591265018049008 0.6598476779627759\n"
          ],
          "name": "stdout"
        }
      ]
    },
    {
      "cell_type": "markdown",
      "metadata": {
        "id": "qqSceBD3HDkU"
      },
      "source": [
        "---"
      ]
    },
    {
      "cell_type": "markdown",
      "metadata": {
        "id": "fjo4qeMNYu1T"
      },
      "source": [
        "## Exercise 2"
      ]
    },
    {
      "cell_type": "markdown",
      "metadata": {
        "id": "5VetIjZ1kqNk"
      },
      "source": [
        "Load the [iris dataset](https://scikit-learn.org/stable/auto_examples/datasets/plot_iris_dataset.html), and then create a k-means model with three clusters using only two features. (Try to find the best two features for clustering.) Create a plot of the two features.\n",
        "\n",
        "For each datapoint in the chart, use a [marker](https://matplotlib.org/api/markers_api.html) to encode the actual/correct species. For instance, use a triangle for Setosa, a square for Versicolour, and a circle for Virginica. Color each marker green if the predicted class matches the actual. Color each marker red if the classes don't match."
      ]
    },
    {
      "cell_type": "markdown",
      "metadata": {
        "id": "6ewsx_qWvXM8"
      },
      "source": [
        "### **Student Solution**"
      ]
    },
    {
      "cell_type": "code",
      "metadata": {
        "colab": {
          "base_uri": "https://localhost:8080/"
        },
        "id": "tP_dyOza6006",
        "outputId": "d9328ca2-2125-4bd5-9187-de41eccce795"
      },
      "source": [
        "scaled_iris.shape"
      ],
      "execution_count": null,
      "outputs": [
        {
          "output_type": "execute_result",
          "data": {
            "text/plain": [
              "(150, 2)"
            ]
          },
          "metadata": {
            "tags": []
          },
          "execution_count": 19
        }
      ]
    },
    {
      "cell_type": "code",
      "metadata": {
        "id": "Q-tgFdNHYuI5",
        "colab": {
          "base_uri": "https://localhost:8080/"
        },
        "outputId": "7eb1c713-516a-4dd6-bd21-e8020eb42d8d"
      },
      "source": [
        "from sklearn.datasets import load_iris\n",
        "\n",
        "iris = load_iris()\n",
        "\n",
        "from sklearn.preprocessing import scale\n",
        "\n",
        "scaled_iris = scale(iris.data[:, 2:])\n",
        "\n",
        "from sklearn.cluster import KMeans\n",
        "\n",
        "model = KMeans(n_clusters=3)\n",
        "model = model.fit(scaled_iris)\n",
        "\n",
        "cluster = model.predict(scaled_iris)\n",
        "\n",
        "import numpy as np\n",
        "\n",
        "labels = iris.target\n",
        "\n",
        "cluster_to_digit = [\n",
        "  np.argmax(\n",
        "      np.bincount(\n",
        "        np.array(\n",
        "          [labels[i] for i in range(len(model.labels_)) if model.labels_[i] == cluster]\n",
        "        )\n",
        "      )\n",
        "    ) for cluster in range(3)\n",
        "]\n",
        "\n",
        "from sklearn.metrics import homogeneity_score\n",
        "from sklearn.metrics import completeness_score\n",
        "\n",
        "print(model.inertia_,\n",
        "      homogeneity_score(labels, model.labels_),\n",
        "      completeness_score(labels, model.labels_))"
      ],
      "execution_count": null,
      "outputs": [
        {
          "output_type": "stream",
          "text": [
            "18.026962612544068 0.8639756867013153 0.8643954288752762\n"
          ],
          "name": "stdout"
        }
      ]
    },
    {
      "cell_type": "code",
      "metadata": {
        "colab": {
          "base_uri": "https://localhost:8080/"
        },
        "id": "QfKQlvOZOWvJ",
        "outputId": "1cc876b5-a838-4a01-e717-4c4a5bd77a9f"
      },
      "source": [
        "cluster_to_digit"
      ],
      "execution_count": null,
      "outputs": [
        {
          "output_type": "execute_result",
          "data": {
            "text/plain": [
              "[2, 0, 1]"
            ]
          },
          "metadata": {
            "tags": []
          },
          "execution_count": 78
        }
      ]
    },
    {
      "cell_type": "code",
      "metadata": {
        "id": "YIbHNVYE8yL6"
      },
      "source": [
        "cluster_label_dict = {0:2, 1:0, 2:1}\n",
        "cluster_labels = [cluster_label_dict[k] for k in cluster]"
      ],
      "execution_count": null,
      "outputs": []
    },
    {
      "cell_type": "code",
      "metadata": {
        "colab": {
          "base_uri": "https://localhost:8080/",
          "height": 419
        },
        "id": "ZByl_EiM0c1s",
        "outputId": "117caa2c-4932-4c57-867a-30733628f484"
      },
      "source": [
        "import pandas as pd\n",
        "\n",
        "df = pd.DataFrame(iris.data[:, 2:], columns=iris.feature_names[2:])\n",
        "df = df.assign(target = iris.target)\n",
        "df = df.assign(guesses = cluster_labels)\n",
        "df['color'] = np.where(\n",
        "    df.target == df.guesses, 'Correct', 'Incorrect')\n",
        "# df['marker'] = np.where(\n",
        "#     df.target == 0, '^', np.where(\n",
        "#         df.target == 1, 's', 'o'))\n",
        "df"
      ],
      "execution_count": null,
      "outputs": [
        {
          "output_type": "execute_result",
          "data": {
            "text/html": [
              "<div>\n",
              "<style scoped>\n",
              "    .dataframe tbody tr th:only-of-type {\n",
              "        vertical-align: middle;\n",
              "    }\n",
              "\n",
              "    .dataframe tbody tr th {\n",
              "        vertical-align: top;\n",
              "    }\n",
              "\n",
              "    .dataframe thead th {\n",
              "        text-align: right;\n",
              "    }\n",
              "</style>\n",
              "<table border=\"1\" class=\"dataframe\">\n",
              "  <thead>\n",
              "    <tr style=\"text-align: right;\">\n",
              "      <th></th>\n",
              "      <th>petal length (cm)</th>\n",
              "      <th>petal width (cm)</th>\n",
              "      <th>target</th>\n",
              "      <th>guesses</th>\n",
              "      <th>color</th>\n",
              "    </tr>\n",
              "  </thead>\n",
              "  <tbody>\n",
              "    <tr>\n",
              "      <th>0</th>\n",
              "      <td>1.4</td>\n",
              "      <td>0.2</td>\n",
              "      <td>0</td>\n",
              "      <td>0</td>\n",
              "      <td>Correct</td>\n",
              "    </tr>\n",
              "    <tr>\n",
              "      <th>1</th>\n",
              "      <td>1.4</td>\n",
              "      <td>0.2</td>\n",
              "      <td>0</td>\n",
              "      <td>0</td>\n",
              "      <td>Correct</td>\n",
              "    </tr>\n",
              "    <tr>\n",
              "      <th>2</th>\n",
              "      <td>1.3</td>\n",
              "      <td>0.2</td>\n",
              "      <td>0</td>\n",
              "      <td>0</td>\n",
              "      <td>Correct</td>\n",
              "    </tr>\n",
              "    <tr>\n",
              "      <th>3</th>\n",
              "      <td>1.5</td>\n",
              "      <td>0.2</td>\n",
              "      <td>0</td>\n",
              "      <td>0</td>\n",
              "      <td>Correct</td>\n",
              "    </tr>\n",
              "    <tr>\n",
              "      <th>4</th>\n",
              "      <td>1.4</td>\n",
              "      <td>0.2</td>\n",
              "      <td>0</td>\n",
              "      <td>0</td>\n",
              "      <td>Correct</td>\n",
              "    </tr>\n",
              "    <tr>\n",
              "      <th>...</th>\n",
              "      <td>...</td>\n",
              "      <td>...</td>\n",
              "      <td>...</td>\n",
              "      <td>...</td>\n",
              "      <td>...</td>\n",
              "    </tr>\n",
              "    <tr>\n",
              "      <th>145</th>\n",
              "      <td>5.2</td>\n",
              "      <td>2.3</td>\n",
              "      <td>2</td>\n",
              "      <td>2</td>\n",
              "      <td>Correct</td>\n",
              "    </tr>\n",
              "    <tr>\n",
              "      <th>146</th>\n",
              "      <td>5.0</td>\n",
              "      <td>1.9</td>\n",
              "      <td>2</td>\n",
              "      <td>2</td>\n",
              "      <td>Correct</td>\n",
              "    </tr>\n",
              "    <tr>\n",
              "      <th>147</th>\n",
              "      <td>5.2</td>\n",
              "      <td>2.0</td>\n",
              "      <td>2</td>\n",
              "      <td>2</td>\n",
              "      <td>Correct</td>\n",
              "    </tr>\n",
              "    <tr>\n",
              "      <th>148</th>\n",
              "      <td>5.4</td>\n",
              "      <td>2.3</td>\n",
              "      <td>2</td>\n",
              "      <td>2</td>\n",
              "      <td>Correct</td>\n",
              "    </tr>\n",
              "    <tr>\n",
              "      <th>149</th>\n",
              "      <td>5.1</td>\n",
              "      <td>1.8</td>\n",
              "      <td>2</td>\n",
              "      <td>2</td>\n",
              "      <td>Correct</td>\n",
              "    </tr>\n",
              "  </tbody>\n",
              "</table>\n",
              "<p>150 rows × 5 columns</p>\n",
              "</div>"
            ],
            "text/plain": [
              "     petal length (cm)  petal width (cm)  target  guesses    color\n",
              "0                  1.4               0.2       0        0  Correct\n",
              "1                  1.4               0.2       0        0  Correct\n",
              "2                  1.3               0.2       0        0  Correct\n",
              "3                  1.5               0.2       0        0  Correct\n",
              "4                  1.4               0.2       0        0  Correct\n",
              "..                 ...               ...     ...      ...      ...\n",
              "145                5.2               2.3       2        2  Correct\n",
              "146                5.0               1.9       2        2  Correct\n",
              "147                5.2               2.0       2        2  Correct\n",
              "148                5.4               2.3       2        2  Correct\n",
              "149                5.1               1.8       2        2  Correct\n",
              "\n",
              "[150 rows x 5 columns]"
            ]
          },
          "metadata": {
            "tags": []
          },
          "execution_count": 97
        }
      ]
    },
    {
      "cell_type": "code",
      "metadata": {
        "colab": {
          "base_uri": "https://localhost:8080/",
          "height": 296
        },
        "id": "PRT_u2yP-EgW",
        "outputId": "bee2c954-c47d-4994-9d6e-4639a1cbcc6a"
      },
      "source": [
        "from seaborn import scatterplot\n",
        "\n",
        "markers = {0:'^', 1:'s', 2:'o'}\n",
        "\n",
        "scatterplot(\n",
        "    data=df,\n",
        "    x=iris.feature_names[2],\n",
        "    y=iris.feature_names[3],\n",
        "    hue='color',\n",
        "    palette=['green', 'red'],\n",
        "    style='target',\n",
        "    markers=markers\n",
        ")"
      ],
      "execution_count": null,
      "outputs": [
        {
          "output_type": "execute_result",
          "data": {
            "text/plain": [
              "<matplotlib.axes._subplots.AxesSubplot at 0x7f0637e08f90>"
            ]
          },
          "metadata": {
            "tags": []
          },
          "execution_count": 98
        },
        {
          "output_type": "display_data",
          "data": {
            "image/png": "[encoded data removed]",
            "text/plain": [
              "<Figure size 432x288 with 1 Axes>"
            ]
          },
          "metadata": {
            "tags": [],
            "needs_background": "light"
          }
        }
      ]
    },
    {
      "cell_type": "markdown",
      "metadata": {
        "id": "eiHWlzVxHge1"
      },
      "source": [
        "---"
      ]
    }
  ]
}