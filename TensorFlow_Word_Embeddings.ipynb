{
  "nbformat": 4,
  "nbformat_minor": 0,
  "metadata": {
    "colab": {
      "name": "Embeddings.ipynb",
      "provenance": [],
      "collapsed_sections": [
        "copyright",
        "exercise-1-key-1",
        "exercise-2-key-1",
        "exercise-3-key-1",
        "exercise-4-key-1"
      ]
    },
    "kernelspec": {
      "display_name": "Python 3",
      "name": "python3"
    }
  },
  "cells": [
    {
      "cell_type": "markdown",
      "metadata": {
        "id": "copyright"
      },
      "source": [
        "#### Copyright 2020 Google LLC."
      ]
    },
    {
      "cell_type": "code",
      "metadata": {
        "id": "24p97VuTvYVT"
      },
      "source": [
        "# Licensed under the Apache License, Version 2.0 (the \"License\");\n",
        "# you may not use this file except in compliance with the License.\n",
        "# You may obtain a copy of the License at\n",
        "#\n",
        "# https://www.apache.org/licenses/LICENSE-2.0\n",
        "#\n",
        "# Unless required by applicable law or agreed to in writing, software\n",
        "# distributed under the License is distributed on an \"AS IS\" BASIS,\n",
        "# WITHOUT WARRANTIES OR CONDITIONS OF ANY KIND, either express or implied.\n",
        "# See the License for the specific language governing permissions and\n",
        "# limitations under the License."
      ],
      "execution_count": null,
      "outputs": []
    },
    {
      "cell_type": "markdown",
      "metadata": {
        "id": "CVmV0M74xwm7"
      },
      "source": [
        "# Embeddings"
      ]
    },
    {
      "cell_type": "markdown",
      "metadata": {
        "id": "XuFjSsW53I9_"
      },
      "source": [
        "Embeddings are a powerful way to represent data for deep learning models.\n",
        "\n",
        "In this exercise we will work specifically with embeddings of words. This is one of the most common applications of this technique. We will train word embeddings from scratch on a small dataset and visualize those embeddings."
      ]
    },
    {
      "cell_type": "markdown",
      "metadata": {
        "id": "LboFaJ47r6x-"
      },
      "source": [
        "Embeddings can be trained using either supervised or unsupervised learning. For this exercise we will train a supervised sentiment classifier on IMDB movie reviews. We will learn our own word embeddings in the process."
      ]
    },
    {
      "cell_type": "markdown",
      "metadata": {
        "id": "3NSkp7Qw6aJ4"
      },
      "source": [
        "## Setup"
      ]
    },
    {
      "cell_type": "markdown",
      "metadata": {
        "id": "Zu7rUHNXWBue"
      },
      "source": [
        "First we will set random seeds for reproducible results. Controlling which random numbers are generated ensures we get the same results every time we run this lab. **This should almost never be used in production code.**"
      ]
    },
    {
      "cell_type": "code",
      "metadata": {
        "id": "uI4PxR8OcADw"
      },
      "source": [
        "import numpy as np\n",
        "import tensorflow as tf\n",
        "\n",
        "np.random.seed(42)\n",
        "tf.random.set_seed(42)"
      ],
      "execution_count": null,
      "outputs": []
    },
    {
      "cell_type": "markdown",
      "metadata": {
        "id": "4LloAqop6WeT"
      },
      "source": [
        "## The Dataset"
      ]
    },
    {
      "cell_type": "markdown",
      "metadata": {
        "id": "1zoVKdwCZTK5"
      },
      "source": [
        "We will use the [IMDB dataset](https://www.tensorflow.org/api_docs/python/tf/keras/datasets/imdb) that contains the text of 50,000 movie reviews from the [Internet Movie Database](https://www.imdb.com/). This dataset is conveniently packaged in TensorFlow Keras. "
      ]
    },
    {
      "cell_type": "code",
      "metadata": {
        "id": "xhd_d5vzrc_h",
        "colab": {
          "base_uri": "https://localhost:8080/"
        },
        "outputId": "62509bb8-b60f-48a8-f55b-1c3a07787aeb"
      },
      "source": [
        "from tensorflow import keras\n",
        "\n",
        "imdb = keras.datasets.imdb\n",
        "\n",
        "(train_data, train_labels), (test_data, test_labels) = imdb.load_data()\n",
        "\n",
        "train_data.shape, train_labels.shape, test_data.shape, test_labels.shape"
      ],
      "execution_count": null,
      "outputs": [
        {
          "output_type": "stream",
          "text": [
            "<string>:6: VisibleDeprecationWarning: Creating an ndarray from ragged nested sequences (which is a list-or-tuple of lists-or-tuples-or ndarrays with different lengths or shapes) is deprecated. If you meant to do this, you must specify 'dtype=object' when creating the ndarray\n",
            "/usr/local/lib/python3.7/dist-packages/tensorflow/python/keras/datasets/imdb.py:155: VisibleDeprecationWarning: Creating an ndarray from ragged nested sequences (which is a list-or-tuple of lists-or-tuples-or ndarrays with different lengths or shapes) is deprecated. If you meant to do this, you must specify 'dtype=object' when creating the ndarray\n",
            "  x_train, y_train = np.array(xs[:idx]), np.array(labels[:idx])\n",
            "/usr/local/lib/python3.7/dist-packages/tensorflow/python/keras/datasets/imdb.py:156: VisibleDeprecationWarning: Creating an ndarray from ragged nested sequences (which is a list-or-tuple of lists-or-tuples-or ndarrays with different lengths or shapes) is deprecated. If you meant to do this, you must specify 'dtype=object' when creating the ndarray\n",
            "  x_test, y_test = np.array(xs[idx:]), np.array(labels[idx:])\n"
          ],
          "name": "stderr"
        },
        {
          "output_type": "execute_result",
          "data": {
            "text/plain": [
              "((25000,), (25000,), (25000,), (25000,))"
            ]
          },
          "metadata": {
            "tags": []
          },
          "execution_count": 11
        }
      ]
    },
    {
      "cell_type": "markdown",
      "metadata": {
        "id": "vr02kdK2aHnJ"
      },
      "source": [
        "The reviews have been pre-processed, so the text of each review (a list of words) has been converted to a list of integers, and each integer represents a specific word."
      ]
    },
    {
      "cell_type": "code",
      "metadata": {
        "id": "KERrbc1Xarhj",
        "colab": {
          "base_uri": "https://localhost:8080/"
        },
        "outputId": "0b8eabd5-5a10-44fc-b4aa-5c857c671443"
      },
      "source": [
        "print(train_data[0])"
      ],
      "execution_count": null,
      "outputs": [
        {
          "output_type": "stream",
          "text": [
            "[1, 14, 22, 16, 43, 530, 973, 1622, 1385, 65, 458, 4468, 66, 3941, 4, 173, 36, 256, 5, 25, 100, 43, 838, 112, 50, 670, 22665, 9, 35, 480, 284, 5, 150, 4, 172, 112, 167, 21631, 336, 385, 39, 4, 172, 4536, 1111, 17, 546, 38, 13, 447, 4, 192, 50, 16, 6, 147, 2025, 19, 14, 22, 4, 1920, 4613, 469, 4, 22, 71, 87, 12, 16, 43, 530, 38, 76, 15, 13, 1247, 4, 22, 17, 515, 17, 12, 16, 626, 18, 19193, 5, 62, 386, 12, 8, 316, 8, 106, 5, 4, 2223, 5244, 16, 480, 66, 3785, 33, 4, 130, 12, 16, 38, 619, 5, 25, 124, 51, 36, 135, 48, 25, 1415, 33, 6, 22, 12, 215, 28, 77, 52, 5, 14, 407, 16, 82, 10311, 8, 4, 107, 117, 5952, 15, 256, 4, 31050, 7, 3766, 5, 723, 36, 71, 43, 530, 476, 26, 400, 317, 46, 7, 4, 12118, 1029, 13, 104, 88, 4, 381, 15, 297, 98, 32, 2071, 56, 26, 141, 6, 194, 7486, 18, 4, 226, 22, 21, 134, 476, 26, 480, 5, 144, 30, 5535, 18, 51, 36, 28, 224, 92, 25, 104, 4, 226, 65, 16, 38, 1334, 88, 12, 16, 283, 5, 16, 4472, 113, 103, 32, 15, 16, 5345, 19, 178, 32]\n"
          ],
          "name": "stdout"
        }
      ]
    },
    {
      "cell_type": "markdown",
      "metadata": {
        "id": "NVQdpZrVDd1u"
      },
      "source": [
        "There are also some special placeholder characters. For instance, each review starts with a `start_char` placeholder that defaults to a value of `1`."
      ]
    },
    {
      "cell_type": "code",
      "metadata": {
        "id": "BQnnoFoeCsK-",
        "colab": {
          "base_uri": "https://localhost:8080/"
        },
        "outputId": "7afa6b89-1696-433e-9a72-fbfcc9a0b26c"
      },
      "source": [
        "{review[0]: 'start_char' for review in train_data}"
      ],
      "execution_count": null,
      "outputs": [
        {
          "output_type": "execute_result",
          "data": {
            "text/plain": [
              "{1: 'start_char'}"
            ]
          },
          "metadata": {
            "tags": []
          },
          "execution_count": 13
        }
      ]
    },
    {
      "cell_type": "markdown",
      "metadata": {
        "id": "HA8VWNfy6j1B"
      },
      "source": [
        "Each sentiment label is an integer value of either 0 or 1, where 0 is a negative review, and 1 is a positive review. Thus this is a binary classification problem."
      ]
    },
    {
      "cell_type": "code",
      "metadata": {
        "id": "0huU4bUD7O4p",
        "colab": {
          "base_uri": "https://localhost:8080/"
        },
        "outputId": "51b46197-a1aa-436d-8953-46f8a6fdcc6d"
      },
      "source": [
        "train_labels[0]"
      ],
      "execution_count": null,
      "outputs": [
        {
          "output_type": "execute_result",
          "data": {
            "text/plain": [
              "1"
            ]
          },
          "metadata": {
            "tags": []
          },
          "execution_count": 14
        }
      ]
    },
    {
      "cell_type": "markdown",
      "metadata": {
        "id": "dAQyOxlg9o_v"
      },
      "source": [
        "### Word Index"
      ]
    },
    {
      "cell_type": "markdown",
      "metadata": {
        "id": "-Goq0Frawyuk"
      },
      "source": [
        "It is useful to be able to convert a list of integers back to text. The `imdb.get_word_index()` returns a dictionary of all of the words in the reviews. The words have a numeric value that represents their frequency in the dataset.\n",
        "\n",
        "For instance, if we wanted to find the `25` most common words in the reviews, we could use the code below:"
      ]
    },
    {
      "cell_type": "code",
      "metadata": {
        "colab": {
          "base_uri": "https://localhost:8080/"
        },
        "id": "cdj4W03wXcwd",
        "outputId": "064c9e31-668b-49f6-d475-c74ba03ca796"
      },
      "source": [
        "top_25 = ['' for _ in range(25)]\n",
        "top_25"
      ],
      "execution_count": null,
      "outputs": [
        {
          "output_type": "execute_result",
          "data": {
            "text/plain": [
              "['',\n",
              " '',\n",
              " '',\n",
              " '',\n",
              " '',\n",
              " '',\n",
              " '',\n",
              " '',\n",
              " '',\n",
              " '',\n",
              " '',\n",
              " '',\n",
              " '',\n",
              " '',\n",
              " '',\n",
              " '',\n",
              " '',\n",
              " '',\n",
              " '',\n",
              " '',\n",
              " '',\n",
              " '',\n",
              " '',\n",
              " '',\n",
              " '']"
            ]
          },
          "metadata": {
            "tags": []
          },
          "execution_count": 36
        }
      ]
    },
    {
      "cell_type": "code",
      "metadata": {
        "id": "hGGowYyG7T0x",
        "colab": {
          "base_uri": "https://localhost:8080/"
        },
        "outputId": "f50d2bd9-ca81-45cd-d6ad-93b3bda52ccb"
      },
      "source": [
        "top_25 = ['' for _ in range(25)]\n",
        "for k, v  in imdb.get_word_index().items():\n",
        "  if v <= 25:\n",
        "    top_25[v-1] = k\n",
        "\n",
        "top_25"
      ],
      "execution_count": null,
      "outputs": [
        {
          "output_type": "execute_result",
          "data": {
            "text/plain": [
              "['the',\n",
              " 'and',\n",
              " 'a',\n",
              " 'of',\n",
              " 'to',\n",
              " 'is',\n",
              " 'br',\n",
              " 'in',\n",
              " 'it',\n",
              " 'i',\n",
              " 'this',\n",
              " 'that',\n",
              " 'was',\n",
              " 'as',\n",
              " 'for',\n",
              " 'with',\n",
              " 'movie',\n",
              " 'but',\n",
              " 'film',\n",
              " 'on',\n",
              " 'not',\n",
              " 'you',\n",
              " 'are',\n",
              " 'his',\n",
              " 'have']"
            ]
          },
          "metadata": {
            "tags": []
          },
          "execution_count": 37
        }
      ]
    },
    {
      "cell_type": "markdown",
      "metadata": {
        "id": "Ryk0Bdq7-Mqk"
      },
      "source": [
        "You can see that these words probably aren't helpful for predicting sentiment. The `skip_top=n` argument can be passed to [`load_data`](https://www.tensorflow.org/api_docs/python/tf/keras/datasets/imdb/load_data) to skip over the `n` most common words.\n",
        "\n",
        "Let's reload our data using `skip_top`."
      ]
    },
    {
      "cell_type": "code",
      "metadata": {
        "id": "kbdqmCzt932v",
        "colab": {
          "base_uri": "https://localhost:8080/"
        },
        "outputId": "3a83242e-f417-4e9b-b7a3-d99322ad922d"
      },
      "source": [
        "from tensorflow import keras\n",
        "\n",
        "imdb = keras.datasets.imdb\n",
        "\n",
        "(train_data, train_labels), (test_data, test_labels) = imdb.load_data(\n",
        "    skip_top=25,\n",
        ")\n",
        "\n",
        "train_data.shape, train_labels.shape, test_data.shape, test_labels.shape"
      ],
      "execution_count": null,
      "outputs": [
        {
          "output_type": "stream",
          "text": [
            "<string>:6: VisibleDeprecationWarning: Creating an ndarray from ragged nested sequences (which is a list-or-tuple of lists-or-tuples-or ndarrays with different lengths or shapes) is deprecated. If you meant to do this, you must specify 'dtype=object' when creating the ndarray\n",
            "/usr/local/lib/python3.7/dist-packages/tensorflow/python/keras/datasets/imdb.py:155: VisibleDeprecationWarning: Creating an ndarray from ragged nested sequences (which is a list-or-tuple of lists-or-tuples-or ndarrays with different lengths or shapes) is deprecated. If you meant to do this, you must specify 'dtype=object' when creating the ndarray\n",
            "  x_train, y_train = np.array(xs[:idx]), np.array(labels[:idx])\n",
            "/usr/local/lib/python3.7/dist-packages/tensorflow/python/keras/datasets/imdb.py:156: VisibleDeprecationWarning: Creating an ndarray from ragged nested sequences (which is a list-or-tuple of lists-or-tuples-or ndarrays with different lengths or shapes) is deprecated. If you meant to do this, you must specify 'dtype=object' when creating the ndarray\n",
            "  x_test, y_test = np.array(xs[idx:]), np.array(labels[idx:])\n"
          ],
          "name": "stderr"
        },
        {
          "output_type": "execute_result",
          "data": {
            "text/plain": [
              "((25000,), (25000,), (25000,), (25000,))"
            ]
          },
          "metadata": {
            "tags": []
          },
          "execution_count": 38
        }
      ]
    },
    {
      "cell_type": "markdown",
      "metadata": {
        "id": "HUdkPjm3_mUL"
      },
      "source": [
        "Our data now doesn't include the top `25` words in the reviews. That begs the question: what happens to these words? Are they removed? Are they replaced?\n",
        "\n",
        "It turns out they are replaced by a placeholder value. This value is the `oov_char`, which by default is `2`.\n",
        "\n",
        "If we print out the first training review we can see that the top `25` most common words are now replaced with `2`, including the `start_char`!"
      ]
    },
    {
      "cell_type": "code",
      "metadata": {
        "id": "yn8jnFELAUgs",
        "colab": {
          "base_uri": "https://localhost:8080/"
        },
        "outputId": "ac36998a-bc4a-43c4-fce6-1e258efb828e"
      },
      "source": [
        "train_data[0]"
      ],
      "execution_count": null,
      "outputs": [
        {
          "output_type": "execute_result",
          "data": {
            "text/plain": [
              "[2,\n",
              " 2,\n",
              " 2,\n",
              " 2,\n",
              " 43,\n",
              " 530,\n",
              " 973,\n",
              " 1622,\n",
              " 1385,\n",
              " 65,\n",
              " 458,\n",
              " 4468,\n",
              " 66,\n",
              " 3941,\n",
              " 2,\n",
              " 173,\n",
              " 36,\n",
              " 256,\n",
              " 2,\n",
              " 25,\n",
              " 100,\n",
              " 43,\n",
              " 838,\n",
              " 112,\n",
              " 50,\n",
              " 670,\n",
              " 22665,\n",
              " 2,\n",
              " 35,\n",
              " 480,\n",
              " 284,\n",
              " 2,\n",
              " 150,\n",
              " 2,\n",
              " 172,\n",
              " 112,\n",
              " 167,\n",
              " 21631,\n",
              " 336,\n",
              " 385,\n",
              " 39,\n",
              " 2,\n",
              " 172,\n",
              " 4536,\n",
              " 1111,\n",
              " 2,\n",
              " 546,\n",
              " 38,\n",
              " 2,\n",
              " 447,\n",
              " 2,\n",
              " 192,\n",
              " 50,\n",
              " 2,\n",
              " 2,\n",
              " 147,\n",
              " 2025,\n",
              " 2,\n",
              " 2,\n",
              " 2,\n",
              " 2,\n",
              " 1920,\n",
              " 4613,\n",
              " 469,\n",
              " 2,\n",
              " 2,\n",
              " 71,\n",
              " 87,\n",
              " 2,\n",
              " 2,\n",
              " 43,\n",
              " 530,\n",
              " 38,\n",
              " 76,\n",
              " 2,\n",
              " 2,\n",
              " 1247,\n",
              " 2,\n",
              " 2,\n",
              " 2,\n",
              " 515,\n",
              " 2,\n",
              " 2,\n",
              " 2,\n",
              " 626,\n",
              " 2,\n",
              " 19193,\n",
              " 2,\n",
              " 62,\n",
              " 386,\n",
              " 2,\n",
              " 2,\n",
              " 316,\n",
              " 2,\n",
              " 106,\n",
              " 2,\n",
              " 2,\n",
              " 2223,\n",
              " 5244,\n",
              " 2,\n",
              " 480,\n",
              " 66,\n",
              " 3785,\n",
              " 33,\n",
              " 2,\n",
              " 130,\n",
              " 2,\n",
              " 2,\n",
              " 38,\n",
              " 619,\n",
              " 2,\n",
              " 25,\n",
              " 124,\n",
              " 51,\n",
              " 36,\n",
              " 135,\n",
              " 48,\n",
              " 25,\n",
              " 1415,\n",
              " 33,\n",
              " 2,\n",
              " 2,\n",
              " 2,\n",
              " 215,\n",
              " 28,\n",
              " 77,\n",
              " 52,\n",
              " 2,\n",
              " 2,\n",
              " 407,\n",
              " 2,\n",
              " 82,\n",
              " 10311,\n",
              " 2,\n",
              " 2,\n",
              " 107,\n",
              " 117,\n",
              " 5952,\n",
              " 2,\n",
              " 256,\n",
              " 2,\n",
              " 31050,\n",
              " 2,\n",
              " 3766,\n",
              " 2,\n",
              " 723,\n",
              " 36,\n",
              " 71,\n",
              " 43,\n",
              " 530,\n",
              " 476,\n",
              " 26,\n",
              " 400,\n",
              " 317,\n",
              " 46,\n",
              " 2,\n",
              " 2,\n",
              " 12118,\n",
              " 1029,\n",
              " 2,\n",
              " 104,\n",
              " 88,\n",
              " 2,\n",
              " 381,\n",
              " 2,\n",
              " 297,\n",
              " 98,\n",
              " 32,\n",
              " 2071,\n",
              " 56,\n",
              " 26,\n",
              " 141,\n",
              " 2,\n",
              " 194,\n",
              " 7486,\n",
              " 2,\n",
              " 2,\n",
              " 226,\n",
              " 2,\n",
              " 2,\n",
              " 134,\n",
              " 476,\n",
              " 26,\n",
              " 480,\n",
              " 2,\n",
              " 144,\n",
              " 30,\n",
              " 5535,\n",
              " 2,\n",
              " 51,\n",
              " 36,\n",
              " 28,\n",
              " 224,\n",
              " 92,\n",
              " 25,\n",
              " 104,\n",
              " 2,\n",
              " 226,\n",
              " 65,\n",
              " 2,\n",
              " 38,\n",
              " 1334,\n",
              " 88,\n",
              " 2,\n",
              " 2,\n",
              " 283,\n",
              " 2,\n",
              " 2,\n",
              " 4472,\n",
              " 113,\n",
              " 103,\n",
              " 32,\n",
              " 2,\n",
              " 2,\n",
              " 5345,\n",
              " 2,\n",
              " 178,\n",
              " 32]"
            ]
          },
          "metadata": {
            "tags": []
          },
          "execution_count": 17
        }
      ]
    },
    {
      "cell_type": "markdown",
      "metadata": {
        "id": "r9MTktjo95EN"
      },
      "source": [
        "Let's create a function that can convert a numeric review into text so we can read the reviews ourselves.\n",
        "\n",
        "To do this we need to modify the word index a bit. The index from Keras starts at `1`, but we know that the `start_char` is `1` and that the `oov_char` is `2`. We need to shift the indexes by a few values.\n",
        "\n",
        "The `load_data` function has an argument called `index_from` that defaults to `3`. The reviews are indexed with the first word starting at `3`, while the word index has the first word starting at `1`. Let's fix that and add placeholders for start, oov, and a padding character we'll use to make the reviews equal-sized for modeling."
      ]
    },
    {
      "cell_type": "code",
      "metadata": {
        "id": "LfcdK_js_dQd",
        "colab": {
          "base_uri": "https://localhost:8080/"
        },
        "outputId": "ea926832-03a4-4d69-aede-6848980893e6"
      },
      "source": [
        "# A dictionary mapping each word to an integer index.\n",
        "word_index = imdb.get_word_index()\n",
        "\n",
        "# Reserve the first 3 indices for special tokens.\n",
        "word_index = {k:(v+3) for k,v in word_index.items()}\n",
        "word_index[\"<PAD>\"] = 0\n",
        "word_index[\"<START>\"] = 1\n",
        "word_index[\"<OOV>\"] = 2\n",
        "\n",
        "vocab_size = len(word_index)\n",
        "print('# unique words: {}'.format(vocab_size))"
      ],
      "execution_count": null,
      "outputs": [
        {
          "output_type": "stream",
          "text": [
            "# unique words: 88587\n"
          ],
          "name": "stdout"
        }
      ]
    },
    {
      "cell_type": "markdown",
      "metadata": {
        "id": "_1-v7LMQFgPV"
      },
      "source": [
        "And now let's try to decode a review."
      ]
    },
    {
      "cell_type": "code",
      "metadata": {
        "id": "y5fVfsydTeCB",
        "colab": {
          "base_uri": "https://localhost:8080/",
          "height": 120
        },
        "outputId": "cd17c6e1-3d67-4aef-ef52-2e1363d62145"
      },
      "source": [
        "reverse_word_index = dict([(value, key) for (key, value) in word_index.items()])\n",
        "\n",
        "def decode_review(text):\n",
        "    return ' '.join([reverse_word_index.get(i, '?') for i in text])\n",
        "\n",
        "decode_review(train_data[0])"
      ],
      "execution_count": null,
      "outputs": [
        {
          "output_type": "execute_result",
          "data": {
            "application/vnd.google.colaboratory.intrinsic+json": {
              "type": "string"
            },
            "text/plain": [
              "\"<OOV> <OOV> <OOV> <OOV> just brilliant casting location scenery story direction everyone's really suited <OOV> part they played <OOV> you could just imagine being there robert redford's <OOV> an amazing actor <OOV> now <OOV> same being director norman's father came from <OOV> same scottish island <OOV> myself so <OOV> loved <OOV> fact there <OOV> <OOV> real connection <OOV> <OOV> <OOV> <OOV> witty remarks throughout <OOV> <OOV> were great <OOV> <OOV> just brilliant so much <OOV> <OOV> bought <OOV> <OOV> <OOV> soon <OOV> <OOV> <OOV> released <OOV> retail <OOV> would recommend <OOV> <OOV> everyone <OOV> watch <OOV> <OOV> fly fishing <OOV> amazing really cried at <OOV> end <OOV> <OOV> so sad <OOV> you know what they say if you cry at <OOV> <OOV> <OOV> must have been good <OOV> <OOV> definitely <OOV> also congratulations <OOV> <OOV> two little boy's <OOV> played <OOV> part's <OOV> norman <OOV> paul they were just brilliant children are often left out <OOV> <OOV> praising list <OOV> think because <OOV> stars <OOV> play them all grown up are such <OOV> big profile <OOV> <OOV> whole <OOV> <OOV> these children are amazing <OOV> should be praised <OOV> what they have done don't you think <OOV> whole story <OOV> so lovely because <OOV> <OOV> true <OOV> <OOV> someone's life after all <OOV> <OOV> shared <OOV> us all\""
            ]
          },
          "metadata": {
            "tags": []
          },
          "execution_count": 19
        }
      ]
    },
    {
      "cell_type": "markdown",
      "metadata": {
        "id": "u617UoBvzI_A"
      },
      "source": [
        "### Preprocessing\n",
        "\n",
        "Movie reviews can be different lengths, but inputs to a neural network must all be the same length. Let's take a look at the distribution of review lengths."
      ]
    },
    {
      "cell_type": "code",
      "metadata": {
        "id": "i5oIPHvKMqvt",
        "colab": {
          "base_uri": "https://localhost:8080/",
          "height": 320
        },
        "outputId": "64a04f2a-9ccb-423c-9d7e-c67a6c2fa39a"
      },
      "source": [
        "import matplotlib.pyplot as plt\n",
        "\n",
        "plt.figure(figsize=(5,5))\n",
        "review_lengths = [len(review) for review in train_data]\n",
        "plt.hist(review_lengths, density=True, cumulative=True)\n",
        "plt.yticks(np.arange(0, 1.1, step=0.1))\n",
        "plt.show()"
      ],
      "execution_count": null,
      "outputs": [
        {
          "output_type": "display_data",
          "data": {
            "image/png": "[encoded data removed]",
            "text/plain": [
              "<Figure size 360x360 with 1 Axes>"
            ]
          },
          "metadata": {
            "tags": [],
            "needs_background": "light"
          }
        }
      ]
    },
    {
      "cell_type": "markdown",
      "metadata": {
        "id": "QyUvPXstTup9"
      },
      "source": [
        "Even though the longest review is close to `2500` words long, many of the reviews have fewer than 500 words. \n",
        "\n",
        "We can use the `pad_sequences` function to standardize the lengths of the reviews to `500` words long. Any reviews longer than this will have the extra words truncated, while any reviews shorter than `500` words will have extra `\"<PAD>\"` tokens added to the end. \n",
        "\n",
        "Choosing a standardized length requires balancing efficiency (longer lengths mean slower training) and information loss (shorter lengths may truncate too much valuable information). Aiming for a length that fully covers `90%` of samples is generally reasonable, and you can further tune this as a hyperparameter."
      ]
    },
    {
      "cell_type": "code",
      "metadata": {
        "id": "nX-sWA3Z2uu3"
      },
      "source": [
        "maxlen = 500\n",
        "\n",
        "train_data = keras.preprocessing.sequence.pad_sequences(\n",
        "    train_data, value=word_index[\"<PAD>\"], padding='post', maxlen=maxlen)\n",
        "\n",
        "test_data = keras.preprocessing.sequence.pad_sequences(\n",
        "    test_data, value=word_index[\"<PAD>\"], padding='post', maxlen=maxlen)"
      ],
      "execution_count": null,
      "outputs": []
    },
    {
      "cell_type": "markdown",
      "metadata": {
        "id": "r8Uv3iI725Mb"
      },
      "source": [
        "Let's inspect the first padded review."
      ]
    },
    {
      "cell_type": "code",
      "metadata": {
        "id": "O-6VBoda3agD",
        "colab": {
          "base_uri": "https://localhost:8080/"
        },
        "outputId": "b395f5b1-6b97-446a-f42e-4fe66aac9750"
      },
      "source": [
        "print(decode_review(train_data[0]))"
      ],
      "execution_count": null,
      "outputs": [
        {
          "output_type": "stream",
          "text": [
            "<OOV> <OOV> <OOV> <OOV> just brilliant casting location scenery story direction everyone's really suited <OOV> part they played <OOV> you could just imagine being there robert redford's <OOV> an amazing actor <OOV> now <OOV> same being director norman's father came from <OOV> same scottish island <OOV> myself so <OOV> loved <OOV> fact there <OOV> <OOV> real connection <OOV> <OOV> <OOV> <OOV> witty remarks throughout <OOV> <OOV> were great <OOV> <OOV> just brilliant so much <OOV> <OOV> bought <OOV> <OOV> <OOV> soon <OOV> <OOV> <OOV> released <OOV> retail <OOV> would recommend <OOV> <OOV> everyone <OOV> watch <OOV> <OOV> fly fishing <OOV> amazing really cried at <OOV> end <OOV> <OOV> so sad <OOV> you know what they say if you cry at <OOV> <OOV> <OOV> must have been good <OOV> <OOV> definitely <OOV> also congratulations <OOV> <OOV> two little boy's <OOV> played <OOV> part's <OOV> norman <OOV> paul they were just brilliant children are often left out <OOV> <OOV> praising list <OOV> think because <OOV> stars <OOV> play them all grown up are such <OOV> big profile <OOV> <OOV> whole <OOV> <OOV> these children are amazing <OOV> should be praised <OOV> what they have done don't you think <OOV> whole story <OOV> so lovely because <OOV> <OOV> true <OOV> <OOV> someone's life after all <OOV> <OOV> shared <OOV> us all <PAD> <PAD> <PAD> <PAD> <PAD> <PAD> <PAD> <PAD> <PAD> <PAD> <PAD> <PAD> <PAD> <PAD> <PAD> <PAD> <PAD> <PAD> <PAD> <PAD> <PAD> <PAD> <PAD> <PAD> <PAD> <PAD> <PAD> <PAD> <PAD> <PAD> <PAD> <PAD> <PAD> <PAD> <PAD> <PAD> <PAD> <PAD> <PAD> <PAD> <PAD> <PAD> <PAD> <PAD> <PAD> <PAD> <PAD> <PAD> <PAD> <PAD> <PAD> <PAD> <PAD> <PAD> <PAD> <PAD> <PAD> <PAD> <PAD> <PAD> <PAD> <PAD> <PAD> <PAD> <PAD> <PAD> <PAD> <PAD> <PAD> <PAD> <PAD> <PAD> <PAD> <PAD> <PAD> <PAD> <PAD> <PAD> <PAD> <PAD> <PAD> <PAD> <PAD> <PAD> <PAD> <PAD> <PAD> <PAD> <PAD> <PAD> <PAD> <PAD> <PAD> <PAD> <PAD> <PAD> <PAD> <PAD> <PAD> <PAD> <PAD> <PAD> <PAD> <PAD> <PAD> <PAD> <PAD> <PAD> <PAD> <PAD> <PAD> <PAD> <PAD> <PAD> <PAD> <PAD> <PAD> <PAD> <PAD> <PAD> <PAD> <PAD> <PAD> <PAD> <PAD> <PAD> <PAD> <PAD> <PAD> <PAD> <PAD> <PAD> <PAD> <PAD> <PAD> <PAD> <PAD> <PAD> <PAD> <PAD> <PAD> <PAD> <PAD> <PAD> <PAD> <PAD> <PAD> <PAD> <PAD> <PAD> <PAD> <PAD> <PAD> <PAD> <PAD> <PAD> <PAD> <PAD> <PAD> <PAD> <PAD> <PAD> <PAD> <PAD> <PAD> <PAD> <PAD> <PAD> <PAD> <PAD> <PAD> <PAD> <PAD> <PAD> <PAD> <PAD> <PAD> <PAD> <PAD> <PAD> <PAD> <PAD> <PAD> <PAD> <PAD> <PAD> <PAD> <PAD> <PAD> <PAD> <PAD> <PAD> <PAD> <PAD> <PAD> <PAD> <PAD> <PAD> <PAD> <PAD> <PAD> <PAD> <PAD> <PAD> <PAD> <PAD> <PAD> <PAD> <PAD> <PAD> <PAD> <PAD> <PAD> <PAD> <PAD> <PAD> <PAD> <PAD> <PAD> <PAD> <PAD> <PAD> <PAD> <PAD> <PAD> <PAD> <PAD> <PAD> <PAD> <PAD> <PAD> <PAD> <PAD> <PAD> <PAD> <PAD> <PAD> <PAD> <PAD> <PAD> <PAD> <PAD> <PAD> <PAD> <PAD> <PAD> <PAD> <PAD> <PAD> <PAD> <PAD> <PAD> <PAD> <PAD> <PAD> <PAD> <PAD> <PAD> <PAD> <PAD> <PAD> <PAD> <PAD> <PAD> <PAD> <PAD> <PAD> <PAD> <PAD> <PAD> <PAD> <PAD> <PAD> <PAD> <PAD> <PAD> <PAD> <PAD> <PAD> <PAD> <PAD> <PAD>\n"
          ],
          "name": "stdout"
        }
      ]
    },
    {
      "cell_type": "markdown",
      "metadata": {
        "id": "NW1OYV_piA5M"
      },
      "source": [
        "## Build the Model"
      ]
    },
    {
      "cell_type": "markdown",
      "metadata": {
        "id": "B7Cl6fRyDuDI"
      },
      "source": [
        "### Using the Embedding Layer\n",
        "\n",
        "Keras makes it easy to use embeddings. The [Embedding](https://www.tensorflow.org/api_docs/python/tf/keras/layers/Embedding) layer takes at least two arguments: the number of possible words in the vocabulary and the dimensionality of the embeddings. We will start by using a small embedding size of 2 to make visualization easier."
      ]
    },
    {
      "cell_type": "code",
      "metadata": {
        "id": "bsve7z4TFJyk"
      },
      "source": [
        "embedding_dim = 2\n",
        "\n",
        "embedding_layer = keras.layers.Embedding(vocab_size, embedding_dim)"
      ],
      "execution_count": null,
      "outputs": []
    },
    {
      "cell_type": "markdown",
      "metadata": {
        "id": "ucstp6tBFt94"
      },
      "source": [
        "The Embedding layer can be understood as a lookup table that maps from integer indices, which stand for specific words, to dense vectors (their embeddings). The dimensionality, or width, of the embedding is a parameter you can experiment with to see what works well for your problem, much in the same way you would experiment with the number of neurons in a Dense layer.\n",
        "\n",
        "When we create an Embedding layer, the weights for the embedding are randomly initialized just like any other layer. During training, they are gradually adjusted via backpropagation. Once trained, the learned word embeddings will roughly encode similarities between words (as they were learned for the specific problem our model is trained on).\n",
        "\n",
        "As input, the Embedding layer takes a 2D tensor of integers, of shape `(num_samples, sequence_length)`, where each sample is a sequence of integers. As output, the embedding layer returns a 3D floating point tensor, of shape `(num_samples, sequence_length, embedding_dimensionality)`. "
      ]
    },
    {
      "cell_type": "markdown",
      "metadata": {
        "id": "w9Clq0KWL2dD"
      },
      "source": [
        "### Configure the Model\n",
        "\n",
        "1. The first layer is an Embedding layer. This layer takes the integer-encoded vocabulary and looks up the embedding vector for each word index. These vectors are learned as the model trains. The vectors add a dimension to the output array. The resulting dimensions are: `(batch size, sequence length, embedding size)`.\n",
        "\n",
        "1. Next, we flatten the output from a 2-d array to a 1-d array.\n",
        "\n",
        "1. The last layer is densely connected with a single output node. Using the sigmoid activation function, this value is a float between 0 and 1, representing a probability, or confidence level, that the review is positive."
      ]
    },
    {
      "cell_type": "code",
      "metadata": {
        "id": "3OnpePqclffu",
        "colab": {
          "base_uri": "https://localhost:8080/"
        },
        "outputId": "702e8722-ee25-471b-b239-85791f2adeb0"
      },
      "source": [
        "model = keras.Sequential([\n",
        "  keras.layers.Embedding(vocab_size, embedding_dim, input_length=maxlen),\n",
        "  keras.layers.Flatten(),\n",
        "  keras.layers.Dense(1, activation='sigmoid')\n",
        "])\n",
        "\n",
        "model.summary()"
      ],
      "execution_count": null,
      "outputs": [
        {
          "output_type": "stream",
          "text": [
            "Model: \"sequential\"\n",
            "_________________________________________________________________\n",
            "Layer (type)                 Output Shape              Param #   \n",
            "=================================================================\n",
            "embedding_1 (Embedding)      (None, 500, 2)            177174    \n",
            "_________________________________________________________________\n",
            "flatten (Flatten)            (None, 1000)              0         \n",
            "_________________________________________________________________\n",
            "dense (Dense)                (None, 1)                 1001      \n",
            "=================================================================\n",
            "Total params: 178,175\n",
            "Trainable params: 178,175\n",
            "Non-trainable params: 0\n",
            "_________________________________________________________________\n"
          ],
          "name": "stdout"
        }
      ]
    },
    {
      "cell_type": "markdown",
      "metadata": {
        "id": "f8DaPLm2tki9"
      },
      "source": [
        "### Compile and Train the model"
      ]
    },
    {
      "cell_type": "code",
      "metadata": {
        "id": "Itc2oZQMnz7t"
      },
      "source": [
        "model.compile(\n",
        "  # Calculate loss for a binary classification problem.\n",
        "  loss='binary_crossentropy',\n",
        "\n",
        "  # Adam is one of the most commonly used optimizers.\n",
        "  optimizer=tf.keras.optimizers.Adam(),\n",
        "\n",
        "  # We will only track accuracy for this task.\n",
        "  metrics=['accuracy']\n",
        ")"
      ],
      "execution_count": null,
      "outputs": []
    },
    {
      "cell_type": "markdown",
      "metadata": {
        "id": "ysiCSDsVn2SC"
      },
      "source": [
        "The number of epochs and batch size used during training are both hyperparameters, which means you may need to experiment with different values to improve performance. This also means there's no magic answer for which values to choose.\n",
        "\n",
        "If you've implemented your model correctly, you should observe decreasing training loss within a few epochs. With more epochs (more training), the model will experience more overfitting. You will typically train for at least 5 epochs. For this model, we train for 10 epochs as a reasonable tradeoff between learning (as the validation accuracy is still increasing) and overfitting.\n",
        "\n",
        "Since we have a fairly large dataset, we also want to process data in batches instead of the entire dataset at once. If we choose batch sizes that are too small, we will get slower training per epoch, while larger batch sizes may require more epochs to train and even cause out-of-memory errors. It's good practice to start with a small power of two (e.g., 32), and then experiment with continuously doubling your batch size. For this model, we are able to use a batch size of 512 with good performance."
      ]
    },
    {
      "cell_type": "code",
      "metadata": {
        "id": "mPekaK45pdOc",
        "colab": {
          "base_uri": "https://localhost:8080/"
        },
        "outputId": "2679ca1e-70df-4a0a-f80e-c955058332a1"
      },
      "source": [
        "history = model.fit(\n",
        "    train_data,\n",
        "    train_labels,\n",
        "    epochs=10,\n",
        "    batch_size=512,\n",
        "    validation_split=0.2\n",
        ")"
      ],
      "execution_count": null,
      "outputs": [
        {
          "output_type": "stream",
          "text": [
            "Epoch 1/10\n",
            "40/40 [==============================] - 2s 22ms/step - loss: 0.6929 - accuracy: 0.5034 - val_loss: 0.6924 - val_accuracy: 0.5284\n",
            "Epoch 2/10\n",
            "40/40 [==============================] - 1s 18ms/step - loss: 0.6853 - accuracy: 0.6280 - val_loss: 0.6842 - val_accuracy: 0.6230\n",
            "Epoch 3/10\n",
            "40/40 [==============================] - 1s 18ms/step - loss: 0.6625 - accuracy: 0.7304 - val_loss: 0.6524 - val_accuracy: 0.7310\n",
            "Epoch 4/10\n",
            "40/40 [==============================] - 1s 18ms/step - loss: 0.6074 - accuracy: 0.8044 - val_loss: 0.5892 - val_accuracy: 0.7876\n",
            "Epoch 5/10\n",
            "40/40 [==============================] - 1s 18ms/step - loss: 0.5279 - accuracy: 0.8417 - val_loss: 0.5168 - val_accuracy: 0.8198\n",
            "Epoch 6/10\n",
            "40/40 [==============================] - 1s 18ms/step - loss: 0.4478 - accuracy: 0.8687 - val_loss: 0.4554 - val_accuracy: 0.8422\n",
            "Epoch 7/10\n",
            "40/40 [==============================] - 1s 17ms/step - loss: 0.3815 - accuracy: 0.8887 - val_loss: 0.4086 - val_accuracy: 0.8526\n",
            "Epoch 8/10\n",
            "40/40 [==============================] - 1s 18ms/step - loss: 0.3302 - accuracy: 0.9027 - val_loss: 0.3755 - val_accuracy: 0.8608\n",
            "Epoch 9/10\n",
            "40/40 [==============================] - 1s 18ms/step - loss: 0.2882 - accuracy: 0.9186 - val_loss: 0.3515 - val_accuracy: 0.8702\n",
            "Epoch 10/10\n",
            "40/40 [==============================] - 1s 17ms/step - loss: 0.2560 - accuracy: 0.9270 - val_loss: 0.3334 - val_accuracy: 0.8756\n"
          ],
          "name": "stdout"
        }
      ]
    },
    {
      "cell_type": "markdown",
      "metadata": {
        "id": "dUh9kTq5HxoG"
      },
      "source": [
        "Let's visualize the training and validation accuracy over time."
      ]
    },
    {
      "cell_type": "code",
      "metadata": {
        "id": "VFcv3PYzJwjl",
        "colab": {
          "base_uri": "https://localhost:8080/",
          "height": 567
        },
        "outputId": "899441e4-935f-4e26-9d16-dff4424b6839"
      },
      "source": [
        "acc = history.history['accuracy']\n",
        "val_acc = history.history['val_accuracy']\n",
        "\n",
        "epochs = range(1, len(acc) + 1)\n",
        "\n",
        "plt.figure(figsize=(12,9))\n",
        "plt.plot(epochs, acc, 'bo', label='Training acc')\n",
        "plt.plot(epochs, val_acc, 'b', label='Validation acc')\n",
        "plt.title('Training and validation accuracy')\n",
        "plt.xlabel('Epochs')\n",
        "plt.ylabel('Accuracy')\n",
        "plt.legend(loc='lower right')\n",
        "plt.ylim((0.5,1))\n",
        "\n",
        "plt.show()"
      ],
      "execution_count": null,
      "outputs": [
        {
          "output_type": "display_data",
          "data": {
            "image/png": "[encoded data removed]",
            "text/plain": [
              "<Figure size 864x648 with 1 Axes>"
            ]
          },
          "metadata": {
            "tags": [],
            "needs_background": "light"
          }
        }
      ]
    },
    {
      "cell_type": "markdown",
      "metadata": {
        "id": "ODIrlPDiJrDP"
      },
      "source": [
        "With this approach, our model reaches a validation accuracy of around 87%. (Note that the model is already beginning to overfit, as reflected in the diverging training and validation accuracy curves.)"
      ]
    },
    {
      "cell_type": "markdown",
      "metadata": {
        "id": "uLCSnMlwJy3j"
      },
      "source": [
        "## Visualize Embeddings"
      ]
    },
    {
      "cell_type": "markdown",
      "metadata": {
        "id": "PMqbq-qMnCR7"
      },
      "source": [
        "### Retrieve the Learned Embeddings\n",
        "\n",
        "Next, let's retrieve the word embeddings learned during training. This will be a matrix of shape `(vocab size, embedding dimension)`."
      ]
    },
    {
      "cell_type": "code",
      "metadata": {
        "id": "KncdCMmgnHtU",
        "colab": {
          "base_uri": "https://localhost:8080/"
        },
        "outputId": "957beca6-7fa9-4110-8740-865303f63ae7"
      },
      "source": [
        "e = model.layers[0]\n",
        "embedding_matrix = e.get_weights()[0]\n",
        "print(embedding_matrix.shape)"
      ],
      "execution_count": null,
      "outputs": [
        {
          "output_type": "stream",
          "text": [
            "(88587, 2)\n"
          ],
          "name": "stdout"
        }
      ]
    },
    {
      "cell_type": "markdown",
      "metadata": {
        "id": "ilLX1zdS4PIn"
      },
      "source": [
        "Looking at all 80,000+ at once would be overwhelming, so let's explore the learned word embeddings on a small set of terms. Most of these terms are generally strongly indicative of sentiment, but some are added just for fun."
      ]
    },
    {
      "cell_type": "code",
      "metadata": {
        "id": "D3nzbrDtp1VO"
      },
      "source": [
        "informative_terms = [ \"bad\", \"great\", \"best\", \"worst\", \"fun\", \"beautiful\",\n",
        "                      \"excellent\", \"poor\", \"boring\", \"awful\", \"terrible\",\n",
        "                      \"definitely\", \"perfect\", \"liked\", \"worse\", \"waste\",\n",
        "                      \"entertaining\", \"loved\", \"unfortunately\", \"amazing\",\n",
        "                      \"enjoyed\", \"favorite\", \"horrible\", \"brilliant\", \"highly\",\n",
        "                      \"simple\", \"annoying\", \"today\", \"hilarious\", \"enjoyable\",\n",
        "                      \"dull\", \"fantastic\", \"poorly\", \"fails\", \"disappointing\",\n",
        "                      \"disappointment\", \"not\", \"him\", \"her\", \"good\", \"time\",\n",
        "                      \"sad\", \"exciting\", \"slow\", \"movie\", \"film\", \"action\",\n",
        "                      \"comedy\", \"drama\", \"fabulous\"]"
      ],
      "execution_count": null,
      "outputs": []
    },
    {
      "cell_type": "markdown",
      "metadata": {
        "id": "axURTCgJwOjY"
      },
      "source": [
        "Now we plot each word in `informative_terms` on a two-dimensional graph. Recall that we are using two-dimensional embeddings, so consider the first value as an x-value and the second value as a y-value. \n",
        "\n",
        "*Note: If the displayed plot is too small, try running the cell again.*"
      ]
    },
    {
      "cell_type": "code",
      "metadata": {
        "id": "p2kNso7P6fem",
        "colab": {
          "base_uri": "https://localhost:8080/",
          "height": 1000
        },
        "outputId": "cbdbc359-95a1-44cc-b476-fee85af83f8f"
      },
      "source": [
        "for word in informative_terms:\n",
        "  word_num = word_index[word]\n",
        "  embeddings = embedding_matrix[word_num]\n",
        "  plt.text(embeddings[0], embeddings[1], word)\n",
        "\n",
        "# Do a little set-up to make sure the plot displays nicely.\n",
        "plt.rcParams[\"figure.figsize\"] = (25, 25)\n",
        "plt.xlim(1.2 * embedding_matrix.min(), 1.2 * embedding_matrix.max())\n",
        "plt.ylim(1.2 * embedding_matrix.min(), 1.2 * embedding_matrix.max())\n",
        "plt.show()"
      ],
      "execution_count": null,
      "outputs": [
        {
          "output_type": "display_data",
          "data": {
            "image/png": "[encoded data removed]",
            "text/plain": [
              "<Figure size 1800x1800 with 1 Axes>"
            ]
          },
          "metadata": {
            "tags": [],
            "needs_background": "light"
          }
        }
      ]
    },
    {
      "cell_type": "markdown",
      "metadata": {
        "id": "M89j_dhuIGJ2"
      },
      "source": [
        "We can see that positive words tend to cluster around each, other and negative words tend to cluster around each other."
      ]
    },
    {
      "cell_type": "markdown",
      "metadata": {
        "id": "fxE73zG6IPys"
      },
      "source": [
        "## Final Test"
      ]
    },
    {
      "cell_type": "markdown",
      "metadata": {
        "id": "7ANB1E92IScT"
      },
      "source": [
        "Let's see how our model performs on the holdout dataset."
      ]
    },
    {
      "cell_type": "code",
      "metadata": {
        "id": "K2onqLu0IZgH",
        "colab": {
          "base_uri": "https://localhost:8080/"
        },
        "outputId": "fe82c9b1-5ca0-4071-d9dc-04979e47dd70"
      },
      "source": [
        "predictions = model.predict(test_data)\n",
        "predictions"
      ],
      "execution_count": null,
      "outputs": [
        {
          "output_type": "execute_result",
          "data": {
            "text/plain": [
              "array([[0.43552172],\n",
              "       [0.99037814],\n",
              "       [0.8708863 ],\n",
              "       ...,\n",
              "       [0.2065554 ],\n",
              "       [0.49000606],\n",
              "       [0.41394055]], dtype=float32)"
            ]
          },
          "metadata": {
            "tags": []
          },
          "execution_count": 31
        }
      ]
    },
    {
      "cell_type": "markdown",
      "metadata": {
        "id": "rYwpxe1PIhJW"
      },
      "source": [
        "The prediction values that we get are floating point numbers, but we want to convert these to a prediction of `0` for negative and `1` for positive. One way to do this is to simply round."
      ]
    },
    {
      "cell_type": "code",
      "metadata": {
        "id": "ucV1VqAEIq1A",
        "colab": {
          "base_uri": "https://localhost:8080/"
        },
        "outputId": "d1334fe9-5a68-4a17-c68a-96c34a40bbac"
      },
      "source": [
        "predictions = [int(round(prediction)) for prediction in predictions.flatten()]\n",
        "predictions[:10]"
      ],
      "execution_count": null,
      "outputs": [
        {
          "output_type": "execute_result",
          "data": {
            "text/plain": [
              "[0, 1, 1, 0, 1, 0, 1, 0, 1, 1]"
            ]
          },
          "metadata": {
            "tags": []
          },
          "execution_count": 32
        }
      ]
    },
    {
      "cell_type": "markdown",
      "metadata": {
        "id": "laJ_ZjG6I3zj"
      },
      "source": [
        "And now we can measure our model quality."
      ]
    },
    {
      "cell_type": "code",
      "metadata": {
        "id": "vOAso2BBI76X",
        "colab": {
          "base_uri": "https://localhost:8080/"
        },
        "outputId": "2f86d70b-fc83-4c48-98c8-ff532b31eaba"
      },
      "source": [
        "precision = tf.keras.metrics.Precision()\n",
        "precision.update_state(test_labels, predictions)\n",
        "\n",
        "recall = tf.keras.metrics.Recall()\n",
        "recall.update_state(test_labels, predictions)\n",
        "\n",
        "print('Precision: {}, Recall: {}'.format(\n",
        "    precision.result().numpy(), recall.result().numpy()))"
      ],
      "execution_count": null,
      "outputs": [
        {
          "output_type": "stream",
          "text": [
            "Precision: 0.8548285961151123, Recall: 0.8738399744033813\n"
          ],
          "name": "stdout"
        }
      ]
    },
    {
      "cell_type": "markdown",
      "metadata": {
        "id": "gE8uZeJwWsqC"
      },
      "source": [
        "# Exercises"
      ]
    },
    {
      "cell_type": "markdown",
      "metadata": {
        "id": "hIx-sOKz6qLl"
      },
      "source": [
        "## Exercise 1"
      ]
    },
    {
      "cell_type": "markdown",
      "metadata": {
        "id": "ZvHk7PYtkTY6"
      },
      "source": [
        "What structures do you see in the embeddings of the words that were visualized earlier in this lab?"
      ]
    },
    {
      "cell_type": "markdown",
      "metadata": {
        "id": "LMeBYRbEW2eB"
      },
      "source": [
        "### **Student Solution**"
      ]
    },
    {
      "cell_type": "markdown",
      "metadata": {
        "id": "jUWVyvqq6vj7"
      },
      "source": [
        "*The two dimensional embeddings are nearly symmetric so that they follow a progression similar to the linear function x=y as shown by the informative terms graph.*\n",
        "\n"
      ]
    },
    {
      "cell_type": "markdown",
      "metadata": {
        "id": "hCbn3FCcMf0I"
      },
      "source": [
        "---"
      ]
    },
    {
      "cell_type": "markdown",
      "metadata": {
        "id": "tI9DB-Dn76O-"
      },
      "source": [
        "## Exercise 2: Higher-Dimensional Embeddings"
      ]
    },
    {
      "cell_type": "markdown",
      "metadata": {
        "id": "qhlN0BGnkVf3"
      },
      "source": [
        "Now we can visualize two-dimensional embeddings, but recall that our original vocabulary had over 80,000 words; we're missing a lot of information if we only use two dimensions!\n",
        "\n",
        "Typical embedding dimensions are 50, 100, 200, 300, and sometimes even larger.\n",
        "\n",
        "Retrain our earlier model with the same hyperparameters, using **50-dimensional** embeddings and retrieve the learned embeddings from this trained model. You should observe a slower training time and much higher training accuracy after 10 epochs.\n",
        "\n",
        "Print out the precision and recall on the testing holdout data."
      ]
    },
    {
      "cell_type": "markdown",
      "metadata": {
        "id": "CU2jvjHHXE0t"
      },
      "source": [
        "### **Student Solution**"
      ]
    },
    {
      "cell_type": "code",
      "metadata": {
        "id": "D5ab4EOm8aYW",
        "colab": {
          "base_uri": "https://localhost:8080/"
        },
        "outputId": "b9f7a35a-1973-457c-97f7-631436df4933"
      },
      "source": [
        "import numpy as np\n",
        "import tensorflow as tf\n",
        "\n",
        "np.random.seed(42)\n",
        "tf.random.set_seed(42)\n",
        "\n",
        "# only uncomment one of these depending on whether you want top 25 words\n",
        "from tensorflow import keras\n",
        "\n",
        "imdb = keras.datasets.imdb\n",
        "\n",
        "(train_data, train_labels), (test_data, test_labels) = imdb.load_data()\n",
        "\n",
        "train_data.shape, train_labels.shape, test_data.shape, test_labels.shape\n",
        "\n",
        "# imdb = keras.datasets.imdb\n",
        "\n",
        "# (train_data, train_labels), (test_data, test_labels) = imdb.load_data(\n",
        "#     skip_top=25,)\n",
        "\n",
        "# train_data.shape, train_labels.shape, test_data.shape, test_labels.shape"
      ],
      "execution_count": null,
      "outputs": [
        {
          "output_type": "stream",
          "text": [
            "<string>:6: VisibleDeprecationWarning: Creating an ndarray from ragged nested sequences (which is a list-or-tuple of lists-or-tuples-or ndarrays with different lengths or shapes) is deprecated. If you meant to do this, you must specify 'dtype=object' when creating the ndarray\n",
            "/usr/local/lib/python3.7/dist-packages/tensorflow/python/keras/datasets/imdb.py:155: VisibleDeprecationWarning: Creating an ndarray from ragged nested sequences (which is a list-or-tuple of lists-or-tuples-or ndarrays with different lengths or shapes) is deprecated. If you meant to do this, you must specify 'dtype=object' when creating the ndarray\n",
            "  x_train, y_train = np.array(xs[:idx]), np.array(labels[:idx])\n",
            "/usr/local/lib/python3.7/dist-packages/tensorflow/python/keras/datasets/imdb.py:156: VisibleDeprecationWarning: Creating an ndarray from ragged nested sequences (which is a list-or-tuple of lists-or-tuples-or ndarrays with different lengths or shapes) is deprecated. If you meant to do this, you must specify 'dtype=object' when creating the ndarray\n",
            "  x_test, y_test = np.array(xs[idx:]), np.array(labels[idx:])\n"
          ],
          "name": "stderr"
        },
        {
          "output_type": "execute_result",
          "data": {
            "text/plain": [
              "((25000,), (25000,), (25000,), (25000,))"
            ]
          },
          "metadata": {
            "tags": []
          },
          "execution_count": 41
        }
      ]
    },
    {
      "cell_type": "code",
      "metadata": {
        "colab": {
          "base_uri": "https://localhost:8080/"
        },
        "id": "1cNgw8I0b8P_",
        "outputId": "55b04114-00e7-42b2-f77d-f04a72421fdd"
      },
      "source": [
        "maxlen = 500\n",
        "\n",
        "train_data = keras.preprocessing.sequence.pad_sequences(\n",
        "    train_data, value=word_index[\"<PAD>\"], padding='post', maxlen=maxlen)\n",
        "\n",
        "test_data = keras.preprocessing.sequence.pad_sequences(\n",
        "    test_data, value=word_index[\"<PAD>\"], padding='post', maxlen=maxlen)\n",
        "\n",
        "## changed from 2 to 50\n",
        "embedding_dim = 50\n",
        "## changed from 2 to 50\n",
        "\n",
        "embedding_layer = keras.layers.Embedding(vocab_size, embedding_dim)\n",
        "\n",
        "model = keras.Sequential([\n",
        "  keras.layers.Embedding(vocab_size, embedding_dim, input_length=maxlen),\n",
        "  keras.layers.Flatten(),\n",
        "  keras.layers.Dense(1, activation='sigmoid')\n",
        "])\n",
        "\n",
        "# model.summary()\n",
        "\n",
        "model.compile(\n",
        "  # Calculate loss for a binary classification problem.\n",
        "  loss='binary_crossentropy',\n",
        "\n",
        "  # Adam is one of the most commonly used optimizers.\n",
        "  optimizer=tf.keras.optimizers.Adam(),\n",
        "\n",
        "  # We will only track accuracy for this task.\n",
        "  metrics=['accuracy']\n",
        ")\n",
        "\n",
        "history = model.fit(\n",
        "    train_data,\n",
        "    train_labels,\n",
        "    epochs=10,\n",
        "    batch_size=512,\n",
        "    validation_split=0.2\n",
        ")"
      ],
      "execution_count": null,
      "outputs": [
        {
          "output_type": "stream",
          "text": [
            "Epoch 1/10\n",
            "40/40 [==============================] - 5s 118ms/step - loss: 0.6891 - accuracy: 0.5486 - val_loss: 0.6662 - val_accuracy: 0.6560\n",
            "Epoch 2/10\n",
            "40/40 [==============================] - 5s 114ms/step - loss: 0.5626 - accuracy: 0.7901 - val_loss: 0.4759 - val_accuracy: 0.8038\n",
            "Epoch 3/10\n",
            "40/40 [==============================] - 5s 114ms/step - loss: 0.3382 - accuracy: 0.8899 - val_loss: 0.3460 - val_accuracy: 0.8642\n",
            "Epoch 4/10\n",
            "40/40 [==============================] - 5s 114ms/step - loss: 0.2116 - accuracy: 0.9391 - val_loss: 0.3053 - val_accuracy: 0.8768\n",
            "Epoch 5/10\n",
            "40/40 [==============================] - 5s 113ms/step - loss: 0.1432 - accuracy: 0.9649 - val_loss: 0.2867 - val_accuracy: 0.8850\n",
            "Epoch 6/10\n",
            "40/40 [==============================] - 5s 114ms/step - loss: 0.0997 - accuracy: 0.9800 - val_loss: 0.2828 - val_accuracy: 0.8850\n",
            "Epoch 7/10\n",
            "40/40 [==============================] - 5s 116ms/step - loss: 0.0711 - accuracy: 0.9893 - val_loss: 0.2843 - val_accuracy: 0.8846\n",
            "Epoch 8/10\n",
            "40/40 [==============================] - 5s 115ms/step - loss: 0.0519 - accuracy: 0.9937 - val_loss: 0.2801 - val_accuracy: 0.8908\n",
            "Epoch 9/10\n",
            "40/40 [==============================] - 5s 116ms/step - loss: 0.0388 - accuracy: 0.9966 - val_loss: 0.2868 - val_accuracy: 0.8874\n",
            "Epoch 10/10\n",
            "40/40 [==============================] - 5s 114ms/step - loss: 0.0297 - accuracy: 0.9980 - val_loss: 0.2877 - val_accuracy: 0.8900\n"
          ],
          "name": "stdout"
        }
      ]
    },
    {
      "cell_type": "code",
      "metadata": {
        "colab": {
          "base_uri": "https://localhost:8080/",
          "height": 567
        },
        "id": "muWQib4Qci1K",
        "outputId": "da067f1d-d433-408e-a4b7-bb321afd4603"
      },
      "source": [
        "acc = history.history['accuracy']\n",
        "val_acc = history.history['val_accuracy']\n",
        "\n",
        "epochs = range(1, len(acc) + 1)\n",
        "\n",
        "plt.figure(figsize=(12,9))\n",
        "plt.plot(epochs, acc, 'bo', label='Training acc')\n",
        "plt.plot(epochs, val_acc, 'b', label='Validation acc')\n",
        "plt.title('Training and validation accuracy')\n",
        "plt.xlabel('Epochs')\n",
        "plt.ylabel('Accuracy')\n",
        "plt.legend(loc='lower right')\n",
        "plt.ylim((0.5,1))\n",
        "\n",
        "plt.show()"
      ],
      "execution_count": null,
      "outputs": [
        {
          "output_type": "display_data",
          "data": {
            "image/png": "[encoded data removed]",
            "text/plain": [
              "<Figure size 864x648 with 1 Axes>"
            ]
          },
          "metadata": {
            "tags": [],
            "needs_background": "light"
          }
        }
      ]
    },
    {
      "cell_type": "code",
      "metadata": {
        "colab": {
          "base_uri": "https://localhost:8080/"
        },
        "id": "iWAmchEbcpto",
        "outputId": "793e7c90-5fdf-49a2-e1ed-5cfac852f4c6"
      },
      "source": [
        "precision = tf.keras.metrics.Precision()\n",
        "precision.update_state(test_labels, predictions)\n",
        "\n",
        "recall = tf.keras.metrics.Recall()\n",
        "recall.update_state(test_labels, predictions)\n",
        "\n",
        "print('Precision: {}, Recall: {}'.format(\n",
        "    precision.result().numpy(), recall.result().numpy()))"
      ],
      "execution_count": null,
      "outputs": [
        {
          "output_type": "stream",
          "text": [
            "Precision: 0.8548285961151123, Recall: 0.8738399744033813\n"
          ],
          "name": "stdout"
        }
      ]
    },
    {
      "cell_type": "markdown",
      "metadata": {
        "id": "heyIqwTPQffC"
      },
      "source": [
        "## Exercise 3: Embedding Projector"
      ]
    },
    {
      "cell_type": "markdown",
      "metadata": {
        "id": "Q-2TJScF9DEM"
      },
      "source": [
        "In this section we'll introduce the [Embedding Projector](http://projector.tensorflow.org/), a tool to visualize high-dimensional embeddings.\n",
        "\n",
        "We will now write the embeddings to disk. To use the Embedding Projector, we will upload two files in tab separated format: a file of vectors (containing the embeddings) and a file of metadata (containing the words). We will again only analyze our small set of terms from above.\n",
        "\n",
        "Run the code block below to create the files necessary for the Embedding Projector."
      ]
    },
    {
      "cell_type": "code",
      "metadata": {
        "id": "ub8R-OiRz1PE",
        "colab": {
          "base_uri": "https://localhost:8080/",
          "height": 17
        },
        "outputId": "5c6f3627-d181-480f-b9b7-d2cc5f3834fd"
      },
      "source": [
        "import io\n",
        "\n",
        "e = model.layers[0]\n",
        "embedding_matrix = e.get_weights()[0]\n",
        "\n",
        "out_v = io.open('vecs.tsv', 'w', encoding='utf-8')\n",
        "out_m = io.open('meta.tsv', 'w', encoding='utf-8')\n",
        "for word in informative_terms:\n",
        "  word_num = word_index[word]\n",
        "  embeddings = embedding_matrix[word_num]\n",
        "\n",
        "  out_m.write(word.encode(\"utf-8\").decode(\"utf-8\")  + \"\\n\")\n",
        "  out_v.write('\\t'.join(\n",
        "      [str(x).encode(\"utf-8\").decode(\"utf-8\") for x in embeddings]) + \"\\n\")\n",
        "\n",
        "out_v.close()\n",
        "out_m.close()\n",
        "\n",
        "try:\n",
        "  from google.colab import files\n",
        "except ImportError:\n",
        "  pass\n",
        "else:\n",
        "  files.download('vecs.tsv')\n",
        "  files.download('meta.tsv')"
      ],
      "execution_count": null,
      "outputs": [
        {
          "output_type": "display_data",
          "data": {
            "application/javascript": [
              "\n",
              "    async function download(id, filename, size) {\n",
              "      if (!google.colab.kernel.accessAllowed) {\n",
              "        return;\n",
              "      }\n",
              "      const div = document.createElement('div');\n",
              "      const label = document.createElement('label');\n",
              "      label.textContent = `Downloading \"${filename}\": `;\n",
              "      div.appendChild(label);\n",
              "      const progress = document.createElement('progress');\n",
              "      progress.max = size;\n",
              "      div.appendChild(progress);\n",
              "      document.body.appendChild(div);\n",
              "\n",
              "      const buffers = [];\n",
              "      let downloaded = 0;\n",
              "\n",
              "      const channel = await google.colab.kernel.comms.open(id);\n",
              "      // Send a message to notify the kernel that we're ready.\n",
              "      channel.send({})\n",
              "\n",
              "      for await (const message of channel.messages) {\n",
              "        // Send a message to notify the kernel that we're ready.\n",
              "        channel.send({})\n",
              "        if (message.buffers) {\n",
              "          for (const buffer of message.buffers) {\n",
              "            buffers.push(buffer);\n",
              "            downloaded += buffer.byteLength;\n",
              "            progress.value = downloaded;\n",
              "          }\n",
              "        }\n",
              "      }\n",
              "      const blob = new Blob(buffers, {type: 'application/binary'});\n",
              "      const a = document.createElement('a');\n",
              "      a.href = window.URL.createObjectURL(blob);\n",
              "      a.download = filename;\n",
              "      div.appendChild(a);\n",
              "      a.click();\n",
              "      div.remove();\n",
              "    }\n",
              "  "
            ],
            "text/plain": [
              "<IPython.core.display.Javascript object>"
            ]
          },
          "metadata": {
            "tags": []
          }
        },
        {
          "output_type": "display_data",
          "data": {
            "application/javascript": [
              "download(\"download_af5a8118-5a22-4fcc-bbfd-192fe7bfc466\", \"vecs.tsv\", 29218)"
            ],
            "text/plain": [
              "<IPython.core.display.Javascript object>"
            ]
          },
          "metadata": {
            "tags": []
          }
        },
        {
          "output_type": "display_data",
          "data": {
            "application/javascript": [
              "\n",
              "    async function download(id, filename, size) {\n",
              "      if (!google.colab.kernel.accessAllowed) {\n",
              "        return;\n",
              "      }\n",
              "      const div = document.createElement('div');\n",
              "      const label = document.createElement('label');\n",
              "      label.textContent = `Downloading \"${filename}\": `;\n",
              "      div.appendChild(label);\n",
              "      const progress = document.createElement('progress');\n",
              "      progress.max = size;\n",
              "      div.appendChild(progress);\n",
              "      document.body.appendChild(div);\n",
              "\n",
              "      const buffers = [];\n",
              "      let downloaded = 0;\n",
              "\n",
              "      const channel = await google.colab.kernel.comms.open(id);\n",
              "      // Send a message to notify the kernel that we're ready.\n",
              "      channel.send({})\n",
              "\n",
              "      for await (const message of channel.messages) {\n",
              "        // Send a message to notify the kernel that we're ready.\n",
              "        channel.send({})\n",
              "        if (message.buffers) {\n",
              "          for (const buffer of message.buffers) {\n",
              "            buffers.push(buffer);\n",
              "            downloaded += buffer.byteLength;\n",
              "            progress.value = downloaded;\n",
              "          }\n",
              "        }\n",
              "      }\n",
              "      const blob = new Blob(buffers, {type: 'application/binary'});\n",
              "      const a = document.createElement('a');\n",
              "      a.href = window.URL.createObjectURL(blob);\n",
              "      a.download = filename;\n",
              "      div.appendChild(a);\n",
              "      a.click();\n",
              "      div.remove();\n",
              "    }\n",
              "  "
            ],
            "text/plain": [
              "<IPython.core.display.Javascript object>"
            ]
          },
          "metadata": {
            "tags": []
          }
        },
        {
          "output_type": "display_data",
          "data": {
            "application/javascript": [
              "download(\"download_72e5316d-8d0e-4362-91af-cb07cc2687ea\", \"meta.tsv\", 372)"
            ],
            "text/plain": [
              "<IPython.core.display.Javascript object>"
            ]
          },
          "metadata": {
            "tags": []
          }
        }
      ]
    },
    {
      "cell_type": "markdown",
      "metadata": {
        "id": "UIhhw4L_93aO"
      },
      "source": [
        "\n",
        "\n",
        "\n",
        "Finally, open the [Embedding Projector](http://projector.tensorflow.org/):\n",
        "\n",
        "*   Click on \"Load\" in the Data panel.\n",
        "*   Upload the two files we created above: `vecs.tsv` and `meta.tsv`.\n",
        "\n",
        "The embeddings we have trained will now be displayed. You can search for words to find their closest neighbors.\n",
        "\n",
        "*Note: Your results may be a bit different, depending on how weights were randomly initialized before training the embedding layer.*"
      ]
    },
    {
      "cell_type": "markdown",
      "metadata": {
        "id": "721P7udZRGSq"
      },
      "source": [
        "### Question 1"
      ]
    },
    {
      "cell_type": "markdown",
      "metadata": {
        "id": "7ZHtRLBwka1x"
      },
      "source": [
        "How do the structures of these embeddings compare to the two-dimensional embeddings we visualized earlier?"
      ]
    },
    {
      "cell_type": "markdown",
      "metadata": {
        "id": "RYOIudwSRL6O"
      },
      "source": [
        "**Student Solution**"
      ]
    },
    {
      "cell_type": "markdown",
      "metadata": {
        "id": "G0wJ755YROXi"
      },
      "source": [
        "> *There is no longer a simple linear x=y arrangement of positive and negative words. While positive and negative words are still at opposite polls, additional words like film and movie are grouped together and not located on the same 3D line as positive and negative words. There are also clear outlier words such as time and action which have a slight bias towards positive or negative, but are separate from the positive and negative clusters*"
      ]
    },
    {
      "cell_type": "markdown",
      "metadata": {
        "id": "ZxYPkeOvRS9C"
      },
      "source": [
        "---"
      ]
    },
    {
      "cell_type": "markdown",
      "metadata": {
        "id": "nxwdOW0MR1JM"
      },
      "source": [
        "### Question 2"
      ]
    },
    {
      "cell_type": "markdown",
      "metadata": {
        "id": "NYit1JO0R2uH"
      },
      "source": [
        "List at least `5` words that seem to add little value to the sentiment analysis."
      ]
    },
    {
      "cell_type": "markdown",
      "metadata": {
        "id": "rVSboMQQR8fK"
      },
      "source": [
        "**Student Solution**"
      ]
    },
    {
      "cell_type": "markdown",
      "metadata": {
        "id": "a2xFw2EOR-qo"
      },
      "source": [
        "> 1. *Him*\n",
        "> 1. *Her*\n",
        "> 1. *Film*\n",
        "> 1. *Movie*\n",
        "> 1. *Time*"
      ]
    }
  ]
}